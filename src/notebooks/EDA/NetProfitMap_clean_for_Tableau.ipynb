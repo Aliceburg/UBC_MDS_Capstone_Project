{
 "cells": [
  {
   "cell_type": "code",
   "execution_count": 3,
   "id": "95c8493a-6370-4c56-9b79-22bbc6e41c22",
   "metadata": {},
   "outputs": [],
   "source": [
    "import pandas as pd\n",
    "import numpy as np\n",
    "import altair as alt"
   ]
  },
  {
   "cell_type": "code",
   "execution_count": 4,
   "id": "4ce57c6c-5b34-4313-b4da-c91854f6c708",
   "metadata": {},
   "outputs": [],
   "source": [
    "sb_12dig_ind = pd.read_csv(\"sb_12dig_ind.csv\")"
   ]
  },
  {
   "cell_type": "code",
   "execution_count": 5,
   "id": "37be1cd7-c5a0-44d1-aa9f-3fd5302a0fa4",
   "metadata": {},
   "outputs": [
    {
     "data": {
      "text/plain": [
       "Index(['Unnamed: 0',\n",
       "       'North American Industry Classification System, NAICS - code',\n",
       "       'North American Industry Classification System, NAICS',\n",
       "       'Geography - code', 'Geography', 'Location indicator - code',\n",
       "       'Location indicator', 'Incorporation status - code',\n",
       "       'Incorporation status', 'Reference year', 'Total number of businesses',\n",
       "       'Total revenue',\n",
       "       'Sales of goods and services* ( percent of total revenue)',\n",
       "       'Cost of sales (direct expenses) (%)',\n",
       "       'Operating expenses (indirect expenses) (%)', 'Total expenses',\n",
       "       'Cost of sales (direct expenses)',\n",
       "       'Operating expenses (indirect expenses)', 'Net Profit/Loss',\n",
       "       'Total assets', 'Total current assets', 'Total liabilities',\n",
       "       'Total current liabilities', 'Total equity',\n",
       "       'Debt to equity ratio (times)', 'Current debt to equity (%)',\n",
       "       'Revenue to equity ratio (times)', 'Net profit to equity (%)',\n",
       "       'Gross margin (%)', 'Percent of profitable businesses'],\n",
       "      dtype='object')"
      ]
     },
     "execution_count": 5,
     "metadata": {},
     "output_type": "execute_result"
    }
   ],
   "source": [
    "sb_12dig_ind.columns"
   ]
  },
  {
   "cell_type": "code",
   "execution_count": 6,
   "id": "82dad6e1-b33c-49d7-99d7-24853a89c468",
   "metadata": {},
   "outputs": [],
   "source": [
    "col = ['North American Industry Classification System, NAICS', 'Geography', 'Incorporation status',\n",
    "'Location indicator', 'Reference year', 'Net Profit/Loss', 'Gross margin (%)']"
   ]
  },
  {
   "cell_type": "code",
   "execution_count": 7,
   "id": "34716490-bf7d-4aee-8fdf-a76cb7df91fc",
   "metadata": {},
   "outputs": [],
   "source": [
    "sb_12dig_ind_tableau = sb_12dig_ind[col]"
   ]
  },
  {
   "cell_type": "code",
   "execution_count": 9,
   "id": "0ca20b4e-5e1b-4cf6-b531-f041a0e7ffbf",
   "metadata": {},
   "outputs": [],
   "source": [
    "rm_geo = list(['Altantic', 'Prairies', 'Territories'])\n",
    "sb_12dig_ind_tableau = sb_12dig_ind_tableau.loc[~sb_12dig_ind_tableau.Geography.isin(rm_geo)]\n",
    "sb_12dig_ind_tableau.loc[sb_12dig_ind_tableau.Geography=='Nordwest Territories','Geography'] = 'Northwest Territories'\n"
   ]
  },
  {
   "cell_type": "code",
   "execution_count": 11,
   "id": "eea7322e-ef18-4889-9f99-ac58040ad74f",
   "metadata": {},
   "outputs": [
    {
     "data": {
      "text/plain": [
       "array(['Canada', 'Newfoundland and Labrador', 'Prince Edward Island',\n",
       "       'Nova Scotia', 'New Brunswick', 'Québec', 'Ontario', 'Manitoba',\n",
       "       'Saskatchewan', 'Alberta', 'British Columbia', 'Yukon',\n",
       "       'Northwest Territories', 'Nunavut'], dtype=object)"
      ]
     },
     "execution_count": 11,
     "metadata": {},
     "output_type": "execute_result"
    }
   ],
   "source": [
    "sb_12dig_ind_tableau.Geography.unique()"
   ]
  },
  {
   "cell_type": "code",
   "execution_count": 12,
   "id": "24533f43-6dc7-40cb-92a3-b3b3a1b2de90",
   "metadata": {},
   "outputs": [
    {
     "data": {
      "text/plain": [
       "North American Industry Classification System, NAICS     object\n",
       "Geography                                                object\n",
       "Incorporation status                                     object\n",
       "Location indicator                                       object\n",
       "Reference year                                          float64\n",
       "Net Profit/Loss                                         float64\n",
       "Gross margin (%)                                        float64\n",
       "dtype: object"
      ]
     },
     "execution_count": 12,
     "metadata": {},
     "output_type": "execute_result"
    }
   ],
   "source": [
    "sb_12dig_ind_tableau.dtypes"
   ]
  },
  {
   "cell_type": "code",
   "execution_count": 14,
   "id": "16989e3a-dfd4-44e9-8bc9-0b0281b19fd4",
   "metadata": {},
   "outputs": [],
   "source": [
    "sb_12dig_ind_tableau.to_excel(\"../notebooks/Tableau_Excels/NetProfitMap_tableau.xlsx\")"
   ]
  },
  {
   "cell_type": "code",
   "execution_count": null,
   "id": "d76d9cb7-7a04-479c-9b6a-7649c284c7df",
   "metadata": {},
   "outputs": [],
   "source": []
  }
 ],
 "metadata": {
  "kernelspec": {
   "display_name": "Python 3 (ipykernel)",
   "language": "python",
   "name": "python3"
  },
  "language_info": {
   "codemirror_mode": {
    "name": "ipython",
    "version": 3
   },
   "file_extension": ".py",
   "mimetype": "text/x-python",
   "name": "python",
   "nbconvert_exporter": "python",
   "pygments_lexer": "ipython3",
   "version": "3.9.12"
  }
 },
 "nbformat": 4,
 "nbformat_minor": 5
}
