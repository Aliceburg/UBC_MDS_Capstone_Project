{
 "cells": [
  {
   "cell_type": "code",
   "execution_count": 1,
   "id": "37cf2180-356a-4ae6-ae6c-8c06036be510",
   "metadata": {},
   "outputs": [],
   "source": [
    "import pandas as pd\n",
    "import numpy as np"
   ]
  },
  {
   "cell_type": "code",
   "execution_count": 2,
   "id": "855ceda1-2644-49bf-a548-33f921ed3c05",
   "metadata": {},
   "outputs": [],
   "source": [
    "import altair as alt"
   ]
  },
  {
   "cell_type": "code",
   "execution_count": 3,
   "id": "3d3e384a-dbbc-49f0-9ecb-fdc326bf8bc1",
   "metadata": {},
   "outputs": [],
   "source": [
    "def tab_reader(filepathpattern,tabnum,skiprow,low_memory=False):\n",
    "    tabs = []\n",
    "    for i in range (tabnum):\n",
    "        cur_index = i+1\n",
    "        cur_filepath = filepathpattern.format(cur_index)\n",
    "        try:\n",
    "            tab = pd.read_csv(cur_filepath, skiprows=skiprow, low_memory=False)\n",
    "        except:\n",
    "            tab = pd.read_csv(cur_filepath, skiprows=skiprow,encoding='latin-1', low_memory=low_memory)\n",
    "        tabs.append(tab)\n",
    "    return tabs\n"
   ]
  },
  {
   "cell_type": "code",
   "execution_count": 4,
   "id": "e4cb8ee1-e5cc-4101-b905-7887e1d7098c",
   "metadata": {},
   "outputs": [],
   "source": [
    "# 2017 data\n",
    "rcbp_2017_mb_profitMargin_Tabs = tab_reader(\"../../../data/2017_csv_eng/2017_Medium businesses_Profit margin based_csv/_2017_Medium businesses_Profit margin_Tab{}.csv\",5,5)\n",
    "rcbp_2017_mb_revenue_Tabs = tab_reader(\"../../../data/2017_csv_eng/2017_Medium businesses_Total revenue based_csv/_2017_Eng_Medium_Revenue_Tab{}.csv\",5,5)\n",
    "rcbp_2017_sb_profitMargin_Tabs = tab_reader(\"../../../data/2017_csv_eng/2017_Small businesses_Profit margin based_csv/_2017_Small businesses_Profit margin based_Tab{}.csv\",7,5)\n",
    "rcbp_2017_sb_profitMargin_Tabs[0] = tab_reader(\"../../../data/2017_csv_eng/2017_Small businesses_Profit margin based_csv/_2017_Small businesses_Profit margin based_Tab{}.csv\",1,6)[0]\n",
    "rcbp_2017_sb_revenue_Tabs = tab_reader(\"../../../data/2017_csv_eng/2017_Small businesses_Total revenue based_csv/_2017_Small businesses_Total revenue based_Tab{}.csv\",7,5)\n",
    "rcbp_2017_sb_revenue_Tabs[0] = tab_reader(\"../../../data/2017_csv_eng/2017_Small businesses_Total revenue based_csv/_2017_Small businesses_Total revenue based_Tab{}.csv\",1,6)[0]"
   ]
  },
  {
   "cell_type": "code",
   "execution_count": 5,
   "id": "dccae8e6-1191-4e0b-ac2f-63c0cef6a3d1",
   "metadata": {},
   "outputs": [],
   "source": [
    "# 2018 data\n",
    "rcbp_2018_mb_profitMargin_Tabs = tab_reader(\"../../../data/2018_csv_eng/2018_Medium businesses_Profit margin based_csv/_2018_Medium businesses_Profit margin_Tab{}.csv\",5,5)\n",
    "rcbp_2018_mb_revenue_Tabs = tab_reader(\"../../../data/2018_csv_eng/2018_Medium businesses_Total revenue based_csv/_2018_Medium businesses_Total revenue_Tab{}.csv\",5,5)\n",
    "rcbp_2018_sb_profitMargin_Tabs = tab_reader(\"../../../data/2018_csv_eng/2018_Small businesses_Profit margin based_csv/_2018_Small businesses_Profit margin_Tab{}.csv\",7,5)\n",
    "rcbp_2018_sb_profitMargin_Tabs[0] = tab_reader(\"../../../data/2018_csv_eng/2018_Small businesses_Profit margin based_csv/_2018_Small businesses_Profit margin_Tab{}.csv\",1,6)[0]\n",
    "rcbp_2018_sb_revenue_Tabs = tab_reader(\"../../../data/2018_csv_eng/2018_Small businesses_Total revenue based_csv/_2018_Small businesses_Total revenue_Tab{}.csv\",7,5)\n",
    "rcbp_2018_sb_revenue_Tabs[0] = tab_reader(\"../../../data/2018_csv_eng/2018_Small businesses_Total revenue based_csv/_2018_Small businesses_Total revenue_Tab{}.csv\",1,6)[0]"
   ]
  },
  {
   "cell_type": "code",
   "execution_count": 6,
   "id": "9aa32747-a3b7-47c0-ab4f-b9154d2c3986",
   "metadata": {},
   "outputs": [],
   "source": [
    "# 2019 data\n",
    "rcbp_2019_mb_profitMargin_Tabs = tab_reader(\"../../../data/2019_csv_eng/2019_Medium businesses_Profit margin_csv/_2019_Medium businesses_Profit margin_Tab{}.csv\",5,5)\n",
    "rcbp_2019_mb_revenue_Tabs = tab_reader(\"../../../data/2019_csv_eng/2019_Medium businesses_Total revenue_csv/_2019_Medium businesses_Total revenue_Tab{}.csv\",5,5)\n",
    "rcbp_2019_sb_profitMargin_Tabs = tab_reader(\"../../../data/2019_csv_eng/2019_Small businesses_Profit margin_csv/_2019_Small businesses_Profit margin_Tab{}.csv\",7,5)\n",
    "rcbp_2019_sb_profitMargin_Tabs[0] = tab_reader(\"../../../data/2019_csv_eng/2019_Small businesses_Profit margin_csv/_2019_Small businesses_Profit margin_Tab{}.csv\",1,6)[0]\n",
    "rcbp_2019_sb_revenue_Tabs = tab_reader(\"../../../data/2019_csv_eng/2019_Small businesses_Total revenue_csv/_2019_Small businesses_Total revenue_Tab{}.csv\",7,5)\n",
    "rcbp_2019_sb_revenue_Tabs[0] = tab_reader(\"../../../data/2019_csv_eng/2019_Small businesses_Total revenue_csv/_2019_Small businesses_Total revenue_Tab{}.csv\",1,6)[0]"
   ]
  },
  {
   "cell_type": "code",
   "execution_count": 7,
   "id": "bffebdd8-1e31-41ba-86eb-0aabc88bac19",
   "metadata": {},
   "outputs": [],
   "source": [
    "def selectData(tabs):\n",
    "    concatTabs = []\n",
    "    for tab in tabs:\n",
    "        cols_without_quartile = [x for x in tab.columns if 'quartile' not in x.lower()]\n",
    "        tab = tab[cols_without_quartile]\n",
    "        tab = tab.loc[(tab[\"North American Industry Classification System, NAICS - code\"].str.len() < 3) | (tab[\"North American Industry Classification System, NAICS - code\"].str.contains('-'))]\n",
    "        concatTabs.append(tab)\n",
    "    return pd.concat(concatTabs)"
   ]
  },
  {
   "cell_type": "code",
   "execution_count": 8,
   "id": "b1fc0ab1-712f-4327-b281-5ec5dc4bb8c3",
   "metadata": {
    "scrolled": true,
    "tags": []
   },
   "outputs": [],
   "source": [
    "mb_2017_revenue_tab2 = rcbp_2017_mb_revenue_Tabs[1]\n",
    "mb_2018_revenue_tab2 = rcbp_2018_mb_revenue_Tabs[1]\n",
    "mb_2019_revenue_tab2 = rcbp_2019_mb_revenue_Tabs[1]\n",
    "mb_revenue_persent_3y = selectData([mb_2017_revenue_tab2,mb_2018_revenue_tab2,mb_2019_revenue_tab2])"
   ]
  },
  {
   "cell_type": "code",
   "execution_count": 9,
   "id": "f87ddc38-5768-4164-9e2f-153686a3a67b",
   "metadata": {},
   "outputs": [],
   "source": [
    "mb_2017_revenue_tab3 = rcbp_2017_mb_revenue_Tabs[2]\n",
    "mb_2018_revenue_tab3 = rcbp_2018_mb_revenue_Tabs[2]\n",
    "mb_2019_revenue_tab3 = rcbp_2019_mb_revenue_Tabs[2]\n",
    "mb_expenses_value_3y = selectData([mb_2017_revenue_tab3,mb_2018_revenue_tab3,mb_2019_revenue_tab3])"
   ]
  },
  {
   "cell_type": "code",
   "execution_count": 10,
   "id": "4bb2449c-452c-4555-9d20-3968b570441f",
   "metadata": {},
   "outputs": [],
   "source": [
    "sb_2017_revenue_tab2 = rcbp_2017_sb_revenue_Tabs[1]\n",
    "sb_2018_revenue_tab2 = rcbp_2018_sb_revenue_Tabs[1]\n",
    "sb_2019_revenue_tab2 = rcbp_2019_sb_revenue_Tabs[1]\n",
    "sb_revenue_persent_3y = selectData([sb_2017_revenue_tab2,sb_2018_revenue_tab2,sb_2019_revenue_tab2])"
   ]
  },
  {
   "cell_type": "code",
   "execution_count": 11,
   "id": "e60b43e4-adde-410a-9d94-100178d42e79",
   "metadata": {},
   "outputs": [],
   "source": [
    "sb_2017_revenue_tab3 = rcbp_2017_sb_revenue_Tabs[2]\n",
    "sb_2018_revenue_tab3 = rcbp_2018_sb_revenue_Tabs[2]\n",
    "sb_2019_revenue_tab3 = rcbp_2019_sb_revenue_Tabs[2]\n",
    "sb_revenue_value_3y = selectData([sb_2017_revenue_tab3,sb_2018_revenue_tab3,sb_2019_revenue_tab3])"
   ]
  },
  {
   "cell_type": "markdown",
   "id": "f00ed154-6ef4-46a9-bd1e-bfa9eb778ac2",
   "metadata": {},
   "source": [
    "# Medium businesses"
   ]
  },
  {
   "cell_type": "markdown",
   "id": "d546854f-2499-445e-89ae-49362ff9c9d5",
   "metadata": {
    "tags": []
   },
   "source": [
    "### Total expenses - All industry - Medium businesses"
   ]
  },
  {
   "cell_type": "code",
   "execution_count": 12,
   "id": "e251280b-69ca-4cb2-9d4f-9f6adfb02eda",
   "metadata": {},
   "outputs": [],
   "source": [
    "# chart 1 - total expenses - all industry\n",
    "chart1_df = mb_expenses_value_3y[(mb_expenses_value_3y['North American Industry Classification System, NAICS - code'] == '0') & (mb_expenses_value_3y['Total expenses, percent of businesses reporting'].astype(float) >= 90) & (mb_expenses_value_3y['Total expenses, quality indicator'] < 'E')]\n",
    "chart1_df = chart1_df[['Reference year','Location indicator','Total expenses']]"
   ]
  },
  {
   "cell_type": "code",
   "execution_count": 13,
   "id": "cfac13fb-dbdc-43d9-b9ee-b5c0ad565a93",
   "metadata": {},
   "outputs": [],
   "source": [
    "# chart 1_1 - total expenses - all industry\n",
    "chart1_1_df = mb_revenue_persent_3y[(mb_revenue_persent_3y['North American Industry Classification System, NAICS - code'] == '0') & (mb_revenue_persent_3y['Total expenses (%), percent of businesses reporting'].astype(float) >= 90) & (mb_revenue_persent_3y['Total expenses (%), quality indicator'] < 'E')]\n",
    "chart1_1_df = chart1_1_df[['Reference year','Location indicator','Total expenses (%)']]"
   ]
  },
  {
   "cell_type": "code",
   "execution_count": 14,
   "id": "b2770fa0-1407-49bd-ae7f-1e381e1f41ba",
   "metadata": {},
   "outputs": [],
   "source": [
    "chart1 = alt.Chart(chart1_df, title=alt.TitleParams(text = \"Average total expenses of medium businesses\", \n",
    "                                           subtitle = \"Canada, all inductries, by rural and urban areas, 2017 - 2019\")).mark_bar().encode(\n",
    "    x=alt.X('Location indicator', title=''),\n",
    "    y=alt.Y('Total expenses:Q', title='Total Expenses'),\n",
    "    color=alt.Color('Location indicator', legend=None),\n",
    "    column=alt.Column('Reference year', title='')\n",
    ").properties(width=100, height=300)"
   ]
  },
  {
   "cell_type": "code",
   "execution_count": 15,
   "id": "d460428f-2a5e-4ddb-b407-df1032f05d96",
   "metadata": {},
   "outputs": [],
   "source": [
    "chart1_1 = alt.Chart(chart1_1_df, title=alt.TitleParams(text = \"Percentage of total expenses in total revenues of medium businesses\", \n",
    "                                           subtitle = \"Canada, all inductries, by rural and urban areas, 2017 - 2019\")).mark_bar().encode(\n",
    "    x=alt.X('Location indicator', title=''),\n",
    "    y=alt.Y('Total expenses (%):Q', title='Total Expenses (%)'),\n",
    "    color=alt.Color('Location indicator', legend=None),\n",
    "    column=alt.Column('Reference year', title='')\n",
    ").properties(width=100, height=300)"
   ]
  },
  {
   "cell_type": "code",
   "execution_count": 16,
   "id": "7b129bab-5284-49a1-9de8-76810dfd3729",
   "metadata": {},
   "outputs": [
    {
     "data": {
      "text/html": [
       "\n",
       "<div id=\"altair-viz-4f22f62e616f46989b11a8882ce7773d\"></div>\n",
       "<script type=\"text/javascript\">\n",
       "  var VEGA_DEBUG = (typeof VEGA_DEBUG == \"undefined\") ? {} : VEGA_DEBUG;\n",
       "  (function(spec, embedOpt){\n",
       "    let outputDiv = document.currentScript.previousElementSibling;\n",
       "    if (outputDiv.id !== \"altair-viz-4f22f62e616f46989b11a8882ce7773d\") {\n",
       "      outputDiv = document.getElementById(\"altair-viz-4f22f62e616f46989b11a8882ce7773d\");\n",
       "    }\n",
       "    const paths = {\n",
       "      \"vega\": \"https://cdn.jsdelivr.net/npm//vega@5?noext\",\n",
       "      \"vega-lib\": \"https://cdn.jsdelivr.net/npm//vega-lib?noext\",\n",
       "      \"vega-lite\": \"https://cdn.jsdelivr.net/npm//vega-lite@4.17.0?noext\",\n",
       "      \"vega-embed\": \"https://cdn.jsdelivr.net/npm//vega-embed@6?noext\",\n",
       "    };\n",
       "\n",
       "    function maybeLoadScript(lib, version) {\n",
       "      var key = `${lib.replace(\"-\", \"\")}_version`;\n",
       "      return (VEGA_DEBUG[key] == version) ?\n",
       "        Promise.resolve(paths[lib]) :\n",
       "        new Promise(function(resolve, reject) {\n",
       "          var s = document.createElement('script');\n",
       "          document.getElementsByTagName(\"head\")[0].appendChild(s);\n",
       "          s.async = true;\n",
       "          s.onload = () => {\n",
       "            VEGA_DEBUG[key] = version;\n",
       "            return resolve(paths[lib]);\n",
       "          };\n",
       "          s.onerror = () => reject(`Error loading script: ${paths[lib]}`);\n",
       "          s.src = paths[lib];\n",
       "        });\n",
       "    }\n",
       "\n",
       "    function showError(err) {\n",
       "      outputDiv.innerHTML = `<div class=\"error\" style=\"color:red;\">${err}</div>`;\n",
       "      throw err;\n",
       "    }\n",
       "\n",
       "    function displayChart(vegaEmbed) {\n",
       "      vegaEmbed(outputDiv, spec, embedOpt)\n",
       "        .catch(err => showError(`Javascript Error: ${err.message}<br>This usually means there's a typo in your chart specification. See the javascript console for the full traceback.`));\n",
       "    }\n",
       "\n",
       "    if(typeof define === \"function\" && define.amd) {\n",
       "      requirejs.config({paths});\n",
       "      require([\"vega-embed\"], displayChart, err => showError(`Error loading script: ${err.message}`));\n",
       "    } else {\n",
       "      maybeLoadScript(\"vega\", \"5\")\n",
       "        .then(() => maybeLoadScript(\"vega-lite\", \"4.17.0\"))\n",
       "        .then(() => maybeLoadScript(\"vega-embed\", \"6\"))\n",
       "        .catch(showError)\n",
       "        .then(() => displayChart(vegaEmbed));\n",
       "    }\n",
       "  })({\"config\": {\"view\": {\"continuousWidth\": 400, \"continuousHeight\": 300}}, \"hconcat\": [{\"data\": {\"name\": \"data-8e3f7a11e6dc08874edce96e70c025f9\"}, \"mark\": \"bar\", \"encoding\": {\"color\": {\"field\": \"Location indicator\", \"legend\": null, \"type\": \"nominal\"}, \"column\": {\"field\": \"Reference year\", \"title\": \"\", \"type\": \"quantitative\"}, \"x\": {\"field\": \"Location indicator\", \"title\": \"\", \"type\": \"nominal\"}, \"y\": {\"field\": \"Total expenses\", \"title\": \"Total Expenses\", \"type\": \"quantitative\"}}, \"height\": 300, \"title\": {\"text\": \"Average total expenses of medium businesses\", \"subtitle\": \"Canada, all inductries, by rural and urban areas, 2017 - 2019\"}, \"width\": 100}, {\"data\": {\"name\": \"data-c7fd26772ec6c2aec701b006fc1d5d99\"}, \"mark\": \"bar\", \"encoding\": {\"color\": {\"field\": \"Location indicator\", \"legend\": null, \"type\": \"nominal\"}, \"column\": {\"field\": \"Reference year\", \"title\": \"\", \"type\": \"quantitative\"}, \"x\": {\"field\": \"Location indicator\", \"title\": \"\", \"type\": \"nominal\"}, \"y\": {\"field\": \"Total expenses (%)\", \"title\": \"Total Expenses (%)\", \"type\": \"quantitative\"}}, \"height\": 300, \"title\": {\"text\": \"Percentage of total expenses in total revenues of medium businesses\", \"subtitle\": \"Canada, all inductries, by rural and urban areas, 2017 - 2019\"}, \"width\": 100}], \"$schema\": \"https://vega.github.io/schema/vega-lite/v4.17.0.json\", \"datasets\": {\"data-8e3f7a11e6dc08874edce96e70c025f9\": [{\"Reference year\": 2017.0, \"Location indicator\": \"Rural\", \"Total expenses\": \"8896.5\"}, {\"Reference year\": 2017.0, \"Location indicator\": \"Urban\", \"Total expenses\": \"8893.6\"}, {\"Reference year\": 2018.0, \"Location indicator\": \"Rural\", \"Total expenses\": \"8907.5\"}, {\"Reference year\": 2018.0, \"Location indicator\": \"Urban\", \"Total expenses\": \"8844.4\"}, {\"Reference year\": 2019.0, \"Location indicator\": \"Rural\", \"Total expenses\": \"8973.3\"}, {\"Reference year\": 2019.0, \"Location indicator\": \"Urban\", \"Total expenses\": \"8873\"}], \"data-c7fd26772ec6c2aec701b006fc1d5d99\": [{\"Reference year\": 2017.0, \"Location indicator\": \"Rural\", \"Total expenses (%)\": \"96.1\"}, {\"Reference year\": 2017.0, \"Location indicator\": \"Urban\", \"Total expenses (%)\": \"93.6\"}, {\"Reference year\": 2018.0, \"Location indicator\": \"Rural\", \"Total expenses (%)\": \"96.2\"}, {\"Reference year\": 2018.0, \"Location indicator\": \"Urban\", \"Total expenses (%)\": \"92.9\"}, {\"Reference year\": 2019.0, \"Location indicator\": \"Rural\", \"Total expenses (%)\": \"96.4\"}, {\"Reference year\": 2019.0, \"Location indicator\": \"Urban\", \"Total expenses (%)\": \"92.9\"}]}}, {\"mode\": \"vega-lite\"});\n",
       "</script>"
      ],
      "text/plain": [
       "alt.HConcatChart(...)"
      ]
     },
     "execution_count": 16,
     "metadata": {},
     "output_type": "execute_result"
    }
   ],
   "source": [
    "chart1 | chart1_1"
   ]
  },
  {
   "cell_type": "code",
   "execution_count": 17,
   "id": "27140a54-a565-4961-b246-8c655f1c40e1",
   "metadata": {},
   "outputs": [
    {
     "data": {
      "text/html": [
       "<div>\n",
       "<style scoped>\n",
       "    .dataframe tbody tr th:only-of-type {\n",
       "        vertical-align: middle;\n",
       "    }\n",
       "\n",
       "    .dataframe tbody tr th {\n",
       "        vertical-align: top;\n",
       "    }\n",
       "\n",
       "    .dataframe thead th {\n",
       "        text-align: right;\n",
       "    }\n",
       "</style>\n",
       "<table border=\"1\" class=\"dataframe\">\n",
       "  <thead>\n",
       "    <tr style=\"text-align: right;\">\n",
       "      <th></th>\n",
       "      <th>Reference year</th>\n",
       "      <th>Location indicator_x</th>\n",
       "      <th>Total expenses_x</th>\n",
       "      <th>Location indicator_y</th>\n",
       "      <th>Total expenses_y</th>\n",
       "    </tr>\n",
       "  </thead>\n",
       "  <tbody>\n",
       "    <tr>\n",
       "      <th>0</th>\n",
       "      <td>2017.0</td>\n",
       "      <td>Rural</td>\n",
       "      <td>8896.5</td>\n",
       "      <td>Urban</td>\n",
       "      <td>8893.6</td>\n",
       "    </tr>\n",
       "    <tr>\n",
       "      <th>1</th>\n",
       "      <td>2018.0</td>\n",
       "      <td>Rural</td>\n",
       "      <td>8907.5</td>\n",
       "      <td>Urban</td>\n",
       "      <td>8844.4</td>\n",
       "    </tr>\n",
       "    <tr>\n",
       "      <th>2</th>\n",
       "      <td>2019.0</td>\n",
       "      <td>Rural</td>\n",
       "      <td>8973.3</td>\n",
       "      <td>Urban</td>\n",
       "      <td>8873</td>\n",
       "    </tr>\n",
       "  </tbody>\n",
       "</table>\n",
       "</div>"
      ],
      "text/plain": [
       "   Reference year Location indicator_x Total expenses_x Location indicator_y  \\\n",
       "0          2017.0                Rural           8896.5                Urban   \n",
       "1          2018.0                Rural           8907.5                Urban   \n",
       "2          2019.0                Rural           8973.3                Urban   \n",
       "\n",
       "  Total expenses_y  \n",
       "0           8893.6  \n",
       "1           8844.4  \n",
       "2             8873  "
      ]
     },
     "execution_count": 17,
     "metadata": {},
     "output_type": "execute_result"
    }
   ],
   "source": [
    "pd.merge(left=chart1_df[chart1_df['Location indicator'] == 'Rural'],right=chart1_df[chart1_df['Location indicator'] == 'Urban'],how='inner',on='Reference year')"
   ]
  },
  {
   "cell_type": "code",
   "execution_count": 18,
   "id": "a5caf989-e1f4-42f6-985c-532be0e40715",
   "metadata": {},
   "outputs": [
    {
     "data": {
      "text/html": [
       "<div>\n",
       "<style scoped>\n",
       "    .dataframe tbody tr th:only-of-type {\n",
       "        vertical-align: middle;\n",
       "    }\n",
       "\n",
       "    .dataframe tbody tr th {\n",
       "        vertical-align: top;\n",
       "    }\n",
       "\n",
       "    .dataframe thead th {\n",
       "        text-align: right;\n",
       "    }\n",
       "</style>\n",
       "<table border=\"1\" class=\"dataframe\">\n",
       "  <thead>\n",
       "    <tr style=\"text-align: right;\">\n",
       "      <th></th>\n",
       "      <th>Reference year</th>\n",
       "      <th>Location indicator_x</th>\n",
       "      <th>Total expenses (%)_x</th>\n",
       "      <th>Location indicator_y</th>\n",
       "      <th>Total expenses (%)_y</th>\n",
       "    </tr>\n",
       "  </thead>\n",
       "  <tbody>\n",
       "    <tr>\n",
       "      <th>0</th>\n",
       "      <td>2017.0</td>\n",
       "      <td>Rural</td>\n",
       "      <td>96.1</td>\n",
       "      <td>Urban</td>\n",
       "      <td>93.6</td>\n",
       "    </tr>\n",
       "    <tr>\n",
       "      <th>1</th>\n",
       "      <td>2018.0</td>\n",
       "      <td>Rural</td>\n",
       "      <td>96.2</td>\n",
       "      <td>Urban</td>\n",
       "      <td>92.9</td>\n",
       "    </tr>\n",
       "    <tr>\n",
       "      <th>2</th>\n",
       "      <td>2019.0</td>\n",
       "      <td>Rural</td>\n",
       "      <td>96.4</td>\n",
       "      <td>Urban</td>\n",
       "      <td>92.9</td>\n",
       "    </tr>\n",
       "  </tbody>\n",
       "</table>\n",
       "</div>"
      ],
      "text/plain": [
       "   Reference year Location indicator_x Total expenses (%)_x  \\\n",
       "0          2017.0                Rural                 96.1   \n",
       "1          2018.0                Rural                 96.2   \n",
       "2          2019.0                Rural                 96.4   \n",
       "\n",
       "  Location indicator_y Total expenses (%)_y  \n",
       "0                Urban                 93.6  \n",
       "1                Urban                 92.9  \n",
       "2                Urban                 92.9  "
      ]
     },
     "execution_count": 18,
     "metadata": {},
     "output_type": "execute_result"
    }
   ],
   "source": [
    "\n",
    "pd.merge(left=chart1_1_df[chart1_1_df['Location indicator'] == 'Rural'],right=chart1_1_df[chart1_1_df['Location indicator'] == 'Urban'],how='inner',on='Reference year')"
   ]
  },
  {
   "cell_type": "markdown",
   "id": "227cc739-8d2b-41f5-890f-79e7b6543b84",
   "metadata": {},
   "source": [
    "**The average total expenses of medium businesses in both rural and urban area did not have significant changes in the three years from 2017 to 2019. The average total expenses for rural medium businesses increased by 76.8 from 8896.5K in 2017 to 8973.3K in 2019, while for urban medium businesses, this value increased by 76.8K from 8896.5K in 2017 to 8973.3K in 2019, while for urban medium businesses, this value decreased by 20.6K from 8893.6K in 2017 to 8873K in 2019. Compared with urban businesses, rural businesses have higher total expenses as a percentage of their total revenues. In addition, the total expenses percentage of rural businesses increased 0.3%, while the total expenses percentage of urban businesses decreased 0.7%. Although there are slight changes on total expenses value, the urban businesses seems had slightly better performance on expenses control.**\n"
   ]
  },
  {
   "cell_type": "code",
   "execution_count": null,
   "id": "1faf7db5-2574-454c-a7a0-7a64ae65e681",
   "metadata": {
    "tags": []
   },
   "outputs": [],
   "source": []
  },
  {
   "cell_type": "markdown",
   "id": "3858d6f7-0f92-44ab-ba5f-c73104fb9c77",
   "metadata": {
    "tags": []
   },
   "source": [
    "### Rural/Urban direct/indirect cost expenses - all industry - medium businesses"
   ]
  },
  {
   "cell_type": "code",
   "execution_count": 19,
   "id": "ba87958b-2084-4a38-ae41-eb239fbb6b30",
   "metadata": {},
   "outputs": [],
   "source": [
    "chart3_df = mb_expenses_value_3y[(mb_expenses_value_3y['Location indicator'] == 'Rural') & (mb_expenses_value_3y['North American Industry Classification System, NAICS - code'] == '0') & (mb_expenses_value_3y['Cost of sales (direct expenses), quality indicator'] < 'D') & (mb_expenses_value_3y['Operating expenses (indirect expenses)'] < 'D')]\n",
    "chart3_df = chart3_df[['Reference year','Location indicator','Cost of sales (direct expenses)','Operating expenses (indirect expenses)']]\n",
    "chart3_cp = chart3_df"
   ]
  },
  {
   "cell_type": "code",
   "execution_count": 20,
   "id": "f52d7d9a-4700-401f-a318-caf94ff56076",
   "metadata": {},
   "outputs": [],
   "source": [
    "chart3_df = chart3_df.melt(id_vars=['Reference year', 'Location indicator'], var_name='type',\n",
    "             value_name='value')"
   ]
  },
  {
   "cell_type": "code",
   "execution_count": 21,
   "id": "6aa43562-d20e-4a2c-a16c-e726636a899c",
   "metadata": {},
   "outputs": [],
   "source": [
    "chart3 = alt.Chart(chart3_df,title=alt.TitleParams(text = \"Average direct/indirect expenses of medium businesses\", \n",
    "                                           subtitle = \"Canada, all inductries, rural areas, 2017 - 2019\")).mark_bar().encode(\n",
    "    x=alt.X('type', title=''),\n",
    "    y=alt.Y('value:Q', title='Expenses Value'),\n",
    "    color=alt.Color('type', legend=None),\n",
    "    column=alt.Column('Reference year', title='')\n",
    ").properties(width=100, height=300)"
   ]
  },
  {
   "cell_type": "code",
   "execution_count": 22,
   "id": "927885b5-d163-4a4a-a4b6-44cd11a69aee",
   "metadata": {},
   "outputs": [],
   "source": [
    "chart4_df = mb_expenses_value_3y[(mb_expenses_value_3y['Location indicator'] == 'Urban') & (mb_expenses_value_3y['North American Industry Classification System, NAICS - code'] == '0') & (mb_expenses_value_3y['Cost of sales (direct expenses), quality indicator'] < 'D') & (mb_expenses_value_3y['Operating expenses (indirect expenses)'] < 'D')]\n",
    "chart4_df = chart4_df[['Reference year','Location indicator','Cost of sales (direct expenses)','Operating expenses (indirect expenses)']]\n",
    "chart4_cp = chart4_df"
   ]
  },
  {
   "cell_type": "code",
   "execution_count": 23,
   "id": "3e94a2a8-c92a-48c7-9d7a-adbe6e27966b",
   "metadata": {},
   "outputs": [],
   "source": [
    "chart4_df = chart4_df.melt(id_vars=['Reference year', 'Location indicator'], var_name='type',\n",
    "             value_name='value')"
   ]
  },
  {
   "cell_type": "code",
   "execution_count": 24,
   "id": "72dcef65-c779-439c-8096-7ecfd71cbdd2",
   "metadata": {},
   "outputs": [],
   "source": [
    "chart4 = alt.Chart(chart4_df, title=alt.TitleParams(text = \"Average direct/indirect expenses of medium businesses\", \n",
    "                                           subtitle = \"Canada, all inductries, urban areas, 2017 - 2019\")).mark_bar().encode(\n",
    "    x=alt.X('type', title=''),\n",
    "    y=alt.Y('value:Q', title='Expenses Value'),\n",
    "    color=alt.Color('type', legend=None),\n",
    "    column=alt.Column('Reference year', title='')\n",
    ").properties(width=100, height=300)"
   ]
  },
  {
   "cell_type": "code",
   "execution_count": 25,
   "id": "ffb9a6fe-8dd9-4080-9fd9-a74fb74827b1",
   "metadata": {},
   "outputs": [
    {
     "data": {
      "text/html": [
       "\n",
       "<div id=\"altair-viz-3d612a6c3e78441796c56e0735fda9a7\"></div>\n",
       "<script type=\"text/javascript\">\n",
       "  var VEGA_DEBUG = (typeof VEGA_DEBUG == \"undefined\") ? {} : VEGA_DEBUG;\n",
       "  (function(spec, embedOpt){\n",
       "    let outputDiv = document.currentScript.previousElementSibling;\n",
       "    if (outputDiv.id !== \"altair-viz-3d612a6c3e78441796c56e0735fda9a7\") {\n",
       "      outputDiv = document.getElementById(\"altair-viz-3d612a6c3e78441796c56e0735fda9a7\");\n",
       "    }\n",
       "    const paths = {\n",
       "      \"vega\": \"https://cdn.jsdelivr.net/npm//vega@5?noext\",\n",
       "      \"vega-lib\": \"https://cdn.jsdelivr.net/npm//vega-lib?noext\",\n",
       "      \"vega-lite\": \"https://cdn.jsdelivr.net/npm//vega-lite@4.17.0?noext\",\n",
       "      \"vega-embed\": \"https://cdn.jsdelivr.net/npm//vega-embed@6?noext\",\n",
       "    };\n",
       "\n",
       "    function maybeLoadScript(lib, version) {\n",
       "      var key = `${lib.replace(\"-\", \"\")}_version`;\n",
       "      return (VEGA_DEBUG[key] == version) ?\n",
       "        Promise.resolve(paths[lib]) :\n",
       "        new Promise(function(resolve, reject) {\n",
       "          var s = document.createElement('script');\n",
       "          document.getElementsByTagName(\"head\")[0].appendChild(s);\n",
       "          s.async = true;\n",
       "          s.onload = () => {\n",
       "            VEGA_DEBUG[key] = version;\n",
       "            return resolve(paths[lib]);\n",
       "          };\n",
       "          s.onerror = () => reject(`Error loading script: ${paths[lib]}`);\n",
       "          s.src = paths[lib];\n",
       "        });\n",
       "    }\n",
       "\n",
       "    function showError(err) {\n",
       "      outputDiv.innerHTML = `<div class=\"error\" style=\"color:red;\">${err}</div>`;\n",
       "      throw err;\n",
       "    }\n",
       "\n",
       "    function displayChart(vegaEmbed) {\n",
       "      vegaEmbed(outputDiv, spec, embedOpt)\n",
       "        .catch(err => showError(`Javascript Error: ${err.message}<br>This usually means there's a typo in your chart specification. See the javascript console for the full traceback.`));\n",
       "    }\n",
       "\n",
       "    if(typeof define === \"function\" && define.amd) {\n",
       "      requirejs.config({paths});\n",
       "      require([\"vega-embed\"], displayChart, err => showError(`Error loading script: ${err.message}`));\n",
       "    } else {\n",
       "      maybeLoadScript(\"vega\", \"5\")\n",
       "        .then(() => maybeLoadScript(\"vega-lite\", \"4.17.0\"))\n",
       "        .then(() => maybeLoadScript(\"vega-embed\", \"6\"))\n",
       "        .catch(showError)\n",
       "        .then(() => displayChart(vegaEmbed));\n",
       "    }\n",
       "  })({\"config\": {\"view\": {\"continuousWidth\": 400, \"continuousHeight\": 300}}, \"hconcat\": [{\"data\": {\"name\": \"data-dbfd2c228e2a4e7856b9d144123674db\"}, \"mark\": \"bar\", \"encoding\": {\"color\": {\"field\": \"type\", \"legend\": null, \"type\": \"nominal\"}, \"column\": {\"field\": \"Reference year\", \"title\": \"\", \"type\": \"quantitative\"}, \"x\": {\"field\": \"type\", \"title\": \"\", \"type\": \"nominal\"}, \"y\": {\"field\": \"value\", \"title\": \"Expenses Value\", \"type\": \"quantitative\"}}, \"height\": 300, \"title\": {\"text\": \"Average direct/indirect expenses of medium businesses\", \"subtitle\": \"Canada, all inductries, rural areas, 2017 - 2019\"}, \"width\": 100}, {\"data\": {\"name\": \"data-d39c123429f8cea10f6fc7ec04b5f017\"}, \"mark\": \"bar\", \"encoding\": {\"color\": {\"field\": \"type\", \"legend\": null, \"type\": \"nominal\"}, \"column\": {\"field\": \"Reference year\", \"title\": \"\", \"type\": \"quantitative\"}, \"x\": {\"field\": \"type\", \"title\": \"\", \"type\": \"nominal\"}, \"y\": {\"field\": \"value\", \"title\": \"Expenses Value\", \"type\": \"quantitative\"}}, \"height\": 300, \"title\": {\"text\": \"Average direct/indirect expenses of medium businesses\", \"subtitle\": \"Canada, all inductries, urban areas, 2017 - 2019\"}, \"width\": 100}], \"$schema\": \"https://vega.github.io/schema/vega-lite/v4.17.0.json\", \"datasets\": {\"data-dbfd2c228e2a4e7856b9d144123674db\": [{\"Reference year\": 2017.0, \"Location indicator\": \"Rural\", \"type\": \"Cost of sales (direct expenses)\", \"value\": \"5418.4\"}, {\"Reference year\": 2018.0, \"Location indicator\": \"Rural\", \"type\": \"Cost of sales (direct expenses)\", \"value\": \"5412.4\"}, {\"Reference year\": 2019.0, \"Location indicator\": \"Rural\", \"type\": \"Cost of sales (direct expenses)\", \"value\": \"5402.4\"}, {\"Reference year\": 2017.0, \"Location indicator\": \"Rural\", \"type\": \"Operating expenses (indirect expenses)\", \"value\": \"3478.1\"}, {\"Reference year\": 2018.0, \"Location indicator\": \"Rural\", \"type\": \"Operating expenses (indirect expenses)\", \"value\": \"3495.1\"}, {\"Reference year\": 2019.0, \"Location indicator\": \"Rural\", \"type\": \"Operating expenses (indirect expenses)\", \"value\": \"3570.9\"}], \"data-d39c123429f8cea10f6fc7ec04b5f017\": [{\"Reference year\": 2017.0, \"Location indicator\": \"Urban\", \"type\": \"Cost of sales (direct expenses)\", \"value\": \"5635.2\"}, {\"Reference year\": 2018.0, \"Location indicator\": \"Urban\", \"type\": \"Cost of sales (direct expenses)\", \"value\": \"5578.7\"}, {\"Reference year\": 2019.0, \"Location indicator\": \"Urban\", \"type\": \"Cost of sales (direct expenses)\", \"value\": \"5537.5\"}, {\"Reference year\": 2017.0, \"Location indicator\": \"Urban\", \"type\": \"Operating expenses (indirect expenses)\", \"value\": \"3258.4\"}, {\"Reference year\": 2018.0, \"Location indicator\": \"Urban\", \"type\": \"Operating expenses (indirect expenses)\", \"value\": \"3265.7\"}, {\"Reference year\": 2019.0, \"Location indicator\": \"Urban\", \"type\": \"Operating expenses (indirect expenses)\", \"value\": \"3335.5\"}]}}, {\"mode\": \"vega-lite\"});\n",
       "</script>"
      ],
      "text/plain": [
       "alt.HConcatChart(...)"
      ]
     },
     "execution_count": 25,
     "metadata": {},
     "output_type": "execute_result"
    }
   ],
   "source": [
    "chart3 | chart4"
   ]
  },
  {
   "cell_type": "code",
   "execution_count": 26,
   "id": "cdcbebdf-1ed3-4ec5-b3ce-bb4503884e6d",
   "metadata": {},
   "outputs": [
    {
     "data": {
      "text/html": [
       "<div>\n",
       "<style scoped>\n",
       "    .dataframe tbody tr th:only-of-type {\n",
       "        vertical-align: middle;\n",
       "    }\n",
       "\n",
       "    .dataframe tbody tr th {\n",
       "        vertical-align: top;\n",
       "    }\n",
       "\n",
       "    .dataframe thead th {\n",
       "        text-align: right;\n",
       "    }\n",
       "</style>\n",
       "<table border=\"1\" class=\"dataframe\">\n",
       "  <thead>\n",
       "    <tr style=\"text-align: right;\">\n",
       "      <th></th>\n",
       "      <th>Reference year</th>\n",
       "      <th>Location indicator</th>\n",
       "      <th>type</th>\n",
       "      <th>value</th>\n",
       "    </tr>\n",
       "  </thead>\n",
       "  <tbody>\n",
       "    <tr>\n",
       "      <th>0</th>\n",
       "      <td>2017.0</td>\n",
       "      <td>Rural</td>\n",
       "      <td>Cost of sales (direct expenses)</td>\n",
       "      <td>5418.4</td>\n",
       "    </tr>\n",
       "    <tr>\n",
       "      <th>1</th>\n",
       "      <td>2018.0</td>\n",
       "      <td>Rural</td>\n",
       "      <td>Cost of sales (direct expenses)</td>\n",
       "      <td>5412.4</td>\n",
       "    </tr>\n",
       "    <tr>\n",
       "      <th>2</th>\n",
       "      <td>2019.0</td>\n",
       "      <td>Rural</td>\n",
       "      <td>Cost of sales (direct expenses)</td>\n",
       "      <td>5402.4</td>\n",
       "    </tr>\n",
       "    <tr>\n",
       "      <th>3</th>\n",
       "      <td>2017.0</td>\n",
       "      <td>Rural</td>\n",
       "      <td>Operating expenses (indirect expenses)</td>\n",
       "      <td>3478.1</td>\n",
       "    </tr>\n",
       "    <tr>\n",
       "      <th>4</th>\n",
       "      <td>2018.0</td>\n",
       "      <td>Rural</td>\n",
       "      <td>Operating expenses (indirect expenses)</td>\n",
       "      <td>3495.1</td>\n",
       "    </tr>\n",
       "    <tr>\n",
       "      <th>5</th>\n",
       "      <td>2019.0</td>\n",
       "      <td>Rural</td>\n",
       "      <td>Operating expenses (indirect expenses)</td>\n",
       "      <td>3570.9</td>\n",
       "    </tr>\n",
       "  </tbody>\n",
       "</table>\n",
       "</div>"
      ],
      "text/plain": [
       "   Reference year Location indicator                                    type  \\\n",
       "0          2017.0              Rural         Cost of sales (direct expenses)   \n",
       "1          2018.0              Rural         Cost of sales (direct expenses)   \n",
       "2          2019.0              Rural         Cost of sales (direct expenses)   \n",
       "3          2017.0              Rural  Operating expenses (indirect expenses)   \n",
       "4          2018.0              Rural  Operating expenses (indirect expenses)   \n",
       "5          2019.0              Rural  Operating expenses (indirect expenses)   \n",
       "\n",
       "    value  \n",
       "0  5418.4  \n",
       "1  5412.4  \n",
       "2  5402.4  \n",
       "3  3478.1  \n",
       "4  3495.1  \n",
       "5  3570.9  "
      ]
     },
     "execution_count": 26,
     "metadata": {},
     "output_type": "execute_result"
    }
   ],
   "source": [
    "chart3_df"
   ]
  },
  {
   "cell_type": "code",
   "execution_count": 27,
   "id": "19f29be8-de43-49d4-aa13-7ced6a4a05b8",
   "metadata": {},
   "outputs": [
    {
     "data": {
      "text/plain": [
       "5411.066666666667"
      ]
     },
     "execution_count": 27,
     "metadata": {},
     "output_type": "execute_result"
    }
   ],
   "source": [
    "chart3_cp['Cost of sales (direct expenses)'].astype(float).mean()"
   ]
  },
  {
   "cell_type": "code",
   "execution_count": 28,
   "id": "ca2d6095-1ca0-425c-8301-4bf06ff7760c",
   "metadata": {},
   "outputs": [
    {
     "data": {
      "text/plain": [
       "3514.7000000000003"
      ]
     },
     "execution_count": 28,
     "metadata": {},
     "output_type": "execute_result"
    }
   ],
   "source": [
    "chart3_cp['Operating expenses (indirect expenses)'].astype(float).mean()"
   ]
  },
  {
   "cell_type": "code",
   "execution_count": 29,
   "id": "cbc34b0f-1bdb-45a9-8bbb-bfa239283ef1",
   "metadata": {},
   "outputs": [
    {
     "data": {
      "text/html": [
       "<div>\n",
       "<style scoped>\n",
       "    .dataframe tbody tr th:only-of-type {\n",
       "        vertical-align: middle;\n",
       "    }\n",
       "\n",
       "    .dataframe tbody tr th {\n",
       "        vertical-align: top;\n",
       "    }\n",
       "\n",
       "    .dataframe thead th {\n",
       "        text-align: right;\n",
       "    }\n",
       "</style>\n",
       "<table border=\"1\" class=\"dataframe\">\n",
       "  <thead>\n",
       "    <tr style=\"text-align: right;\">\n",
       "      <th></th>\n",
       "      <th>Reference year</th>\n",
       "      <th>Location indicator</th>\n",
       "      <th>type</th>\n",
       "      <th>value</th>\n",
       "    </tr>\n",
       "  </thead>\n",
       "  <tbody>\n",
       "    <tr>\n",
       "      <th>0</th>\n",
       "      <td>2017.0</td>\n",
       "      <td>Urban</td>\n",
       "      <td>Cost of sales (direct expenses)</td>\n",
       "      <td>5635.2</td>\n",
       "    </tr>\n",
       "    <tr>\n",
       "      <th>1</th>\n",
       "      <td>2018.0</td>\n",
       "      <td>Urban</td>\n",
       "      <td>Cost of sales (direct expenses)</td>\n",
       "      <td>5578.7</td>\n",
       "    </tr>\n",
       "    <tr>\n",
       "      <th>2</th>\n",
       "      <td>2019.0</td>\n",
       "      <td>Urban</td>\n",
       "      <td>Cost of sales (direct expenses)</td>\n",
       "      <td>5537.5</td>\n",
       "    </tr>\n",
       "    <tr>\n",
       "      <th>3</th>\n",
       "      <td>2017.0</td>\n",
       "      <td>Urban</td>\n",
       "      <td>Operating expenses (indirect expenses)</td>\n",
       "      <td>3258.4</td>\n",
       "    </tr>\n",
       "    <tr>\n",
       "      <th>4</th>\n",
       "      <td>2018.0</td>\n",
       "      <td>Urban</td>\n",
       "      <td>Operating expenses (indirect expenses)</td>\n",
       "      <td>3265.7</td>\n",
       "    </tr>\n",
       "    <tr>\n",
       "      <th>5</th>\n",
       "      <td>2019.0</td>\n",
       "      <td>Urban</td>\n",
       "      <td>Operating expenses (indirect expenses)</td>\n",
       "      <td>3335.5</td>\n",
       "    </tr>\n",
       "  </tbody>\n",
       "</table>\n",
       "</div>"
      ],
      "text/plain": [
       "   Reference year Location indicator                                    type  \\\n",
       "0          2017.0              Urban         Cost of sales (direct expenses)   \n",
       "1          2018.0              Urban         Cost of sales (direct expenses)   \n",
       "2          2019.0              Urban         Cost of sales (direct expenses)   \n",
       "3          2017.0              Urban  Operating expenses (indirect expenses)   \n",
       "4          2018.0              Urban  Operating expenses (indirect expenses)   \n",
       "5          2019.0              Urban  Operating expenses (indirect expenses)   \n",
       "\n",
       "    value  \n",
       "0  5635.2  \n",
       "1  5578.7  \n",
       "2  5537.5  \n",
       "3  3258.4  \n",
       "4  3265.7  \n",
       "5  3335.5  "
      ]
     },
     "execution_count": 29,
     "metadata": {},
     "output_type": "execute_result"
    }
   ],
   "source": [
    "chart4_df"
   ]
  },
  {
   "cell_type": "code",
   "execution_count": 30,
   "id": "09ed1292-c496-4eee-9ff9-08c5baffa9fe",
   "metadata": {},
   "outputs": [
    {
     "data": {
      "text/plain": [
       "5583.8"
      ]
     },
     "execution_count": 30,
     "metadata": {},
     "output_type": "execute_result"
    }
   ],
   "source": [
    "chart4_cp['Cost of sales (direct expenses)'].astype(float).mean()"
   ]
  },
  {
   "cell_type": "code",
   "execution_count": 31,
   "id": "99f3b501-69f1-40a5-80dd-a26ee0b1e370",
   "metadata": {},
   "outputs": [
    {
     "data": {
      "text/plain": [
       "3286.5333333333333"
      ]
     },
     "execution_count": 31,
     "metadata": {},
     "output_type": "execute_result"
    }
   ],
   "source": [
    "chart4_cp['Operating expenses (indirect expenses)'].astype(float).mean()"
   ]
  },
  {
   "cell_type": "markdown",
   "id": "45250d29-a3f2-423f-be08-98494dbeb0c4",
   "metadata": {},
   "source": [
    "**For medium rural businesses, in recorded 3 years, the average direct expenses was 5411.06K which was larger than the average indirect expenses (3514.7K). For medium urban businesses, between 2017 and 2019, the average direct expenses (5583.8K) was also larger than the average indirect expenses (3286.5K). For direct expenses, average expenses values of medium businesses in rural area was lower than urban area, while for indirect expenses, average expenses values of medium businesses in rural area was higher than urban area.**\n",
    " "
   ]
  },
  {
   "cell_type": "code",
   "execution_count": null,
   "id": "71c096ce-cc37-4082-bda4-0ecd2b6725b2",
   "metadata": {},
   "outputs": [],
   "source": []
  },
  {
   "cell_type": "markdown",
   "id": "4eb0b041-98a3-45d1-a550-f73b1a2f7aea",
   "metadata": {
    "tags": []
   },
   "source": [
    "### Rural/Urban different type cost expenses - all industry - medium businesses - all businesses"
   ]
  },
  {
   "cell_type": "code",
   "execution_count": 32,
   "id": "f47d6dcb-dc24-4598-9558-407262f5d3c7",
   "metadata": {},
   "outputs": [],
   "source": [
    "chart13_df = mb_expenses_value_3y[(mb_expenses_value_3y['Location indicator'] == 'Rural') & (mb_expenses_value_3y['North American Industry Classification System, NAICS - code'] == '0') & (mb_expenses_value_3y['Cost of sales (direct expenses), quality indicator'] < 'D') & (mb_expenses_value_3y['Operating expenses (indirect expenses)'] < 'D')]\n",
    "chart13_df = chart13_df[['Reference year','Location indicator',\n",
    "                        'Wages and benefits', 'Purchases, materials and sub-contracts', 'Opening inventory', \n",
    "                           'Closing inventory', 'Labour and commissions', 'Amortization and depletion',\n",
    "                           'Repairs and maintenance', 'Utilities and telephone/telecommunication',\n",
    "                         'Rent', 'Interest and bank charges', 'Professional and business fees',\n",
    "                         'Advertising and promotion', 'Delivery, shipping and warehouse', 'Insurance', \n",
    "                         'Other indirect expenses']]\n",
    "chart13_cp = chart13_df"
   ]
  },
  {
   "cell_type": "code",
   "execution_count": 33,
   "id": "b99ed547-8213-4d99-8c5e-8ee9f015fe2a",
   "metadata": {},
   "outputs": [],
   "source": [
    "chart13_df = chart13_df.melt(id_vars=['Reference year', 'Location indicator'], var_name='type',\n",
    "             value_name='value')"
   ]
  },
  {
   "cell_type": "code",
   "execution_count": 34,
   "id": "9dfc40f7-c5e1-4e72-a8f9-c4dd8f811567",
   "metadata": {},
   "outputs": [],
   "source": [
    "chart13_df['value'] = chart13_df['value'].astype(float)"
   ]
  },
  {
   "cell_type": "code",
   "execution_count": 35,
   "id": "2b30ab52-e0d8-4de4-ba3c-e1260d41f066",
   "metadata": {},
   "outputs": [],
   "source": [
    "chart13 = alt.Chart(chart13_df,title=alt.TitleParams(text = \"Distribution of total expenses\", \n",
    "                                           subtitle = \"Canada, all inductries, medium businesses, rural areas, 2017 - 2019\")).mark_bar().encode(\n",
    "    x=alt.X('value:Q', title='Expenses Value'),\n",
    "    y=alt.Y('type', title='',sort='x'),\n",
    "    color=alt.Color('type', legend=None),\n",
    "    row=alt.Row('Reference year', title='')\n",
    ").properties(width=400, height=300)"
   ]
  },
  {
   "cell_type": "code",
   "execution_count": 36,
   "id": "7317def3-c889-4fc3-96ab-5330e1784081",
   "metadata": {},
   "outputs": [],
   "source": [
    "chart14_df = mb_expenses_value_3y[(mb_expenses_value_3y['Location indicator'] == 'Urban') & (mb_expenses_value_3y['North American Industry Classification System, NAICS - code'] == '0') & (mb_expenses_value_3y['Cost of sales (direct expenses), quality indicator'] < 'D') & (mb_expenses_value_3y['Operating expenses (indirect expenses)'] < 'D')]\n",
    "chart14_df = chart14_df[['Reference year','Location indicator',\n",
    "                        'Wages and benefits', 'Purchases, materials and sub-contracts', 'Opening inventory', \n",
    "                           'Closing inventory', 'Labour and commissions', 'Amortization and depletion',\n",
    "                           'Repairs and maintenance', 'Utilities and telephone/telecommunication',\n",
    "                         'Rent', 'Interest and bank charges', 'Professional and business fees',\n",
    "                         'Advertising and promotion', 'Delivery, shipping and warehouse', 'Insurance', \n",
    "                         'Other indirect expenses']]\n",
    "chart14_cp = chart14_df"
   ]
  },
  {
   "cell_type": "code",
   "execution_count": 37,
   "id": "eb34b30f-f06c-47ec-9957-097dadc46aa5",
   "metadata": {},
   "outputs": [],
   "source": [
    "chart14_df = chart14_df.melt(id_vars=['Reference year', 'Location indicator'], var_name='type',\n",
    "             value_name='value')"
   ]
  },
  {
   "cell_type": "code",
   "execution_count": 38,
   "id": "55e4919c-c4e5-48e0-be00-440ced6c0bbb",
   "metadata": {},
   "outputs": [],
   "source": [
    "chart14_df['value'] = chart14_df['value'].astype(float)"
   ]
  },
  {
   "cell_type": "code",
   "execution_count": 39,
   "id": "e2636ed1-9861-4498-934a-b2bc6c289d2a",
   "metadata": {
    "tags": []
   },
   "outputs": [],
   "source": [
    "chart14 = alt.Chart(chart14_df,title=alt.TitleParams(text = \"Distribution of total expenses\", \n",
    "                                           subtitle = \"Canada, all inductries, medium businesses, urban areas, 2017 - 2019\")).mark_bar().encode(\n",
    "    x=alt.X('value:Q', title='Expenses Value'),\n",
    "    y=alt.Y('type', title='',sort='x'),\n",
    "    color=alt.Color('type', legend=None),\n",
    "    row=alt.Row('Reference year', title='')\n",
    ").properties(width=400, height=300)"
   ]
  },
  {
   "cell_type": "code",
   "execution_count": 40,
   "id": "4a1a8e55-a2eb-4c81-af28-19aa83702153",
   "metadata": {},
   "outputs": [
    {
     "data": {
      "text/html": [
       "\n",
       "<div id=\"altair-viz-faf6ba0484814ddcb24f3de0fe5c8bad\"></div>\n",
       "<script type=\"text/javascript\">\n",
       "  var VEGA_DEBUG = (typeof VEGA_DEBUG == \"undefined\") ? {} : VEGA_DEBUG;\n",
       "  (function(spec, embedOpt){\n",
       "    let outputDiv = document.currentScript.previousElementSibling;\n",
       "    if (outputDiv.id !== \"altair-viz-faf6ba0484814ddcb24f3de0fe5c8bad\") {\n",
       "      outputDiv = document.getElementById(\"altair-viz-faf6ba0484814ddcb24f3de0fe5c8bad\");\n",
       "    }\n",
       "    const paths = {\n",
       "      \"vega\": \"https://cdn.jsdelivr.net/npm//vega@5?noext\",\n",
       "      \"vega-lib\": \"https://cdn.jsdelivr.net/npm//vega-lib?noext\",\n",
       "      \"vega-lite\": \"https://cdn.jsdelivr.net/npm//vega-lite@4.17.0?noext\",\n",
       "      \"vega-embed\": \"https://cdn.jsdelivr.net/npm//vega-embed@6?noext\",\n",
       "    };\n",
       "\n",
       "    function maybeLoadScript(lib, version) {\n",
       "      var key = `${lib.replace(\"-\", \"\")}_version`;\n",
       "      return (VEGA_DEBUG[key] == version) ?\n",
       "        Promise.resolve(paths[lib]) :\n",
       "        new Promise(function(resolve, reject) {\n",
       "          var s = document.createElement('script');\n",
       "          document.getElementsByTagName(\"head\")[0].appendChild(s);\n",
       "          s.async = true;\n",
       "          s.onload = () => {\n",
       "            VEGA_DEBUG[key] = version;\n",
       "            return resolve(paths[lib]);\n",
       "          };\n",
       "          s.onerror = () => reject(`Error loading script: ${paths[lib]}`);\n",
       "          s.src = paths[lib];\n",
       "        });\n",
       "    }\n",
       "\n",
       "    function showError(err) {\n",
       "      outputDiv.innerHTML = `<div class=\"error\" style=\"color:red;\">${err}</div>`;\n",
       "      throw err;\n",
       "    }\n",
       "\n",
       "    function displayChart(vegaEmbed) {\n",
       "      vegaEmbed(outputDiv, spec, embedOpt)\n",
       "        .catch(err => showError(`Javascript Error: ${err.message}<br>This usually means there's a typo in your chart specification. See the javascript console for the full traceback.`));\n",
       "    }\n",
       "\n",
       "    if(typeof define === \"function\" && define.amd) {\n",
       "      requirejs.config({paths});\n",
       "      require([\"vega-embed\"], displayChart, err => showError(`Error loading script: ${err.message}`));\n",
       "    } else {\n",
       "      maybeLoadScript(\"vega\", \"5\")\n",
       "        .then(() => maybeLoadScript(\"vega-lite\", \"4.17.0\"))\n",
       "        .then(() => maybeLoadScript(\"vega-embed\", \"6\"))\n",
       "        .catch(showError)\n",
       "        .then(() => displayChart(vegaEmbed));\n",
       "    }\n",
       "  })({\"config\": {\"view\": {\"continuousWidth\": 400, \"continuousHeight\": 300}}, \"hconcat\": [{\"data\": {\"name\": \"data-d8c430164155275c68142a674ad5737f\"}, \"mark\": \"bar\", \"encoding\": {\"color\": {\"field\": \"type\", \"legend\": null, \"type\": \"nominal\"}, \"row\": {\"field\": \"Reference year\", \"title\": \"\", \"type\": \"quantitative\"}, \"x\": {\"field\": \"value\", \"title\": \"Expenses Value\", \"type\": \"quantitative\"}, \"y\": {\"field\": \"type\", \"sort\": \"x\", \"title\": \"\", \"type\": \"nominal\"}}, \"height\": 300, \"title\": {\"text\": \"Distribution of total expenses\", \"subtitle\": \"Canada, all inductries, medium businesses, rural areas, 2017 - 2019\"}, \"width\": 400}, {\"data\": {\"name\": \"data-42cfe3ff427835ce03ba2d7047aafcbe\"}, \"mark\": \"bar\", \"encoding\": {\"color\": {\"field\": \"type\", \"legend\": null, \"type\": \"nominal\"}, \"row\": {\"field\": \"Reference year\", \"title\": \"\", \"type\": \"quantitative\"}, \"x\": {\"field\": \"value\", \"title\": \"Expenses Value\", \"type\": \"quantitative\"}, \"y\": {\"field\": \"type\", \"sort\": \"x\", \"title\": \"\", \"type\": \"nominal\"}}, \"height\": 300, \"title\": {\"text\": \"Distribution of total expenses\", \"subtitle\": \"Canada, all inductries, medium businesses, urban areas, 2017 - 2019\"}, \"width\": 400}], \"$schema\": \"https://vega.github.io/schema/vega-lite/v4.17.0.json\", \"datasets\": {\"data-d8c430164155275c68142a674ad5737f\": [{\"Reference year\": 2017.0, \"Location indicator\": \"Rural\", \"type\": \"Wages and benefits\", \"value\": 598.2}, {\"Reference year\": 2018.0, \"Location indicator\": \"Rural\", \"type\": \"Wages and benefits\", \"value\": 616.4}, {\"Reference year\": 2019.0, \"Location indicator\": \"Rural\", \"type\": \"Wages and benefits\", \"value\": 642.3}, {\"Reference year\": 2017.0, \"Location indicator\": \"Rural\", \"type\": \"Purchases, materials and sub-contracts\", \"value\": 4889.5}, {\"Reference year\": 2018.0, \"Location indicator\": \"Rural\", \"type\": \"Purchases, materials and sub-contracts\", \"value\": 4875.9}, {\"Reference year\": 2019.0, \"Location indicator\": \"Rural\", \"type\": \"Purchases, materials and sub-contracts\", \"value\": 4801.2}, {\"Reference year\": 2017.0, \"Location indicator\": \"Rural\", \"type\": \"Opening inventory\", \"value\": 911.2}, {\"Reference year\": 2018.0, \"Location indicator\": \"Rural\", \"type\": \"Opening inventory\", \"value\": 899.3}, {\"Reference year\": 2019.0, \"Location indicator\": \"Rural\", \"type\": \"Opening inventory\", \"value\": 941.6}, {\"Reference year\": 2017.0, \"Location indicator\": \"Rural\", \"type\": \"Closing inventory\", \"value\": 980.4}, {\"Reference year\": 2018.0, \"Location indicator\": \"Rural\", \"type\": \"Closing inventory\", \"value\": 979.2}, {\"Reference year\": 2019.0, \"Location indicator\": \"Rural\", \"type\": \"Closing inventory\", \"value\": 982.6}, {\"Reference year\": 2017.0, \"Location indicator\": \"Rural\", \"type\": \"Labour and commissions\", \"value\": 983.0}, {\"Reference year\": 2018.0, \"Location indicator\": \"Rural\", \"type\": \"Labour and commissions\", \"value\": 976.7}, {\"Reference year\": 2019.0, \"Location indicator\": \"Rural\", \"type\": \"Labour and commissions\", \"value\": 998.4}, {\"Reference year\": 2017.0, \"Location indicator\": \"Rural\", \"type\": \"Amortization and depletion\", \"value\": 266.6}, {\"Reference year\": 2018.0, \"Location indicator\": \"Rural\", \"type\": \"Amortization and depletion\", \"value\": 261.5}, {\"Reference year\": 2019.0, \"Location indicator\": \"Rural\", \"type\": \"Amortization and depletion\", \"value\": 278.3}, {\"Reference year\": 2017.0, \"Location indicator\": \"Rural\", \"type\": \"Repairs and maintenance\", \"value\": 183.1}, {\"Reference year\": 2018.0, \"Location indicator\": \"Rural\", \"type\": \"Repairs and maintenance\", \"value\": 185.4}, {\"Reference year\": 2019.0, \"Location indicator\": \"Rural\", \"type\": \"Repairs and maintenance\", \"value\": 187.0}, {\"Reference year\": 2017.0, \"Location indicator\": \"Rural\", \"type\": \"Utilities and telephone/telecommunication\", \"value\": 142.0}, {\"Reference year\": 2018.0, \"Location indicator\": \"Rural\", \"type\": \"Utilities and telephone/telecommunication\", \"value\": 150.3}, {\"Reference year\": 2019.0, \"Location indicator\": \"Rural\", \"type\": \"Utilities and telephone/telecommunication\", \"value\": 149.4}, {\"Reference year\": 2017.0, \"Location indicator\": \"Rural\", \"type\": \"Rent\", \"value\": 187.0}, {\"Reference year\": 2018.0, \"Location indicator\": \"Rural\", \"type\": \"Rent\", \"value\": 184.1}, {\"Reference year\": 2019.0, \"Location indicator\": \"Rural\", \"type\": \"Rent\", \"value\": 188.9}, {\"Reference year\": 2017.0, \"Location indicator\": \"Rural\", \"type\": \"Interest and bank charges\", \"value\": 83.0}, {\"Reference year\": 2018.0, \"Location indicator\": \"Rural\", \"type\": \"Interest and bank charges\", \"value\": 88.9}, {\"Reference year\": 2019.0, \"Location indicator\": \"Rural\", \"type\": \"Interest and bank charges\", \"value\": 97.2}, {\"Reference year\": 2017.0, \"Location indicator\": \"Rural\", \"type\": \"Professional and business fees\", \"value\": 89.3}, {\"Reference year\": 2018.0, \"Location indicator\": \"Rural\", \"type\": \"Professional and business fees\", \"value\": 86.4}, {\"Reference year\": 2019.0, \"Location indicator\": \"Rural\", \"type\": \"Professional and business fees\", \"value\": 85.2}, {\"Reference year\": 2017.0, \"Location indicator\": \"Rural\", \"type\": \"Advertising and promotion\", \"value\": 63.7}, {\"Reference year\": 2018.0, \"Location indicator\": \"Rural\", \"type\": \"Advertising and promotion\", \"value\": 61.3}, {\"Reference year\": 2019.0, \"Location indicator\": \"Rural\", \"type\": \"Advertising and promotion\", \"value\": 63.2}, {\"Reference year\": 2017.0, \"Location indicator\": \"Rural\", \"type\": \"Delivery, shipping and warehouse\", \"value\": 49.4}, {\"Reference year\": 2018.0, \"Location indicator\": \"Rural\", \"type\": \"Delivery, shipping and warehouse\", \"value\": 48.9}, {\"Reference year\": 2019.0, \"Location indicator\": \"Rural\", \"type\": \"Delivery, shipping and warehouse\", \"value\": 51.4}, {\"Reference year\": 2017.0, \"Location indicator\": \"Rural\", \"type\": \"Insurance\", \"value\": 57.3}, {\"Reference year\": 2018.0, \"Location indicator\": \"Rural\", \"type\": \"Insurance\", \"value\": 58.0}, {\"Reference year\": 2019.0, \"Location indicator\": \"Rural\", \"type\": \"Insurance\", \"value\": 63.1}, {\"Reference year\": 2017.0, \"Location indicator\": \"Rural\", \"type\": \"Other indirect expenses\", \"value\": 1373.8}, {\"Reference year\": 2018.0, \"Location indicator\": \"Rural\", \"type\": \"Other indirect expenses\", \"value\": 1393.5}, {\"Reference year\": 2019.0, \"Location indicator\": \"Rural\", \"type\": \"Other indirect expenses\", \"value\": 1408.9}], \"data-42cfe3ff427835ce03ba2d7047aafcbe\": [{\"Reference year\": 2017.0, \"Location indicator\": \"Urban\", \"type\": \"Wages and benefits\", \"value\": 805.5}, {\"Reference year\": 2018.0, \"Location indicator\": \"Urban\", \"type\": \"Wages and benefits\", \"value\": 821.2}, {\"Reference year\": 2019.0, \"Location indicator\": \"Urban\", \"type\": \"Wages and benefits\", \"value\": 827.9}, {\"Reference year\": 2017.0, \"Location indicator\": \"Urban\", \"type\": \"Purchases, materials and sub-contracts\", \"value\": 4862.4}, {\"Reference year\": 2018.0, \"Location indicator\": \"Urban\", \"type\": \"Purchases, materials and sub-contracts\", \"value\": 4825.3}, {\"Reference year\": 2019.0, \"Location indicator\": \"Urban\", \"type\": \"Purchases, materials and sub-contracts\", \"value\": 4731.8}, {\"Reference year\": 2017.0, \"Location indicator\": \"Urban\", \"type\": \"Opening inventory\", \"value\": 886.3}, {\"Reference year\": 2018.0, \"Location indicator\": \"Urban\", \"type\": \"Opening inventory\", \"value\": 853.0}, {\"Reference year\": 2019.0, \"Location indicator\": \"Urban\", \"type\": \"Opening inventory\", \"value\": 872.2}, {\"Reference year\": 2017.0, \"Location indicator\": \"Urban\", \"type\": \"Closing inventory\", \"value\": 918.9}, {\"Reference year\": 2018.0, \"Location indicator\": \"Urban\", \"type\": \"Closing inventory\", \"value\": 920.7}, {\"Reference year\": 2019.0, \"Location indicator\": \"Urban\", \"type\": \"Closing inventory\", \"value\": 894.4}, {\"Reference year\": 2017.0, \"Location indicator\": \"Urban\", \"type\": \"Labour and commissions\", \"value\": 1303.9}, {\"Reference year\": 2018.0, \"Location indicator\": \"Urban\", \"type\": \"Labour and commissions\", \"value\": 1316.3}, {\"Reference year\": 2019.0, \"Location indicator\": \"Urban\", \"type\": \"Labour and commissions\", \"value\": 1340.4}, {\"Reference year\": 2017.0, \"Location indicator\": \"Urban\", \"type\": \"Amortization and depletion\", \"value\": 214.4}, {\"Reference year\": 2018.0, \"Location indicator\": \"Urban\", \"type\": \"Amortization and depletion\", \"value\": 208.4}, {\"Reference year\": 2019.0, \"Location indicator\": \"Urban\", \"type\": \"Amortization and depletion\", \"value\": 220.6}, {\"Reference year\": 2017.0, \"Location indicator\": \"Urban\", \"type\": \"Repairs and maintenance\", \"value\": 93.3}, {\"Reference year\": 2018.0, \"Location indicator\": \"Urban\", \"type\": \"Repairs and maintenance\", \"value\": 96.4}, {\"Reference year\": 2019.0, \"Location indicator\": \"Urban\", \"type\": \"Repairs and maintenance\", \"value\": 98.1}, {\"Reference year\": 2017.0, \"Location indicator\": \"Urban\", \"type\": \"Utilities and telephone/telecommunication\", \"value\": 91.2}, {\"Reference year\": 2018.0, \"Location indicator\": \"Urban\", \"type\": \"Utilities and telephone/telecommunication\", \"value\": 92.3}, {\"Reference year\": 2019.0, \"Location indicator\": \"Urban\", \"type\": \"Utilities and telephone/telecommunication\", \"value\": 93.4}, {\"Reference year\": 2017.0, \"Location indicator\": \"Urban\", \"type\": \"Rent\", \"value\": 221.1}, {\"Reference year\": 2018.0, \"Location indicator\": \"Urban\", \"type\": \"Rent\", \"value\": 223.5}, {\"Reference year\": 2019.0, \"Location indicator\": \"Urban\", \"type\": \"Rent\", \"value\": 228.0}, {\"Reference year\": 2017.0, \"Location indicator\": \"Urban\", \"type\": \"Interest and bank charges\", \"value\": 106.8}, {\"Reference year\": 2018.0, \"Location indicator\": \"Urban\", \"type\": \"Interest and bank charges\", \"value\": 118.5}, {\"Reference year\": 2019.0, \"Location indicator\": \"Urban\", \"type\": \"Interest and bank charges\", \"value\": 127.6}, {\"Reference year\": 2017.0, \"Location indicator\": \"Urban\", \"type\": \"Professional and business fees\", \"value\": 172.9}, {\"Reference year\": 2018.0, \"Location indicator\": \"Urban\", \"type\": \"Professional and business fees\", \"value\": 174.5}, {\"Reference year\": 2019.0, \"Location indicator\": \"Urban\", \"type\": \"Professional and business fees\", \"value\": 177.4}, {\"Reference year\": 2017.0, \"Location indicator\": \"Urban\", \"type\": \"Advertising and promotion\", \"value\": 109.2}, {\"Reference year\": 2018.0, \"Location indicator\": \"Urban\", \"type\": \"Advertising and promotion\", \"value\": 108.2}, {\"Reference year\": 2019.0, \"Location indicator\": \"Urban\", \"type\": \"Advertising and promotion\", \"value\": 113.2}, {\"Reference year\": 2017.0, \"Location indicator\": \"Urban\", \"type\": \"Delivery, shipping and warehouse\", \"value\": 58.4}, {\"Reference year\": 2018.0, \"Location indicator\": \"Urban\", \"type\": \"Delivery, shipping and warehouse\", \"value\": 54.8}, {\"Reference year\": 2019.0, \"Location indicator\": \"Urban\", \"type\": \"Delivery, shipping and warehouse\", \"value\": 59.0}, {\"Reference year\": 2017.0, \"Location indicator\": \"Urban\", \"type\": \"Insurance\", \"value\": 44.2}, {\"Reference year\": 2018.0, \"Location indicator\": \"Urban\", \"type\": \"Insurance\", \"value\": 44.3}, {\"Reference year\": 2019.0, \"Location indicator\": \"Urban\", \"type\": \"Insurance\", \"value\": 48.2}, {\"Reference year\": 2017.0, \"Location indicator\": \"Urban\", \"type\": \"Other indirect expenses\", \"value\": 843.2}, {\"Reference year\": 2018.0, \"Location indicator\": \"Urban\", \"type\": \"Other indirect expenses\", \"value\": 828.5}, {\"Reference year\": 2019.0, \"Location indicator\": \"Urban\", \"type\": \"Other indirect expenses\", \"value\": 829.4}]}}, {\"mode\": \"vega-lite\"});\n",
       "</script>"
      ],
      "text/plain": [
       "alt.HConcatChart(...)"
      ]
     },
     "execution_count": 40,
     "metadata": {},
     "output_type": "execute_result"
    }
   ],
   "source": [
    "chart13 | chart14"
   ]
  },
  {
   "cell_type": "code",
   "execution_count": 41,
   "id": "e802a89c-642e-47bd-b882-6903c1cac500",
   "metadata": {},
   "outputs": [
    {
     "data": {
      "text/html": [
       "<div>\n",
       "<style scoped>\n",
       "    .dataframe tbody tr th:only-of-type {\n",
       "        vertical-align: middle;\n",
       "    }\n",
       "\n",
       "    .dataframe tbody tr th {\n",
       "        vertical-align: top;\n",
       "    }\n",
       "\n",
       "    .dataframe thead th {\n",
       "        text-align: right;\n",
       "    }\n",
       "</style>\n",
       "<table border=\"1\" class=\"dataframe\">\n",
       "  <thead>\n",
       "    <tr style=\"text-align: right;\">\n",
       "      <th></th>\n",
       "      <th>Reference year</th>\n",
       "      <th>Location indicator</th>\n",
       "      <th>Wages and benefits</th>\n",
       "      <th>Purchases, materials and sub-contracts</th>\n",
       "      <th>Opening inventory</th>\n",
       "      <th>Closing inventory</th>\n",
       "      <th>Labour and commissions</th>\n",
       "      <th>Amortization and depletion</th>\n",
       "      <th>Repairs and maintenance</th>\n",
       "      <th>Utilities and telephone/telecommunication</th>\n",
       "      <th>Rent</th>\n",
       "      <th>Interest and bank charges</th>\n",
       "      <th>Professional and business fees</th>\n",
       "      <th>Advertising and promotion</th>\n",
       "      <th>Delivery, shipping and warehouse</th>\n",
       "      <th>Insurance</th>\n",
       "      <th>Other indirect expenses</th>\n",
       "    </tr>\n",
       "  </thead>\n",
       "  <tbody>\n",
       "    <tr>\n",
       "      <th>1</th>\n",
       "      <td>2017.0</td>\n",
       "      <td>Rural</td>\n",
       "      <td>598.2</td>\n",
       "      <td>4889.5</td>\n",
       "      <td>911.2</td>\n",
       "      <td>980.4</td>\n",
       "      <td>983</td>\n",
       "      <td>266.6</td>\n",
       "      <td>183.1</td>\n",
       "      <td>142</td>\n",
       "      <td>187</td>\n",
       "      <td>83</td>\n",
       "      <td>89.3</td>\n",
       "      <td>63.7</td>\n",
       "      <td>49.4</td>\n",
       "      <td>57.3</td>\n",
       "      <td>1373.8</td>\n",
       "    </tr>\n",
       "    <tr>\n",
       "      <th>1</th>\n",
       "      <td>2018.0</td>\n",
       "      <td>Rural</td>\n",
       "      <td>616.4</td>\n",
       "      <td>4875.9</td>\n",
       "      <td>899.3</td>\n",
       "      <td>979.2</td>\n",
       "      <td>976.7</td>\n",
       "      <td>261.5</td>\n",
       "      <td>185.4</td>\n",
       "      <td>150.3</td>\n",
       "      <td>184.1</td>\n",
       "      <td>88.9</td>\n",
       "      <td>86.4</td>\n",
       "      <td>61.3</td>\n",
       "      <td>48.9</td>\n",
       "      <td>58</td>\n",
       "      <td>1393.5</td>\n",
       "    </tr>\n",
       "    <tr>\n",
       "      <th>1</th>\n",
       "      <td>2019.0</td>\n",
       "      <td>Rural</td>\n",
       "      <td>642.3</td>\n",
       "      <td>4801.2</td>\n",
       "      <td>941.6</td>\n",
       "      <td>982.6</td>\n",
       "      <td>998.4</td>\n",
       "      <td>278.3</td>\n",
       "      <td>187</td>\n",
       "      <td>149.4</td>\n",
       "      <td>188.9</td>\n",
       "      <td>97.2</td>\n",
       "      <td>85.2</td>\n",
       "      <td>63.2</td>\n",
       "      <td>51.4</td>\n",
       "      <td>63.1</td>\n",
       "      <td>1408.9</td>\n",
       "    </tr>\n",
       "  </tbody>\n",
       "</table>\n",
       "</div>"
      ],
      "text/plain": [
       "   Reference year Location indicator Wages and benefits  \\\n",
       "1          2017.0              Rural              598.2   \n",
       "1          2018.0              Rural              616.4   \n",
       "1          2019.0              Rural              642.3   \n",
       "\n",
       "  Purchases, materials and sub-contracts Opening inventory Closing inventory  \\\n",
       "1                                 4889.5             911.2             980.4   \n",
       "1                                 4875.9             899.3             979.2   \n",
       "1                                 4801.2             941.6             982.6   \n",
       "\n",
       "  Labour and commissions Amortization and depletion Repairs and maintenance  \\\n",
       "1                    983                      266.6                   183.1   \n",
       "1                  976.7                      261.5                   185.4   \n",
       "1                  998.4                      278.3                     187   \n",
       "\n",
       "  Utilities and telephone/telecommunication   Rent Interest and bank charges  \\\n",
       "1                                       142    187                        83   \n",
       "1                                     150.3  184.1                      88.9   \n",
       "1                                     149.4  188.9                      97.2   \n",
       "\n",
       "  Professional and business fees Advertising and promotion  \\\n",
       "1                           89.3                      63.7   \n",
       "1                           86.4                      61.3   \n",
       "1                           85.2                      63.2   \n",
       "\n",
       "  Delivery, shipping and warehouse Insurance Other indirect expenses  \n",
       "1                             49.4      57.3                  1373.8  \n",
       "1                             48.9        58                  1393.5  \n",
       "1                             51.4      63.1                  1408.9  "
      ]
     },
     "execution_count": 41,
     "metadata": {},
     "output_type": "execute_result"
    }
   ],
   "source": [
    "chart13_cp"
   ]
  },
  {
   "cell_type": "code",
   "execution_count": 42,
   "id": "8eaed16d-777e-41c5-9601-b6e574f42cd1",
   "metadata": {},
   "outputs": [
    {
     "name": "stdout",
     "output_type": "stream",
     "text": [
      "Purchases, materials and sub-contracts: 0.43891870149103634\n",
      "Other indirect expenses: 0.12879958313145073\n",
      "Labour and commissions: 0.09127227184217503\n",
      "Closing inventory: 0.08982785888633932\n",
      "Opening inventory: 0.08607969868448719\n"
     ]
    }
   ],
   "source": [
    "total = chart13_df[chart13_df['Reference year'] == 2019]['value'].astype(float).sum()\n",
    "print('Purchases, materials and sub-contracts:', float(chart13_cp[chart13_cp['Reference year'] == 2019].iloc[0]['Purchases, materials and sub-contracts'])/total)\n",
    "print('Other indirect expenses:', float(chart13_cp[chart13_cp['Reference year'] == 2019].iloc[0]['Other indirect expenses'])/total)\n",
    "print('Labour and commissions:', float(chart13_cp[chart13_cp['Reference year'] == 2019].iloc[0]['Labour and commissions'])/total)\n",
    "print('Closing inventory:', float(chart13_cp[chart13_cp['Reference year'] == 2019].iloc[0]['Closing inventory'])/total)\n",
    "print('Opening inventory:', float(chart13_cp[chart13_cp['Reference year'] == 2019].iloc[0]['Opening inventory'])/total)"
   ]
  },
  {
   "cell_type": "code",
   "execution_count": 43,
   "id": "31e5d409-53e4-4a36-b158-073d4b928eb4",
   "metadata": {},
   "outputs": [
    {
     "data": {
      "text/html": [
       "<div>\n",
       "<style scoped>\n",
       "    .dataframe tbody tr th:only-of-type {\n",
       "        vertical-align: middle;\n",
       "    }\n",
       "\n",
       "    .dataframe tbody tr th {\n",
       "        vertical-align: top;\n",
       "    }\n",
       "\n",
       "    .dataframe thead th {\n",
       "        text-align: right;\n",
       "    }\n",
       "</style>\n",
       "<table border=\"1\" class=\"dataframe\">\n",
       "  <thead>\n",
       "    <tr style=\"text-align: right;\">\n",
       "      <th></th>\n",
       "      <th>Reference year</th>\n",
       "      <th>Location indicator</th>\n",
       "      <th>Wages and benefits</th>\n",
       "      <th>Purchases, materials and sub-contracts</th>\n",
       "      <th>Opening inventory</th>\n",
       "      <th>Closing inventory</th>\n",
       "      <th>Labour and commissions</th>\n",
       "      <th>Amortization and depletion</th>\n",
       "      <th>Repairs and maintenance</th>\n",
       "      <th>Utilities and telephone/telecommunication</th>\n",
       "      <th>Rent</th>\n",
       "      <th>Interest and bank charges</th>\n",
       "      <th>Professional and business fees</th>\n",
       "      <th>Advertising and promotion</th>\n",
       "      <th>Delivery, shipping and warehouse</th>\n",
       "      <th>Insurance</th>\n",
       "      <th>Other indirect expenses</th>\n",
       "    </tr>\n",
       "  </thead>\n",
       "  <tbody>\n",
       "    <tr>\n",
       "      <th>2</th>\n",
       "      <td>2017.0</td>\n",
       "      <td>Urban</td>\n",
       "      <td>805.5</td>\n",
       "      <td>4862.4</td>\n",
       "      <td>886.3</td>\n",
       "      <td>918.9</td>\n",
       "      <td>1303.9</td>\n",
       "      <td>214.4</td>\n",
       "      <td>93.3</td>\n",
       "      <td>91.2</td>\n",
       "      <td>221.1</td>\n",
       "      <td>106.8</td>\n",
       "      <td>172.9</td>\n",
       "      <td>109.2</td>\n",
       "      <td>58.4</td>\n",
       "      <td>44.2</td>\n",
       "      <td>843.2</td>\n",
       "    </tr>\n",
       "    <tr>\n",
       "      <th>2</th>\n",
       "      <td>2018.0</td>\n",
       "      <td>Urban</td>\n",
       "      <td>821.2</td>\n",
       "      <td>4825.3</td>\n",
       "      <td>853</td>\n",
       "      <td>920.7</td>\n",
       "      <td>1316.3</td>\n",
       "      <td>208.4</td>\n",
       "      <td>96.4</td>\n",
       "      <td>92.3</td>\n",
       "      <td>223.5</td>\n",
       "      <td>118.5</td>\n",
       "      <td>174.5</td>\n",
       "      <td>108.2</td>\n",
       "      <td>54.8</td>\n",
       "      <td>44.3</td>\n",
       "      <td>828.5</td>\n",
       "    </tr>\n",
       "    <tr>\n",
       "      <th>2</th>\n",
       "      <td>2019.0</td>\n",
       "      <td>Urban</td>\n",
       "      <td>827.9</td>\n",
       "      <td>4731.8</td>\n",
       "      <td>872.2</td>\n",
       "      <td>894.4</td>\n",
       "      <td>1340.4</td>\n",
       "      <td>220.6</td>\n",
       "      <td>98.1</td>\n",
       "      <td>93.4</td>\n",
       "      <td>228</td>\n",
       "      <td>127.6</td>\n",
       "      <td>177.4</td>\n",
       "      <td>113.2</td>\n",
       "      <td>59</td>\n",
       "      <td>48.2</td>\n",
       "      <td>829.4</td>\n",
       "    </tr>\n",
       "  </tbody>\n",
       "</table>\n",
       "</div>"
      ],
      "text/plain": [
       "   Reference year Location indicator Wages and benefits  \\\n",
       "2          2017.0              Urban              805.5   \n",
       "2          2018.0              Urban              821.2   \n",
       "2          2019.0              Urban              827.9   \n",
       "\n",
       "  Purchases, materials and sub-contracts Opening inventory Closing inventory  \\\n",
       "2                                 4862.4             886.3             918.9   \n",
       "2                                 4825.3               853             920.7   \n",
       "2                                 4731.8             872.2             894.4   \n",
       "\n",
       "  Labour and commissions Amortization and depletion Repairs and maintenance  \\\n",
       "2                 1303.9                      214.4                    93.3   \n",
       "2                 1316.3                      208.4                    96.4   \n",
       "2                 1340.4                      220.6                    98.1   \n",
       "\n",
       "  Utilities and telephone/telecommunication   Rent Interest and bank charges  \\\n",
       "2                                      91.2  221.1                     106.8   \n",
       "2                                      92.3  223.5                     118.5   \n",
       "2                                      93.4    228                     127.6   \n",
       "\n",
       "  Professional and business fees Advertising and promotion  \\\n",
       "2                          172.9                     109.2   \n",
       "2                          174.5                     108.2   \n",
       "2                          177.4                     113.2   \n",
       "\n",
       "  Delivery, shipping and warehouse Insurance Other indirect expenses  \n",
       "2                             58.4      44.2                   843.2  \n",
       "2                             54.8      44.3                   828.5  \n",
       "2                               59      48.2                   829.4  "
      ]
     },
     "execution_count": 43,
     "metadata": {},
     "output_type": "execute_result"
    }
   ],
   "source": [
    "chart14_cp"
   ]
  },
  {
   "cell_type": "code",
   "execution_count": 44,
   "id": "0467588a-d916-42f7-b6b9-8551816e4511",
   "metadata": {},
   "outputs": [
    {
     "name": "stdout",
     "output_type": "stream",
     "text": [
      "Purchases, materials and sub-contracts: 0.4438170631049749\n",
      "Other indirect expenses: 0.07779320177084115\n",
      "Labour and commissions: 0.12572221805357545\n",
      "Closing inventory: 0.08388984767764687\n",
      "Opening inventory: 0.0818076086140917\n"
     ]
    }
   ],
   "source": [
    "total = chart14_df[chart14_df['Reference year'] == 2019]['value'].astype(float).sum()\n",
    "print('Purchases, materials and sub-contracts:', float(chart14_cp[chart14_cp['Reference year'] == 2019].iloc[0]['Purchases, materials and sub-contracts'])/total)\n",
    "print('Other indirect expenses:', float(chart14_cp[chart14_cp['Reference year'] == 2019].iloc[0]['Other indirect expenses'])/total)\n",
    "print('Labour and commissions:', float(chart14_cp[chart14_cp['Reference year'] == 2019].iloc[0]['Labour and commissions'])/total)\n",
    "print('Closing inventory:', float(chart14_cp[chart14_cp['Reference year'] == 2019].iloc[0]['Closing inventory'])/total)\n",
    "print('Opening inventory:', float(chart14_cp[chart14_cp['Reference year'] == 2019].iloc[0]['Opening inventory'])/total)"
   ]
  },
  {
   "cell_type": "code",
   "execution_count": null,
   "id": "93a45db5-96bf-4a01-8adc-abb8c151a666",
   "metadata": {},
   "outputs": [],
   "source": []
  },
  {
   "cell_type": "markdown",
   "id": "6a639b41-aec0-4a14-b93a-f008c4bf4413",
   "metadata": {},
   "source": [
    "**The distribution of medium business expenses among expenses types was similar in the three years from 2017 to 2019, but it was different in rural and urban area.**\n",
    "\n",
    "**In 2019, rural area, 'Purchases, materials and sub-contracts' (43.89%), 'Other indirect expenses' (12.88%) were top 2 expenses types, which accounted for more than half (56.77%) of rural medium business expenses. For urban area, 'Purchases, materials and sub-contracts' (44.38%), 'Labour and commissions' (12.57%) were top 2 expenses types that accounted 56.95% expenses in total. Compared to the rural businesses, urban businesses speend more expenses on 'Labour and commissions'.**\n",
    "\n",
    "**In 2019, regardless of the location of businesses (both rural and urban), the opening inventory smaller than closing inventory. This is a bad indicator, which might mean that the produce was more than sell.**"
   ]
  },
  {
   "cell_type": "code",
   "execution_count": null,
   "id": "0b811fca-8909-46f2-8c33-16f8ee10f075",
   "metadata": {},
   "outputs": [],
   "source": []
  },
  {
   "cell_type": "markdown",
   "id": "ebe95ac5-6daf-4aea-99f8-f47adbfec291",
   "metadata": {
    "tags": []
   },
   "source": [
    "### industry shares of total expenses - rural area"
   ]
  },
  {
   "cell_type": "code",
   "execution_count": 45,
   "id": "8e7010cb-3650-409c-ad2d-074ae8b4fe52",
   "metadata": {},
   "outputs": [],
   "source": [
    "# chart 15 - total expenses - all industry\n",
    "chart15_df = mb_expenses_value_3y[(mb_expenses_value_3y['North American Industry Classification System, NAICS - code'] != '0') & (mb_expenses_value_3y['Total expenses, percent of businesses reporting'].astype(float) >= 90) & (mb_expenses_value_3y['Total expenses, quality indicator'] < 'E')]\n",
    "chart15_df = chart15_df[['North American Industry Classification System, NAICS','Reference year','Location indicator','Total expenses']]"
   ]
  },
  {
   "cell_type": "code",
   "execution_count": 46,
   "id": "7bf7d443-cb94-4906-a71a-9f59e0ccdb4c",
   "metadata": {},
   "outputs": [],
   "source": [
    "chart15_df = chart15_df[(chart15_df['Location indicator'] == 'Rural') & (chart15_df['Reference year'] == 2019)]"
   ]
  },
  {
   "cell_type": "code",
   "execution_count": 47,
   "id": "9c1a678e-a228-433e-b818-a65db4f31a8a",
   "metadata": {},
   "outputs": [],
   "source": [
    "chart15_df['Total expenses'] = chart15_df['Total expenses'].astype(float)"
   ]
  },
  {
   "cell_type": "code",
   "execution_count": null,
   "id": "3e589a2e-21e8-4799-9454-4dbaeba9a2d2",
   "metadata": {},
   "outputs": [],
   "source": []
  },
  {
   "cell_type": "code",
   "execution_count": 48,
   "id": "7737b423-bb23-48c3-ad57-af121182806d",
   "metadata": {},
   "outputs": [
    {
     "data": {
      "text/html": [
       "\n",
       "<div id=\"altair-viz-d1dc4b55589f46c7906962a0193c9549\"></div>\n",
       "<script type=\"text/javascript\">\n",
       "  var VEGA_DEBUG = (typeof VEGA_DEBUG == \"undefined\") ? {} : VEGA_DEBUG;\n",
       "  (function(spec, embedOpt){\n",
       "    let outputDiv = document.currentScript.previousElementSibling;\n",
       "    if (outputDiv.id !== \"altair-viz-d1dc4b55589f46c7906962a0193c9549\") {\n",
       "      outputDiv = document.getElementById(\"altair-viz-d1dc4b55589f46c7906962a0193c9549\");\n",
       "    }\n",
       "    const paths = {\n",
       "      \"vega\": \"https://cdn.jsdelivr.net/npm//vega@5?noext\",\n",
       "      \"vega-lib\": \"https://cdn.jsdelivr.net/npm//vega-lib?noext\",\n",
       "      \"vega-lite\": \"https://cdn.jsdelivr.net/npm//vega-lite@4.17.0?noext\",\n",
       "      \"vega-embed\": \"https://cdn.jsdelivr.net/npm//vega-embed@6?noext\",\n",
       "    };\n",
       "\n",
       "    function maybeLoadScript(lib, version) {\n",
       "      var key = `${lib.replace(\"-\", \"\")}_version`;\n",
       "      return (VEGA_DEBUG[key] == version) ?\n",
       "        Promise.resolve(paths[lib]) :\n",
       "        new Promise(function(resolve, reject) {\n",
       "          var s = document.createElement('script');\n",
       "          document.getElementsByTagName(\"head\")[0].appendChild(s);\n",
       "          s.async = true;\n",
       "          s.onload = () => {\n",
       "            VEGA_DEBUG[key] = version;\n",
       "            return resolve(paths[lib]);\n",
       "          };\n",
       "          s.onerror = () => reject(`Error loading script: ${paths[lib]}`);\n",
       "          s.src = paths[lib];\n",
       "        });\n",
       "    }\n",
       "\n",
       "    function showError(err) {\n",
       "      outputDiv.innerHTML = `<div class=\"error\" style=\"color:red;\">${err}</div>`;\n",
       "      throw err;\n",
       "    }\n",
       "\n",
       "    function displayChart(vegaEmbed) {\n",
       "      vegaEmbed(outputDiv, spec, embedOpt)\n",
       "        .catch(err => showError(`Javascript Error: ${err.message}<br>This usually means there's a typo in your chart specification. See the javascript console for the full traceback.`));\n",
       "    }\n",
       "\n",
       "    if(typeof define === \"function\" && define.amd) {\n",
       "      requirejs.config({paths});\n",
       "      require([\"vega-embed\"], displayChart, err => showError(`Error loading script: ${err.message}`));\n",
       "    } else {\n",
       "      maybeLoadScript(\"vega\", \"5\")\n",
       "        .then(() => maybeLoadScript(\"vega-lite\", \"4.17.0\"))\n",
       "        .then(() => maybeLoadScript(\"vega-embed\", \"6\"))\n",
       "        .catch(showError)\n",
       "        .then(() => displayChart(vegaEmbed));\n",
       "    }\n",
       "  })({\"config\": {\"view\": {\"continuousWidth\": 400, \"continuousHeight\": 300}}, \"data\": {\"name\": \"data-7412344426892645497505866b213d8c\"}, \"mark\": \"bar\", \"encoding\": {\"color\": {\"field\": \"North American Industry Classification System, NAICS\", \"legend\": null, \"type\": \"nominal\"}, \"row\": {\"field\": \"Reference year\", \"title\": \"\", \"type\": \"quantitative\"}, \"x\": {\"field\": \"Total expenses\", \"title\": \"Total Expenses\", \"type\": \"quantitative\"}, \"y\": {\"field\": \"North American Industry Classification System, NAICS\", \"sort\": \"x\", \"title\": \"\", \"type\": \"nominal\"}}, \"height\": 300, \"title\": {\"text\": \"Industry shares of total expenses\", \"subtitle\": \"Canada, medium businesses, urban areas, 2019\"}, \"width\": 400, \"$schema\": \"https://vega.github.io/schema/vega-lite/v4.17.0.json\", \"datasets\": {\"data-7412344426892645497505866b213d8c\": [{\"North American Industry Classification System, NAICS\": \"Agriculture, forestry, fishing and hunting\", \"Reference year\": 2019.0, \"Location indicator\": \"Rural\", \"Total expenses\": 9494.7}, {\"North American Industry Classification System, NAICS\": \"Mining, quarrying, and oil and gas extraction\", \"Reference year\": 2019.0, \"Location indicator\": \"Rural\", \"Total expenses\": 8366.9}, {\"North American Industry Classification System, NAICS\": \"Utilities\", \"Reference year\": 2019.0, \"Location indicator\": \"Rural\", \"Total expenses\": 8950.1}, {\"North American Industry Classification System, NAICS\": \"Construction\", \"Reference year\": 2019.0, \"Location indicator\": \"Rural\", \"Total expenses\": 8199.3}, {\"North American Industry Classification System, NAICS\": \"Manufacturing\", \"Reference year\": 2019.0, \"Location indicator\": \"Rural\", \"Total expenses\": 9421.3}, {\"North American Industry Classification System, NAICS\": \"Wholesale trade\", \"Reference year\": 2019.0, \"Location indicator\": \"Rural\", \"Total expenses\": 9561.7}, {\"North American Industry Classification System, NAICS\": \"Retail trade\", \"Reference year\": 2019.0, \"Location indicator\": \"Rural\", \"Total expenses\": 9514.3}, {\"North American Industry Classification System, NAICS\": \"Transportation and warehousing\", \"Reference year\": 2019.0, \"Location indicator\": \"Rural\", \"Total expenses\": 8154.9}, {\"North American Industry Classification System, NAICS\": \"Information and cultural industries\", \"Reference year\": 2019.0, \"Location indicator\": \"Rural\", \"Total expenses\": 7720.8}, {\"North American Industry Classification System, NAICS\": \"Real estate and rental and leasing\", \"Reference year\": 2019.0, \"Location indicator\": \"Rural\", \"Total expenses\": 6882.6}, {\"North American Industry Classification System, NAICS\": \"Professional, scientific and technical services\", \"Reference year\": 2019.0, \"Location indicator\": \"Rural\", \"Total expenses\": 6577.3}, {\"North American Industry Classification System, NAICS\": \"Management of companies and enterprises\", \"Reference year\": 2019.0, \"Location indicator\": \"Rural\", \"Total expenses\": 4287.4}, {\"North American Industry Classification System, NAICS\": \"Administrative and support, waste management and remediation services\", \"Reference year\": 2019.0, \"Location indicator\": \"Rural\", \"Total expenses\": 7843.1}, {\"North American Industry Classification System, NAICS\": \"Educational services\", \"Reference year\": 2019.0, \"Location indicator\": \"Rural\", \"Total expenses\": 6482.0}, {\"North American Industry Classification System, NAICS\": \"Health care and social assistance\", \"Reference year\": 2019.0, \"Location indicator\": \"Rural\", \"Total expenses\": 8093.7}, {\"North American Industry Classification System, NAICS\": \"Arts, entertainment and recreation\", \"Reference year\": 2019.0, \"Location indicator\": \"Rural\", \"Total expenses\": 8134.8}, {\"North American Industry Classification System, NAICS\": \"Accommodation and food services\", \"Reference year\": 2019.0, \"Location indicator\": \"Rural\", \"Total expenses\": 8085.0}, {\"North American Industry Classification System, NAICS\": \"Other services (except public administration)\", \"Reference year\": 2019.0, \"Location indicator\": \"Rural\", \"Total expenses\": 7646.5}]}}, {\"mode\": \"vega-lite\"});\n",
       "</script>"
      ],
      "text/plain": [
       "alt.Chart(...)"
      ]
     },
     "execution_count": 48,
     "metadata": {},
     "output_type": "execute_result"
    }
   ],
   "source": [
    "alt.Chart(chart15_df,title=alt.TitleParams(text = \"Industry shares of total expenses\", \n",
    "                                           subtitle = \"Canada, medium businesses, urban areas, 2019\")).mark_bar().encode(\n",
    "    x=alt.X('Total expenses:Q', title='Total Expenses'),\n",
    "    y=alt.Y('North American Industry Classification System, NAICS', title='',sort='x'),\n",
    "    color=alt.Color('North American Industry Classification System, NAICS', legend=None),\n",
    "    row=alt.Row('Reference year', title='')\n",
    ").properties(width=400, height=300)"
   ]
  },
  {
   "cell_type": "code",
   "execution_count": 49,
   "id": "31a35353-12a6-4068-9599-f0a7a8b2e48a",
   "metadata": {
    "scrolled": true,
    "tags": []
   },
   "outputs": [
    {
     "data": {
      "text/html": [
       "<div>\n",
       "<style scoped>\n",
       "    .dataframe tbody tr th:only-of-type {\n",
       "        vertical-align: middle;\n",
       "    }\n",
       "\n",
       "    .dataframe tbody tr th {\n",
       "        vertical-align: top;\n",
       "    }\n",
       "\n",
       "    .dataframe thead th {\n",
       "        text-align: right;\n",
       "    }\n",
       "</style>\n",
       "<table border=\"1\" class=\"dataframe\">\n",
       "  <thead>\n",
       "    <tr style=\"text-align: right;\">\n",
       "      <th></th>\n",
       "      <th>North American Industry Classification System, NAICS</th>\n",
       "      <th>Reference year</th>\n",
       "      <th>Location indicator</th>\n",
       "      <th>Total expenses</th>\n",
       "    </tr>\n",
       "  </thead>\n",
       "  <tbody>\n",
       "    <tr>\n",
       "      <th>175</th>\n",
       "      <td>Management of companies and enterprises</td>\n",
       "      <td>2019.0</td>\n",
       "      <td>Rural</td>\n",
       "      <td>4287.4</td>\n",
       "    </tr>\n",
       "    <tr>\n",
       "      <th>185</th>\n",
       "      <td>Educational services</td>\n",
       "      <td>2019.0</td>\n",
       "      <td>Rural</td>\n",
       "      <td>6482.0</td>\n",
       "    </tr>\n",
       "    <tr>\n",
       "      <th>171</th>\n",
       "      <td>Professional, scientific and technical services</td>\n",
       "      <td>2019.0</td>\n",
       "      <td>Rural</td>\n",
       "      <td>6577.3</td>\n",
       "    </tr>\n",
       "    <tr>\n",
       "      <th>163</th>\n",
       "      <td>Real estate and rental and leasing</td>\n",
       "      <td>2019.0</td>\n",
       "      <td>Rural</td>\n",
       "      <td>6882.6</td>\n",
       "    </tr>\n",
       "    <tr>\n",
       "      <th>213</th>\n",
       "      <td>Other services (except public administration)</td>\n",
       "      <td>2019.0</td>\n",
       "      <td>Rural</td>\n",
       "      <td>7646.5</td>\n",
       "    </tr>\n",
       "    <tr>\n",
       "      <th>149</th>\n",
       "      <td>Information and cultural industries</td>\n",
       "      <td>2019.0</td>\n",
       "      <td>Rural</td>\n",
       "      <td>7720.8</td>\n",
       "    </tr>\n",
       "    <tr>\n",
       "      <th>179</th>\n",
       "      <td>Administrative and support, waste management a...</td>\n",
       "      <td>2019.0</td>\n",
       "      <td>Rural</td>\n",
       "      <td>7843.1</td>\n",
       "    </tr>\n",
       "    <tr>\n",
       "      <th>207</th>\n",
       "      <td>Accommodation and food services</td>\n",
       "      <td>2019.0</td>\n",
       "      <td>Rural</td>\n",
       "      <td>8085.0</td>\n",
       "    </tr>\n",
       "    <tr>\n",
       "      <th>189</th>\n",
       "      <td>Health care and social assistance</td>\n",
       "      <td>2019.0</td>\n",
       "      <td>Rural</td>\n",
       "      <td>8093.7</td>\n",
       "    </tr>\n",
       "    <tr>\n",
       "      <th>199</th>\n",
       "      <td>Arts, entertainment and recreation</td>\n",
       "      <td>2019.0</td>\n",
       "      <td>Rural</td>\n",
       "      <td>8134.8</td>\n",
       "    </tr>\n",
       "    <tr>\n",
       "      <th>125</th>\n",
       "      <td>Transportation and warehousing</td>\n",
       "      <td>2019.0</td>\n",
       "      <td>Rural</td>\n",
       "      <td>8154.9</td>\n",
       "    </tr>\n",
       "    <tr>\n",
       "      <th>27</th>\n",
       "      <td>Construction</td>\n",
       "      <td>2019.0</td>\n",
       "      <td>Rural</td>\n",
       "      <td>8199.3</td>\n",
       "    </tr>\n",
       "    <tr>\n",
       "      <th>15</th>\n",
       "      <td>Mining, quarrying, and oil and gas extraction</td>\n",
       "      <td>2019.0</td>\n",
       "      <td>Rural</td>\n",
       "      <td>8366.9</td>\n",
       "    </tr>\n",
       "    <tr>\n",
       "      <th>23</th>\n",
       "      <td>Utilities</td>\n",
       "      <td>2019.0</td>\n",
       "      <td>Rural</td>\n",
       "      <td>8950.1</td>\n",
       "    </tr>\n",
       "    <tr>\n",
       "      <th>35</th>\n",
       "      <td>Manufacturing</td>\n",
       "      <td>2019.0</td>\n",
       "      <td>Rural</td>\n",
       "      <td>9421.3</td>\n",
       "    </tr>\n",
       "    <tr>\n",
       "      <th>3</th>\n",
       "      <td>Agriculture, forestry, fishing and hunting</td>\n",
       "      <td>2019.0</td>\n",
       "      <td>Rural</td>\n",
       "      <td>9494.7</td>\n",
       "    </tr>\n",
       "    <tr>\n",
       "      <th>99</th>\n",
       "      <td>Retail trade</td>\n",
       "      <td>2019.0</td>\n",
       "      <td>Rural</td>\n",
       "      <td>9514.3</td>\n",
       "    </tr>\n",
       "    <tr>\n",
       "      <th>79</th>\n",
       "      <td>Wholesale trade</td>\n",
       "      <td>2019.0</td>\n",
       "      <td>Rural</td>\n",
       "      <td>9561.7</td>\n",
       "    </tr>\n",
       "  </tbody>\n",
       "</table>\n",
       "</div>"
      ],
      "text/plain": [
       "    North American Industry Classification System, NAICS  Reference year  \\\n",
       "175            Management of companies and enterprises            2019.0   \n",
       "185                               Educational services            2019.0   \n",
       "171    Professional, scientific and technical services            2019.0   \n",
       "163                 Real estate and rental and leasing            2019.0   \n",
       "213      Other services (except public administration)            2019.0   \n",
       "149                Information and cultural industries            2019.0   \n",
       "179  Administrative and support, waste management a...            2019.0   \n",
       "207                    Accommodation and food services            2019.0   \n",
       "189                  Health care and social assistance            2019.0   \n",
       "199                 Arts, entertainment and recreation            2019.0   \n",
       "125                     Transportation and warehousing            2019.0   \n",
       "27                                        Construction            2019.0   \n",
       "15       Mining, quarrying, and oil and gas extraction            2019.0   \n",
       "23                                           Utilities            2019.0   \n",
       "35                                       Manufacturing            2019.0   \n",
       "3           Agriculture, forestry, fishing and hunting            2019.0   \n",
       "99                                        Retail trade            2019.0   \n",
       "79                                     Wholesale trade            2019.0   \n",
       "\n",
       "    Location indicator  Total expenses  \n",
       "175              Rural          4287.4  \n",
       "185              Rural          6482.0  \n",
       "171              Rural          6577.3  \n",
       "163              Rural          6882.6  \n",
       "213              Rural          7646.5  \n",
       "149              Rural          7720.8  \n",
       "179              Rural          7843.1  \n",
       "207              Rural          8085.0  \n",
       "189              Rural          8093.7  \n",
       "199              Rural          8134.8  \n",
       "125              Rural          8154.9  \n",
       "27               Rural          8199.3  \n",
       "15               Rural          8366.9  \n",
       "23               Rural          8950.1  \n",
       "35               Rural          9421.3  \n",
       "3                Rural          9494.7  \n",
       "99               Rural          9514.3  \n",
       "79               Rural          9561.7  "
      ]
     },
     "execution_count": 49,
     "metadata": {},
     "output_type": "execute_result"
    }
   ],
   "source": [
    "chart15_df.sort_values(['Total expenses'])"
   ]
  },
  {
   "cell_type": "code",
   "execution_count": 50,
   "id": "6e45e9b9-4eef-44a9-9b02-a5943ba249e5",
   "metadata": {},
   "outputs": [
    {
     "name": "stdout",
     "output_type": "stream",
     "text": [
      "Wholesale trade: 0.06667089677331185\n",
      "Agriculture, forestry, fishing and hunting: 0.06620372565480658\n",
      "Retail trade: 0.0663403906387275\n"
     ]
    }
   ],
   "source": [
    "total = chart15_df['Total expenses'].sum()\n",
    "print('Wholesale trade:', float(chart15_df[chart15_df['North American Industry Classification System, NAICS'] == 'Wholesale trade'].iloc[0]['Total expenses'])/total)\n",
    "print('Agriculture, forestry, fishing and hunting:', float(chart15_df[chart15_df['North American Industry Classification System, NAICS'] == 'Agriculture, forestry, fishing and hunting'].iloc[0]['Total expenses'])/total)\n",
    "print('Retail trade:', float(chart15_df[chart15_df['North American Industry Classification System, NAICS'] == 'Retail trade'].iloc[0]['Total expenses'])/total)"
   ]
  },
  {
   "cell_type": "markdown",
   "id": "c866de9d-6100-43a3-b642-b3bf41dea8ef",
   "metadata": {},
   "source": [
    "**In 2019, rural area, 'Wholesale trade' (6.67%), 'Retail trade' (6.63%), 'Agriculture, forestry, fishing and hunting' (6.62%) are top 3 industries, which accounted for only 19.92% of rural medium business expenses. This might mean that the expenses differences between industries were not large.**"
   ]
  },
  {
   "cell_type": "code",
   "execution_count": null,
   "id": "75c6a831-c6e1-4df3-b662-05194744adc9",
   "metadata": {},
   "outputs": [],
   "source": []
  },
  {
   "cell_type": "markdown",
   "id": "3d897f39-7ef1-4cad-9d17-6e436dc888eb",
   "metadata": {},
   "source": [
    "# Small businesses"
   ]
  },
  {
   "cell_type": "markdown",
   "id": "9bee58e9-20d9-42e8-a4a7-47e287b10ed1",
   "metadata": {
    "tags": []
   },
   "source": [
    "### Total expenses - All industry - Small businesses"
   ]
  },
  {
   "cell_type": "code",
   "execution_count": 51,
   "id": "b5d4ad2f-0207-4b32-be97-e59f74e79931",
   "metadata": {},
   "outputs": [],
   "source": [
    "chart2_df = sb_revenue_value_3y[~(sb_revenue_value_3y['Total expenses, quality indicator'].isna()) & (sb_revenue_value_3y['Geography - code'] == 0) & (sb_revenue_value_3y['North American Industry Classification System, NAICS - code'] == '0') & (sb_revenue_value_3y['Total expenses, quality indicator'] < 'E')]\n",
    "chart2_df = chart2_df[(chart2_df['Total expenses, percent of businesses reporting'].astype(float) >= 90)]\n",
    "chart2_df = chart2_df[['Reference year','Location indicator','Total expenses','Incorporation status']]\n",
    "chart2_df['temp'] = chart2_df['Location indicator'] + ' - ' + chart2_df['Incorporation status']"
   ]
  },
  {
   "cell_type": "code",
   "execution_count": 52,
   "id": "2e0381c7-2481-4b90-ba58-40eb4c5a3955",
   "metadata": {},
   "outputs": [],
   "source": [
    "chart2 = alt.Chart(chart2_df, title=alt.TitleParams(text = \"Average total expenses of small businesses\", \n",
    "                                           subtitle = \"Canada, all inductries, by rural and urban areas, 2017 - 2019\")).mark_bar().encode(\n",
    "    x=alt.X('temp', title=''),\n",
    "    y=alt.Y('Total expenses:Q', title='Total Expenses'),\n",
    "    color=alt.Color('Incorporation status', legend=None),\n",
    "    column=alt.Column('Reference year', title='')\n",
    ").properties(width=150, height=300)"
   ]
  },
  {
   "cell_type": "code",
   "execution_count": 53,
   "id": "8a347968-2137-4ec3-a958-9bd1d6abe86e",
   "metadata": {},
   "outputs": [],
   "source": [
    "chart2_1_df = sb_revenue_persent_3y[~(sb_revenue_persent_3y['Total expenses (%), quality indicator'].isna()) & (sb_revenue_persent_3y['Geography - code'] == 0) & (sb_revenue_persent_3y['North American Industry Classification System, NAICS - code'] == '0') & (sb_revenue_persent_3y['Total expenses (%), quality indicator'] < 'E')]\n",
    "chart2_1_df = chart2_1_df[(chart2_1_df['Total expenses (%), percent of businesses reporting'].astype(float) >= 90)]\n",
    "chart2_1_df = chart2_1_df[['Reference year','Location indicator','Total expenses (%)','Incorporation status']]\n",
    "chart2_1_df['temp'] = chart2_1_df['Location indicator'] + ' - ' + chart2_1_df['Incorporation status']"
   ]
  },
  {
   "cell_type": "code",
   "execution_count": 54,
   "id": "aedb5bff-1dd5-4876-90cc-a4534680dbe9",
   "metadata": {},
   "outputs": [],
   "source": [
    "chart2_1 = alt.Chart(chart2_1_df, title=alt.TitleParams(text = \"Percentage of total expenses in total revenues of medium businesses\", \n",
    "                                           subtitle = \"Canada, all inductries, by rural and urban areas, 2017 - 2019\")).mark_bar().encode(\n",
    "    x=alt.X('temp', title=''),\n",
    "    y=alt.Y('Total expenses (%):Q', title='Total Expenses (%)'),\n",
    "    color=alt.Color('Incorporation status', legend=None),\n",
    "    column=alt.Column('Reference year', title='')\n",
    ").properties(width=150, height=300)"
   ]
  },
  {
   "cell_type": "code",
   "execution_count": 55,
   "id": "0e80aaa4-08d4-4fda-8616-0bc0763eaa34",
   "metadata": {},
   "outputs": [
    {
     "data": {
      "text/html": [
       "\n",
       "<div id=\"altair-viz-33cb7e13a4b0495984e8d4af087226a2\"></div>\n",
       "<script type=\"text/javascript\">\n",
       "  var VEGA_DEBUG = (typeof VEGA_DEBUG == \"undefined\") ? {} : VEGA_DEBUG;\n",
       "  (function(spec, embedOpt){\n",
       "    let outputDiv = document.currentScript.previousElementSibling;\n",
       "    if (outputDiv.id !== \"altair-viz-33cb7e13a4b0495984e8d4af087226a2\") {\n",
       "      outputDiv = document.getElementById(\"altair-viz-33cb7e13a4b0495984e8d4af087226a2\");\n",
       "    }\n",
       "    const paths = {\n",
       "      \"vega\": \"https://cdn.jsdelivr.net/npm//vega@5?noext\",\n",
       "      \"vega-lib\": \"https://cdn.jsdelivr.net/npm//vega-lib?noext\",\n",
       "      \"vega-lite\": \"https://cdn.jsdelivr.net/npm//vega-lite@4.17.0?noext\",\n",
       "      \"vega-embed\": \"https://cdn.jsdelivr.net/npm//vega-embed@6?noext\",\n",
       "    };\n",
       "\n",
       "    function maybeLoadScript(lib, version) {\n",
       "      var key = `${lib.replace(\"-\", \"\")}_version`;\n",
       "      return (VEGA_DEBUG[key] == version) ?\n",
       "        Promise.resolve(paths[lib]) :\n",
       "        new Promise(function(resolve, reject) {\n",
       "          var s = document.createElement('script');\n",
       "          document.getElementsByTagName(\"head\")[0].appendChild(s);\n",
       "          s.async = true;\n",
       "          s.onload = () => {\n",
       "            VEGA_DEBUG[key] = version;\n",
       "            return resolve(paths[lib]);\n",
       "          };\n",
       "          s.onerror = () => reject(`Error loading script: ${paths[lib]}`);\n",
       "          s.src = paths[lib];\n",
       "        });\n",
       "    }\n",
       "\n",
       "    function showError(err) {\n",
       "      outputDiv.innerHTML = `<div class=\"error\" style=\"color:red;\">${err}</div>`;\n",
       "      throw err;\n",
       "    }\n",
       "\n",
       "    function displayChart(vegaEmbed) {\n",
       "      vegaEmbed(outputDiv, spec, embedOpt)\n",
       "        .catch(err => showError(`Javascript Error: ${err.message}<br>This usually means there's a typo in your chart specification. See the javascript console for the full traceback.`));\n",
       "    }\n",
       "\n",
       "    if(typeof define === \"function\" && define.amd) {\n",
       "      requirejs.config({paths});\n",
       "      require([\"vega-embed\"], displayChart, err => showError(`Error loading script: ${err.message}`));\n",
       "    } else {\n",
       "      maybeLoadScript(\"vega\", \"5\")\n",
       "        .then(() => maybeLoadScript(\"vega-lite\", \"4.17.0\"))\n",
       "        .then(() => maybeLoadScript(\"vega-embed\", \"6\"))\n",
       "        .catch(showError)\n",
       "        .then(() => displayChart(vegaEmbed));\n",
       "    }\n",
       "  })({\"config\": {\"view\": {\"continuousWidth\": 400, \"continuousHeight\": 300}}, \"hconcat\": [{\"data\": {\"name\": \"data-4d23ff3ced4921eadd13f910d44280ec\"}, \"mark\": \"bar\", \"encoding\": {\"color\": {\"field\": \"Incorporation status\", \"legend\": null, \"type\": \"nominal\"}, \"column\": {\"field\": \"Reference year\", \"title\": \"\", \"type\": \"quantitative\"}, \"x\": {\"field\": \"temp\", \"title\": \"\", \"type\": \"nominal\"}, \"y\": {\"field\": \"Total expenses\", \"title\": \"Total Expenses\", \"type\": \"quantitative\"}}, \"height\": 300, \"title\": {\"text\": \"Average total expenses of small businesses\", \"subtitle\": \"Canada, all inductries, by rural and urban areas, 2017 - 2019\"}, \"width\": 150}, {\"data\": {\"name\": \"data-6336bb674002d18063c7c28406f7abba\"}, \"mark\": \"bar\", \"encoding\": {\"color\": {\"field\": \"Incorporation status\", \"legend\": null, \"type\": \"nominal\"}, \"column\": {\"field\": \"Reference year\", \"title\": \"\", \"type\": \"quantitative\"}, \"x\": {\"field\": \"temp\", \"title\": \"\", \"type\": \"nominal\"}, \"y\": {\"field\": \"Total expenses (%)\", \"title\": \"Total Expenses (%)\", \"type\": \"quantitative\"}}, \"height\": 300, \"title\": {\"text\": \"Percentage of total expenses in total revenues of medium businesses\", \"subtitle\": \"Canada, all inductries, by rural and urban areas, 2017 - 2019\"}, \"width\": 150}], \"$schema\": \"https://vega.github.io/schema/vega-lite/v4.17.0.json\", \"datasets\": {\"data-4d23ff3ced4921eadd13f910d44280ec\": [{\"Reference year\": 2017.0, \"Location indicator\": \"Rural\", \"Total expenses\": \"92\", \"Incorporation status\": \"Unincorporated\", \"temp\": \"Rural - Unincorporated\"}, {\"Reference year\": 2017.0, \"Location indicator\": \"Rural\", \"Total expenses\": \"592.4\", \"Incorporation status\": \"Incorporated\", \"temp\": \"Rural - Incorporated\"}, {\"Reference year\": 2017.0, \"Location indicator\": \"Rural\", \"Total expenses\": \"408.7\", \"Incorporation status\": \"All businesses\", \"temp\": \"Rural - All businesses\"}, {\"Reference year\": 2017.0, \"Location indicator\": \"Urban\", \"Total expenses\": \"70.3\", \"Incorporation status\": \"Unincorporated\", \"temp\": \"Urban - Unincorporated\"}, {\"Reference year\": 2017.0, \"Location indicator\": \"Urban\", \"Total expenses\": \"500.6\", \"Incorporation status\": \"Incorporated\", \"temp\": \"Urban - Incorporated\"}, {\"Reference year\": 2017.0, \"Location indicator\": \"Urban\", \"Total expenses\": \"340.1\", \"Incorporation status\": \"All businesses\", \"temp\": \"Urban - All businesses\"}, {\"Reference year\": 2018.0, \"Location indicator\": \"Rural\", \"Total expenses\": \"91.5\", \"Incorporation status\": \"Unincorporated\", \"temp\": \"Rural - Unincorporated\"}, {\"Reference year\": 2018.0, \"Location indicator\": \"Rural\", \"Total expenses\": \"596.6\", \"Incorporation status\": \"Incorporated\", \"temp\": \"Rural - Incorporated\"}, {\"Reference year\": 2018.0, \"Location indicator\": \"Rural\", \"Total expenses\": \"412.5\", \"Incorporation status\": \"All businesses\", \"temp\": \"Rural - All businesses\"}, {\"Reference year\": 2018.0, \"Location indicator\": \"Urban\", \"Total expenses\": \"68.8\", \"Incorporation status\": \"Unincorporated\", \"temp\": \"Urban - Unincorporated\"}, {\"Reference year\": 2018.0, \"Location indicator\": \"Urban\", \"Total expenses\": \"499.2\", \"Incorporation status\": \"Incorporated\", \"temp\": \"Urban - Incorporated\"}, {\"Reference year\": 2018.0, \"Location indicator\": \"Urban\", \"Total expenses\": \"340.1\", \"Incorporation status\": \"All businesses\", \"temp\": \"Urban - All businesses\"}, {\"Reference year\": 2019.0, \"Location indicator\": \"Rural\", \"Total expenses\": \"89.2\", \"Incorporation status\": \"Unincorporated\", \"temp\": \"Rural - Unincorporated\"}, {\"Reference year\": 2019.0, \"Location indicator\": \"Rural\", \"Total expenses\": \"606.8\", \"Incorporation status\": \"Incorporated\", \"temp\": \"Rural - Incorporated\"}, {\"Reference year\": 2019.0, \"Location indicator\": \"Rural\", \"Total expenses\": \"417.2\", \"Incorporation status\": \"All businesses\", \"temp\": \"Rural - All businesses\"}, {\"Reference year\": 2019.0, \"Location indicator\": \"Urban\", \"Total expenses\": \"65.9\", \"Incorporation status\": \"Unincorporated\", \"temp\": \"Urban - Unincorporated\"}, {\"Reference year\": 2019.0, \"Location indicator\": \"Urban\", \"Total expenses\": \"504.9\", \"Incorporation status\": \"Incorporated\", \"temp\": \"Urban - Incorporated\"}, {\"Reference year\": 2019.0, \"Location indicator\": \"Urban\", \"Total expenses\": \"338.5\", \"Incorporation status\": \"All businesses\", \"temp\": \"Urban - All businesses\"}], \"data-6336bb674002d18063c7c28406f7abba\": [{\"Reference year\": 2017.0, \"Location indicator\": \"Rural\", \"Total expenses (%)\": \"70.5\", \"Incorporation status\": \"Unincorporated\", \"temp\": \"Rural - Unincorporated\"}, {\"Reference year\": 2017.0, \"Location indicator\": \"Rural\", \"Total expenses (%)\": \"95.2\", \"Incorporation status\": \"Incorporated\", \"temp\": \"Rural - Incorporated\"}, {\"Reference year\": 2017.0, \"Location indicator\": \"Rural\", \"Total expenses (%)\": \"92.5\", \"Incorporation status\": \"All businesses\", \"temp\": \"Rural - All businesses\"}, {\"Reference year\": 2017.0, \"Location indicator\": \"Urban\", \"Total expenses (%)\": \"60.9\", \"Incorporation status\": \"Unincorporated\", \"temp\": \"Urban - Unincorporated\"}, {\"Reference year\": 2017.0, \"Location indicator\": \"Urban\", \"Total expenses (%)\": \"88.3\", \"Incorporation status\": \"Incorporated\", \"temp\": \"Urban - Incorporated\"}, {\"Reference year\": 2017.0, \"Location indicator\": \"Urban\", \"Total expenses (%)\": \"85.4\", \"Incorporation status\": \"All businesses\", \"temp\": \"Urban - All businesses\"}, {\"Reference year\": 2018.0, \"Location indicator\": \"Rural\", \"Total expenses (%)\": \"70.3\", \"Incorporation status\": \"Unincorporated\", \"temp\": \"Rural - Unincorporated\"}, {\"Reference year\": 2018.0, \"Location indicator\": \"Rural\", \"Total expenses (%)\": \"95.7\", \"Incorporation status\": \"Incorporated\", \"temp\": \"Rural - Incorporated\"}, {\"Reference year\": 2018.0, \"Location indicator\": \"Rural\", \"Total expenses (%)\": \"93\", \"Incorporation status\": \"All businesses\", \"temp\": \"Rural - All businesses\"}, {\"Reference year\": 2018.0, \"Location indicator\": \"Urban\", \"Total expenses (%)\": \"60.7\", \"Incorporation status\": \"Unincorporated\", \"temp\": \"Urban - Unincorporated\"}, {\"Reference year\": 2018.0, \"Location indicator\": \"Urban\", \"Total expenses (%)\": \"88.3\", \"Incorporation status\": \"Incorporated\", \"temp\": \"Urban - Incorporated\"}, {\"Reference year\": 2018.0, \"Location indicator\": \"Urban\", \"Total expenses (%)\": \"85.4\", \"Incorporation status\": \"All businesses\", \"temp\": \"Urban - All businesses\"}, {\"Reference year\": 2019.0, \"Location indicator\": \"Rural\", \"Total expenses (%)\": \"69.5\", \"Incorporation status\": \"Unincorporated\", \"temp\": \"Rural - Unincorporated\"}, {\"Reference year\": 2019.0, \"Location indicator\": \"Rural\", \"Total expenses (%)\": \"96.4\", \"Incorporation status\": \"Incorporated\", \"temp\": \"Rural - Incorporated\"}, {\"Reference year\": 2019.0, \"Location indicator\": \"Rural\", \"Total expenses (%)\": \"93.6\", \"Incorporation status\": \"All businesses\", \"temp\": \"Rural - All businesses\"}, {\"Reference year\": 2019.0, \"Location indicator\": \"Urban\", \"Total expenses (%)\": \"59.9\", \"Incorporation status\": \"Unincorporated\", \"temp\": \"Urban - Unincorporated\"}, {\"Reference year\": 2019.0, \"Location indicator\": \"Urban\", \"Total expenses (%)\": \"88.9\", \"Incorporation status\": \"Incorporated\", \"temp\": \"Urban - Incorporated\"}, {\"Reference year\": 2019.0, \"Location indicator\": \"Urban\", \"Total expenses (%)\": \"85.9\", \"Incorporation status\": \"All businesses\", \"temp\": \"Urban - All businesses\"}]}}, {\"mode\": \"vega-lite\"});\n",
       "</script>"
      ],
      "text/plain": [
       "alt.HConcatChart(...)"
      ]
     },
     "execution_count": 55,
     "metadata": {},
     "output_type": "execute_result"
    }
   ],
   "source": [
    "chart2 | chart2_1"
   ]
  },
  {
   "cell_type": "code",
   "execution_count": 56,
   "id": "b088b823-c3ba-4010-9f96-02a726bf5827",
   "metadata": {},
   "outputs": [
    {
     "data": {
      "text/html": [
       "<div>\n",
       "<style scoped>\n",
       "    .dataframe tbody tr th:only-of-type {\n",
       "        vertical-align: middle;\n",
       "    }\n",
       "\n",
       "    .dataframe tbody tr th {\n",
       "        vertical-align: top;\n",
       "    }\n",
       "\n",
       "    .dataframe thead th {\n",
       "        text-align: right;\n",
       "    }\n",
       "</style>\n",
       "<table border=\"1\" class=\"dataframe\">\n",
       "  <thead>\n",
       "    <tr style=\"text-align: right;\">\n",
       "      <th></th>\n",
       "      <th>Reference year</th>\n",
       "      <th>Location indicator_x</th>\n",
       "      <th>Total expenses_x</th>\n",
       "      <th>Incorporation status</th>\n",
       "      <th>Location indicator_y</th>\n",
       "      <th>Total expenses_y</th>\n",
       "    </tr>\n",
       "  </thead>\n",
       "  <tbody>\n",
       "    <tr>\n",
       "      <th>0</th>\n",
       "      <td>2017.0</td>\n",
       "      <td>Rural</td>\n",
       "      <td>92</td>\n",
       "      <td>Unincorporated</td>\n",
       "      <td>Urban</td>\n",
       "      <td>70.3</td>\n",
       "    </tr>\n",
       "    <tr>\n",
       "      <th>1</th>\n",
       "      <td>2017.0</td>\n",
       "      <td>Rural</td>\n",
       "      <td>592.4</td>\n",
       "      <td>Incorporated</td>\n",
       "      <td>Urban</td>\n",
       "      <td>500.6</td>\n",
       "    </tr>\n",
       "    <tr>\n",
       "      <th>2</th>\n",
       "      <td>2017.0</td>\n",
       "      <td>Rural</td>\n",
       "      <td>408.7</td>\n",
       "      <td>All businesses</td>\n",
       "      <td>Urban</td>\n",
       "      <td>340.1</td>\n",
       "    </tr>\n",
       "    <tr>\n",
       "      <th>3</th>\n",
       "      <td>2018.0</td>\n",
       "      <td>Rural</td>\n",
       "      <td>91.5</td>\n",
       "      <td>Unincorporated</td>\n",
       "      <td>Urban</td>\n",
       "      <td>68.8</td>\n",
       "    </tr>\n",
       "    <tr>\n",
       "      <th>4</th>\n",
       "      <td>2018.0</td>\n",
       "      <td>Rural</td>\n",
       "      <td>596.6</td>\n",
       "      <td>Incorporated</td>\n",
       "      <td>Urban</td>\n",
       "      <td>499.2</td>\n",
       "    </tr>\n",
       "    <tr>\n",
       "      <th>5</th>\n",
       "      <td>2018.0</td>\n",
       "      <td>Rural</td>\n",
       "      <td>412.5</td>\n",
       "      <td>All businesses</td>\n",
       "      <td>Urban</td>\n",
       "      <td>340.1</td>\n",
       "    </tr>\n",
       "    <tr>\n",
       "      <th>6</th>\n",
       "      <td>2019.0</td>\n",
       "      <td>Rural</td>\n",
       "      <td>89.2</td>\n",
       "      <td>Unincorporated</td>\n",
       "      <td>Urban</td>\n",
       "      <td>65.9</td>\n",
       "    </tr>\n",
       "    <tr>\n",
       "      <th>7</th>\n",
       "      <td>2019.0</td>\n",
       "      <td>Rural</td>\n",
       "      <td>606.8</td>\n",
       "      <td>Incorporated</td>\n",
       "      <td>Urban</td>\n",
       "      <td>504.9</td>\n",
       "    </tr>\n",
       "    <tr>\n",
       "      <th>8</th>\n",
       "      <td>2019.0</td>\n",
       "      <td>Rural</td>\n",
       "      <td>417.2</td>\n",
       "      <td>All businesses</td>\n",
       "      <td>Urban</td>\n",
       "      <td>338.5</td>\n",
       "    </tr>\n",
       "  </tbody>\n",
       "</table>\n",
       "</div>"
      ],
      "text/plain": [
       "   Reference year Location indicator_x Total expenses_x Incorporation status  \\\n",
       "0          2017.0                Rural               92       Unincorporated   \n",
       "1          2017.0                Rural            592.4         Incorporated   \n",
       "2          2017.0                Rural            408.7       All businesses   \n",
       "3          2018.0                Rural             91.5       Unincorporated   \n",
       "4          2018.0                Rural            596.6         Incorporated   \n",
       "5          2018.0                Rural            412.5       All businesses   \n",
       "6          2019.0                Rural             89.2       Unincorporated   \n",
       "7          2019.0                Rural            606.8         Incorporated   \n",
       "8          2019.0                Rural            417.2       All businesses   \n",
       "\n",
       "  Location indicator_y Total expenses_y  \n",
       "0                Urban             70.3  \n",
       "1                Urban            500.6  \n",
       "2                Urban            340.1  \n",
       "3                Urban             68.8  \n",
       "4                Urban            499.2  \n",
       "5                Urban            340.1  \n",
       "6                Urban             65.9  \n",
       "7                Urban            504.9  \n",
       "8                Urban            338.5  "
      ]
     },
     "execution_count": 56,
     "metadata": {},
     "output_type": "execute_result"
    }
   ],
   "source": [
    "analysis2 = pd.merge(left=chart2_df[chart2_df['Location indicator'] == 'Rural'][['Reference year','Location indicator','Total expenses','Incorporation status']],right=chart2_df[chart2_df['Location indicator'] == 'Urban'][['Reference year','Location indicator','Total expenses','Incorporation status']],how='inner',on=['Reference year','Incorporation status'])\n",
    "analysis2"
   ]
  },
  {
   "cell_type": "code",
   "execution_count": 57,
   "id": "194f17ab-7918-4d93-8475-979c3a6afe61",
   "metadata": {},
   "outputs": [
    {
     "data": {
      "text/plain": [
       "412.8"
      ]
     },
     "execution_count": 57,
     "metadata": {},
     "output_type": "execute_result"
    }
   ],
   "source": [
    "analysis2[analysis2['Incorporation status'] == 'All businesses']['Total expenses_x'].astype(float).mean()"
   ]
  },
  {
   "cell_type": "code",
   "execution_count": 58,
   "id": "80b4f671-2d00-416c-8bb5-b2c5a39ebdc8",
   "metadata": {},
   "outputs": [
    {
     "data": {
      "text/plain": [
       "339.56666666666666"
      ]
     },
     "execution_count": 58,
     "metadata": {},
     "output_type": "execute_result"
    }
   ],
   "source": [
    "analysis2[analysis2['Incorporation status'] == 'All businesses']['Total expenses_y'].astype(float).mean()"
   ]
  },
  {
   "cell_type": "code",
   "execution_count": null,
   "id": "27f03451-8ac6-4db9-96cb-e4e3e3380b88",
   "metadata": {},
   "outputs": [],
   "source": []
  },
  {
   "cell_type": "code",
   "execution_count": 59,
   "id": "ba0753b7-eda3-4b77-b988-7d0b658252d3",
   "metadata": {},
   "outputs": [
    {
     "data": {
      "text/html": [
       "<div>\n",
       "<style scoped>\n",
       "    .dataframe tbody tr th:only-of-type {\n",
       "        vertical-align: middle;\n",
       "    }\n",
       "\n",
       "    .dataframe tbody tr th {\n",
       "        vertical-align: top;\n",
       "    }\n",
       "\n",
       "    .dataframe thead th {\n",
       "        text-align: right;\n",
       "    }\n",
       "</style>\n",
       "<table border=\"1\" class=\"dataframe\">\n",
       "  <thead>\n",
       "    <tr style=\"text-align: right;\">\n",
       "      <th></th>\n",
       "      <th>Reference year</th>\n",
       "      <th>Location indicator_x</th>\n",
       "      <th>Total expenses (%)_x</th>\n",
       "      <th>Incorporation status</th>\n",
       "      <th>Location indicator_y</th>\n",
       "      <th>Total expenses (%)_y</th>\n",
       "    </tr>\n",
       "  </thead>\n",
       "  <tbody>\n",
       "    <tr>\n",
       "      <th>0</th>\n",
       "      <td>2017.0</td>\n",
       "      <td>Rural</td>\n",
       "      <td>70.5</td>\n",
       "      <td>Unincorporated</td>\n",
       "      <td>Urban</td>\n",
       "      <td>60.9</td>\n",
       "    </tr>\n",
       "    <tr>\n",
       "      <th>1</th>\n",
       "      <td>2017.0</td>\n",
       "      <td>Rural</td>\n",
       "      <td>95.2</td>\n",
       "      <td>Incorporated</td>\n",
       "      <td>Urban</td>\n",
       "      <td>88.3</td>\n",
       "    </tr>\n",
       "    <tr>\n",
       "      <th>2</th>\n",
       "      <td>2017.0</td>\n",
       "      <td>Rural</td>\n",
       "      <td>92.5</td>\n",
       "      <td>All businesses</td>\n",
       "      <td>Urban</td>\n",
       "      <td>85.4</td>\n",
       "    </tr>\n",
       "    <tr>\n",
       "      <th>3</th>\n",
       "      <td>2018.0</td>\n",
       "      <td>Rural</td>\n",
       "      <td>70.3</td>\n",
       "      <td>Unincorporated</td>\n",
       "      <td>Urban</td>\n",
       "      <td>60.7</td>\n",
       "    </tr>\n",
       "    <tr>\n",
       "      <th>4</th>\n",
       "      <td>2018.0</td>\n",
       "      <td>Rural</td>\n",
       "      <td>95.7</td>\n",
       "      <td>Incorporated</td>\n",
       "      <td>Urban</td>\n",
       "      <td>88.3</td>\n",
       "    </tr>\n",
       "    <tr>\n",
       "      <th>5</th>\n",
       "      <td>2018.0</td>\n",
       "      <td>Rural</td>\n",
       "      <td>93</td>\n",
       "      <td>All businesses</td>\n",
       "      <td>Urban</td>\n",
       "      <td>85.4</td>\n",
       "    </tr>\n",
       "    <tr>\n",
       "      <th>6</th>\n",
       "      <td>2019.0</td>\n",
       "      <td>Rural</td>\n",
       "      <td>69.5</td>\n",
       "      <td>Unincorporated</td>\n",
       "      <td>Urban</td>\n",
       "      <td>59.9</td>\n",
       "    </tr>\n",
       "    <tr>\n",
       "      <th>7</th>\n",
       "      <td>2019.0</td>\n",
       "      <td>Rural</td>\n",
       "      <td>96.4</td>\n",
       "      <td>Incorporated</td>\n",
       "      <td>Urban</td>\n",
       "      <td>88.9</td>\n",
       "    </tr>\n",
       "    <tr>\n",
       "      <th>8</th>\n",
       "      <td>2019.0</td>\n",
       "      <td>Rural</td>\n",
       "      <td>93.6</td>\n",
       "      <td>All businesses</td>\n",
       "      <td>Urban</td>\n",
       "      <td>85.9</td>\n",
       "    </tr>\n",
       "  </tbody>\n",
       "</table>\n",
       "</div>"
      ],
      "text/plain": [
       "   Reference year Location indicator_x Total expenses (%)_x  \\\n",
       "0          2017.0                Rural                 70.5   \n",
       "1          2017.0                Rural                 95.2   \n",
       "2          2017.0                Rural                 92.5   \n",
       "3          2018.0                Rural                 70.3   \n",
       "4          2018.0                Rural                 95.7   \n",
       "5          2018.0                Rural                   93   \n",
       "6          2019.0                Rural                 69.5   \n",
       "7          2019.0                Rural                 96.4   \n",
       "8          2019.0                Rural                 93.6   \n",
       "\n",
       "  Incorporation status Location indicator_y Total expenses (%)_y  \n",
       "0       Unincorporated                Urban                 60.9  \n",
       "1         Incorporated                Urban                 88.3  \n",
       "2       All businesses                Urban                 85.4  \n",
       "3       Unincorporated                Urban                 60.7  \n",
       "4         Incorporated                Urban                 88.3  \n",
       "5       All businesses                Urban                 85.4  \n",
       "6       Unincorporated                Urban                 59.9  \n",
       "7         Incorporated                Urban                 88.9  \n",
       "8       All businesses                Urban                 85.9  "
      ]
     },
     "execution_count": 59,
     "metadata": {},
     "output_type": "execute_result"
    }
   ],
   "source": [
    "analysis2_1 = pd.merge(left=chart2_1_df[chart2_1_df['Location indicator'] == 'Rural'][['Reference year','Location indicator','Total expenses (%)','Incorporation status']],right=chart2_1_df[chart2_1_df['Location indicator'] == 'Urban'][['Reference year','Location indicator','Total expenses (%)','Incorporation status']],how='inner',on=['Reference year','Incorporation status'])\n",
    "analysis2_1"
   ]
  },
  {
   "cell_type": "markdown",
   "id": "a5d973dd-8ff8-4ab6-be1c-c1e430e4ca94",
   "metadata": {},
   "source": [
    "**In the three years from 2017 to 2019, whatever incorporation status are, average total expenses of businesses in rural area always larger than urban area. Over these three years, the average total expenses for all rural small businesses was 412.8K, while for urban medium businesses, this value was about 339.6K. Compared with urban businesses, rural businesses have higher total expenses as a percentage of their total revenues. In recorded 3 years (2017,2018,2019), the total expenses percentage of all rural businesses increased 1.1%, while the total expenses percentage of all urban businesses decreased 0.5%.** \n",
    "\n",
    "**In 2019, the average total expenses for incorporated rural small businesses was 606.8K, while for unincorporated businesses, this value was 89.2K. The corresponding values were 504.9K for incorporated urban small businesses, and 65.9K for unincorporated urban small businesses. The value for incorporated businesses was much higher than unincorporated businesses, while the rural businesses had higher value than urban businesses.**"
   ]
  },
  {
   "cell_type": "code",
   "execution_count": null,
   "id": "ae639eba-80a2-47b2-b42a-0b9361e87621",
   "metadata": {},
   "outputs": [],
   "source": []
  },
  {
   "cell_type": "markdown",
   "id": "864fa3ae-2b9d-4342-9c0e-be85c87e347f",
   "metadata": {
    "tags": []
   },
   "source": [
    "### Rural/Urban direct/indirect cost expenses - all industry - small businesses - all businesses"
   ]
  },
  {
   "cell_type": "code",
   "execution_count": 60,
   "id": "519588e0-3727-4070-82b5-73bcff96a81c",
   "metadata": {},
   "outputs": [],
   "source": [
    "chart5_df = sb_revenue_value_3y[(sb_revenue_value_3y['Geography - code'] == 0) & (sb_revenue_value_3y['Incorporation status'] == 'All businesses') & (sb_revenue_value_3y['Location indicator'] == 'Rural') & (sb_revenue_value_3y['North American Industry Classification System, NAICS - code'] == '0') & (sb_revenue_value_3y['Cost of sales (direct expenses), quality indicator'] < 'D') & (sb_revenue_value_3y['Operating expenses (indirect expenses)'] < 'D')]\n",
    "chart5_df = chart5_df[['Reference year','Location indicator','Cost of sales (direct expenses)','Operating expenses (indirect expenses)']]\n",
    "chart5_cp = chart5_df"
   ]
  },
  {
   "cell_type": "code",
   "execution_count": 61,
   "id": "00c97bbd-70f2-46b5-bc0d-e8ed10ed2e16",
   "metadata": {},
   "outputs": [],
   "source": [
    "chart5_df = chart5_df.melt(id_vars=['Reference year', 'Location indicator'], var_name='type',\n",
    "             value_name='value')"
   ]
  },
  {
   "cell_type": "code",
   "execution_count": 62,
   "id": "13d9507d-8dad-4ab9-9fa5-d3c5acb2e2a9",
   "metadata": {},
   "outputs": [],
   "source": [
    "chart5 = alt.Chart(chart5_df,title=alt.TitleParams(text = \"Average direct/indirect expenses of small businesses\", \n",
    "                                           subtitle = \"Canada, all inductries, rural areas, 2017 - 2019\")).mark_bar().encode(\n",
    "    x=alt.X('type', title=''),\n",
    "    y=alt.Y('value:Q', title='Expenses Value'),\n",
    "    color=alt.Color('type', legend=None),\n",
    "    column=alt.Column('Reference year', title='')\n",
    ").properties(width=100, height=300)"
   ]
  },
  {
   "cell_type": "code",
   "execution_count": 63,
   "id": "006918ad-b688-4c0f-9095-2d6ee8be7790",
   "metadata": {},
   "outputs": [],
   "source": [
    "chart8_df = sb_revenue_value_3y[(sb_revenue_value_3y['Geography - code'] == 0) & (sb_revenue_value_3y['Incorporation status'] == 'All businesses') & (sb_revenue_value_3y['Location indicator'] == 'Urban') & (sb_revenue_value_3y['North American Industry Classification System, NAICS - code'] == '0') & (sb_revenue_value_3y['Cost of sales (direct expenses), quality indicator'] < 'D') & (sb_revenue_value_3y['Operating expenses (indirect expenses)'] < 'D')]\n",
    "chart8_df = chart8_df[['Reference year','Location indicator','Cost of sales (direct expenses)','Operating expenses (indirect expenses)']]\n",
    "chart8_cp = chart8_df"
   ]
  },
  {
   "cell_type": "code",
   "execution_count": 64,
   "id": "9ade91f2-4dd4-4370-9659-7e4e8d74cf8f",
   "metadata": {},
   "outputs": [],
   "source": [
    "chart8_df = chart8_df.melt(id_vars=['Reference year', 'Location indicator'], var_name='type',\n",
    "             value_name='value')"
   ]
  },
  {
   "cell_type": "code",
   "execution_count": 65,
   "id": "1607565a-1136-4151-8b19-8e049231c469",
   "metadata": {},
   "outputs": [],
   "source": [
    "chart8 = alt.Chart(chart8_df,title=alt.TitleParams(text = \"Average direct/indirect expenses of small businesses\", \n",
    "                                           subtitle = \"Canada, all inductries, urban areas, 2017 - 2019\")).mark_bar().encode(\n",
    "    x=alt.X('type', title=''),\n",
    "    y=alt.Y('value:Q', title='Expenses Value'),\n",
    "    color=alt.Color('type', legend=None),\n",
    "    column=alt.Column('Reference year', title='')\n",
    ").properties(width=100, height=300)"
   ]
  },
  {
   "cell_type": "code",
   "execution_count": 66,
   "id": "b9fff1d4-83d8-4119-abab-d38018dc84c8",
   "metadata": {},
   "outputs": [
    {
     "data": {
      "text/html": [
       "\n",
       "<div id=\"altair-viz-dbdd8c578aba4dacab636ba65e5f0ded\"></div>\n",
       "<script type=\"text/javascript\">\n",
       "  var VEGA_DEBUG = (typeof VEGA_DEBUG == \"undefined\") ? {} : VEGA_DEBUG;\n",
       "  (function(spec, embedOpt){\n",
       "    let outputDiv = document.currentScript.previousElementSibling;\n",
       "    if (outputDiv.id !== \"altair-viz-dbdd8c578aba4dacab636ba65e5f0ded\") {\n",
       "      outputDiv = document.getElementById(\"altair-viz-dbdd8c578aba4dacab636ba65e5f0ded\");\n",
       "    }\n",
       "    const paths = {\n",
       "      \"vega\": \"https://cdn.jsdelivr.net/npm//vega@5?noext\",\n",
       "      \"vega-lib\": \"https://cdn.jsdelivr.net/npm//vega-lib?noext\",\n",
       "      \"vega-lite\": \"https://cdn.jsdelivr.net/npm//vega-lite@4.17.0?noext\",\n",
       "      \"vega-embed\": \"https://cdn.jsdelivr.net/npm//vega-embed@6?noext\",\n",
       "    };\n",
       "\n",
       "    function maybeLoadScript(lib, version) {\n",
       "      var key = `${lib.replace(\"-\", \"\")}_version`;\n",
       "      return (VEGA_DEBUG[key] == version) ?\n",
       "        Promise.resolve(paths[lib]) :\n",
       "        new Promise(function(resolve, reject) {\n",
       "          var s = document.createElement('script');\n",
       "          document.getElementsByTagName(\"head\")[0].appendChild(s);\n",
       "          s.async = true;\n",
       "          s.onload = () => {\n",
       "            VEGA_DEBUG[key] = version;\n",
       "            return resolve(paths[lib]);\n",
       "          };\n",
       "          s.onerror = () => reject(`Error loading script: ${paths[lib]}`);\n",
       "          s.src = paths[lib];\n",
       "        });\n",
       "    }\n",
       "\n",
       "    function showError(err) {\n",
       "      outputDiv.innerHTML = `<div class=\"error\" style=\"color:red;\">${err}</div>`;\n",
       "      throw err;\n",
       "    }\n",
       "\n",
       "    function displayChart(vegaEmbed) {\n",
       "      vegaEmbed(outputDiv, spec, embedOpt)\n",
       "        .catch(err => showError(`Javascript Error: ${err.message}<br>This usually means there's a typo in your chart specification. See the javascript console for the full traceback.`));\n",
       "    }\n",
       "\n",
       "    if(typeof define === \"function\" && define.amd) {\n",
       "      requirejs.config({paths});\n",
       "      require([\"vega-embed\"], displayChart, err => showError(`Error loading script: ${err.message}`));\n",
       "    } else {\n",
       "      maybeLoadScript(\"vega\", \"5\")\n",
       "        .then(() => maybeLoadScript(\"vega-lite\", \"4.17.0\"))\n",
       "        .then(() => maybeLoadScript(\"vega-embed\", \"6\"))\n",
       "        .catch(showError)\n",
       "        .then(() => displayChart(vegaEmbed));\n",
       "    }\n",
       "  })({\"config\": {\"view\": {\"continuousWidth\": 400, \"continuousHeight\": 300}}, \"hconcat\": [{\"data\": {\"name\": \"data-e2dd5acbac832de7c964dc85b95e7a85\"}, \"mark\": \"bar\", \"encoding\": {\"color\": {\"field\": \"type\", \"legend\": null, \"type\": \"nominal\"}, \"column\": {\"field\": \"Reference year\", \"title\": \"\", \"type\": \"quantitative\"}, \"x\": {\"field\": \"type\", \"title\": \"\", \"type\": \"nominal\"}, \"y\": {\"field\": \"value\", \"title\": \"Expenses Value\", \"type\": \"quantitative\"}}, \"height\": 300, \"title\": {\"text\": \"Average direct/indirect expenses of small businesses\", \"subtitle\": \"Canada, all inductries, rural areas, 2017 - 2019\"}, \"width\": 100}, {\"data\": {\"name\": \"data-27509260117bb77070a86a7a46e950b4\"}, \"mark\": \"bar\", \"encoding\": {\"color\": {\"field\": \"type\", \"legend\": null, \"type\": \"nominal\"}, \"column\": {\"field\": \"Reference year\", \"title\": \"\", \"type\": \"quantitative\"}, \"x\": {\"field\": \"type\", \"title\": \"\", \"type\": \"nominal\"}, \"y\": {\"field\": \"value\", \"title\": \"Expenses Value\", \"type\": \"quantitative\"}}, \"height\": 300, \"title\": {\"text\": \"Average direct/indirect expenses of small businesses\", \"subtitle\": \"Canada, all inductries, urban areas, 2017 - 2019\"}, \"width\": 100}], \"$schema\": \"https://vega.github.io/schema/vega-lite/v4.17.0.json\", \"datasets\": {\"data-e2dd5acbac832de7c964dc85b95e7a85\": [{\"Reference year\": 2017.0, \"Location indicator\": \"Rural\", \"type\": \"Cost of sales (direct expenses)\", \"value\": \"144.1\"}, {\"Reference year\": 2018.0, \"Location indicator\": \"Rural\", \"type\": \"Cost of sales (direct expenses)\", \"value\": \"144.2\"}, {\"Reference year\": 2019.0, \"Location indicator\": \"Rural\", \"type\": \"Cost of sales (direct expenses)\", \"value\": \"143.9\"}, {\"Reference year\": 2017.0, \"Location indicator\": \"Rural\", \"type\": \"Operating expenses (indirect expenses)\", \"value\": \"264.6\"}, {\"Reference year\": 2018.0, \"Location indicator\": \"Rural\", \"type\": \"Operating expenses (indirect expenses)\", \"value\": \"268.3\"}, {\"Reference year\": 2019.0, \"Location indicator\": \"Rural\", \"type\": \"Operating expenses (indirect expenses)\", \"value\": \"273.3\"}], \"data-27509260117bb77070a86a7a46e950b4\": [{\"Reference year\": 2017.0, \"Location indicator\": \"Urban\", \"type\": \"Cost of sales (direct expenses)\", \"value\": \"139.6\"}, {\"Reference year\": 2018.0, \"Location indicator\": \"Urban\", \"type\": \"Cost of sales (direct expenses)\", \"value\": \"137.4\"}, {\"Reference year\": 2019.0, \"Location indicator\": \"Urban\", \"type\": \"Cost of sales (direct expenses)\", \"value\": \"134.7\"}, {\"Reference year\": 2017.0, \"Location indicator\": \"Urban\", \"type\": \"Operating expenses (indirect expenses)\", \"value\": \"200.5\"}, {\"Reference year\": 2018.0, \"Location indicator\": \"Urban\", \"type\": \"Operating expenses (indirect expenses)\", \"value\": \"202.7\"}, {\"Reference year\": 2019.0, \"Location indicator\": \"Urban\", \"type\": \"Operating expenses (indirect expenses)\", \"value\": \"203.8\"}]}}, {\"mode\": \"vega-lite\"});\n",
       "</script>"
      ],
      "text/plain": [
       "alt.HConcatChart(...)"
      ]
     },
     "execution_count": 66,
     "metadata": {},
     "output_type": "execute_result"
    }
   ],
   "source": [
    "chart5 | chart8"
   ]
  },
  {
   "cell_type": "code",
   "execution_count": 67,
   "id": "d758b3f1-1c66-4d99-aa44-fd98ecc06270",
   "metadata": {},
   "outputs": [
    {
     "data": {
      "text/html": [
       "<div>\n",
       "<style scoped>\n",
       "    .dataframe tbody tr th:only-of-type {\n",
       "        vertical-align: middle;\n",
       "    }\n",
       "\n",
       "    .dataframe tbody tr th {\n",
       "        vertical-align: top;\n",
       "    }\n",
       "\n",
       "    .dataframe thead th {\n",
       "        text-align: right;\n",
       "    }\n",
       "</style>\n",
       "<table border=\"1\" class=\"dataframe\">\n",
       "  <thead>\n",
       "    <tr style=\"text-align: right;\">\n",
       "      <th></th>\n",
       "      <th>Reference year</th>\n",
       "      <th>Location indicator</th>\n",
       "      <th>Cost of sales (direct expenses)</th>\n",
       "      <th>Operating expenses (indirect expenses)</th>\n",
       "    </tr>\n",
       "  </thead>\n",
       "  <tbody>\n",
       "    <tr>\n",
       "      <th>3</th>\n",
       "      <td>2017.0</td>\n",
       "      <td>Rural</td>\n",
       "      <td>144.1</td>\n",
       "      <td>264.6</td>\n",
       "    </tr>\n",
       "    <tr>\n",
       "      <th>3</th>\n",
       "      <td>2018.0</td>\n",
       "      <td>Rural</td>\n",
       "      <td>144.2</td>\n",
       "      <td>268.3</td>\n",
       "    </tr>\n",
       "    <tr>\n",
       "      <th>3</th>\n",
       "      <td>2019.0</td>\n",
       "      <td>Rural</td>\n",
       "      <td>143.9</td>\n",
       "      <td>273.3</td>\n",
       "    </tr>\n",
       "  </tbody>\n",
       "</table>\n",
       "</div>"
      ],
      "text/plain": [
       "   Reference year Location indicator Cost of sales (direct expenses)  \\\n",
       "3          2017.0              Rural                           144.1   \n",
       "3          2018.0              Rural                           144.2   \n",
       "3          2019.0              Rural                           143.9   \n",
       "\n",
       "  Operating expenses (indirect expenses)  \n",
       "3                                  264.6  \n",
       "3                                  268.3  \n",
       "3                                  273.3  "
      ]
     },
     "execution_count": 67,
     "metadata": {},
     "output_type": "execute_result"
    }
   ],
   "source": [
    "chart5_cp"
   ]
  },
  {
   "cell_type": "code",
   "execution_count": 68,
   "id": "6ba16e8f-ea9d-4b57-8eda-cfc4f5091460",
   "metadata": {},
   "outputs": [
    {
     "data": {
      "text/plain": [
       "144.06666666666663"
      ]
     },
     "execution_count": 68,
     "metadata": {},
     "output_type": "execute_result"
    }
   ],
   "source": [
    "chart5_cp['Cost of sales (direct expenses)'].astype(float).mean()"
   ]
  },
  {
   "cell_type": "code",
   "execution_count": 69,
   "id": "7cebb9e2-d2c0-4254-81d6-651fd7841916",
   "metadata": {},
   "outputs": [
    {
     "data": {
      "text/plain": [
       "268.73333333333335"
      ]
     },
     "execution_count": 69,
     "metadata": {},
     "output_type": "execute_result"
    }
   ],
   "source": [
    "chart5_cp['Operating expenses (indirect expenses)'].astype(float).mean()"
   ]
  },
  {
   "cell_type": "code",
   "execution_count": 70,
   "id": "920643ad-1a19-40ba-abf6-5445e5cf59a3",
   "metadata": {},
   "outputs": [
    {
     "data": {
      "text/html": [
       "<div>\n",
       "<style scoped>\n",
       "    .dataframe tbody tr th:only-of-type {\n",
       "        vertical-align: middle;\n",
       "    }\n",
       "\n",
       "    .dataframe tbody tr th {\n",
       "        vertical-align: top;\n",
       "    }\n",
       "\n",
       "    .dataframe thead th {\n",
       "        text-align: right;\n",
       "    }\n",
       "</style>\n",
       "<table border=\"1\" class=\"dataframe\">\n",
       "  <thead>\n",
       "    <tr style=\"text-align: right;\">\n",
       "      <th></th>\n",
       "      <th>Reference year</th>\n",
       "      <th>Location indicator</th>\n",
       "      <th>Cost of sales (direct expenses)</th>\n",
       "      <th>Operating expenses (indirect expenses)</th>\n",
       "    </tr>\n",
       "  </thead>\n",
       "  <tbody>\n",
       "    <tr>\n",
       "      <th>6</th>\n",
       "      <td>2017.0</td>\n",
       "      <td>Urban</td>\n",
       "      <td>139.6</td>\n",
       "      <td>200.5</td>\n",
       "    </tr>\n",
       "    <tr>\n",
       "      <th>6</th>\n",
       "      <td>2018.0</td>\n",
       "      <td>Urban</td>\n",
       "      <td>137.4</td>\n",
       "      <td>202.7</td>\n",
       "    </tr>\n",
       "    <tr>\n",
       "      <th>6</th>\n",
       "      <td>2019.0</td>\n",
       "      <td>Urban</td>\n",
       "      <td>134.7</td>\n",
       "      <td>203.8</td>\n",
       "    </tr>\n",
       "  </tbody>\n",
       "</table>\n",
       "</div>"
      ],
      "text/plain": [
       "   Reference year Location indicator Cost of sales (direct expenses)  \\\n",
       "6          2017.0              Urban                           139.6   \n",
       "6          2018.0              Urban                           137.4   \n",
       "6          2019.0              Urban                           134.7   \n",
       "\n",
       "  Operating expenses (indirect expenses)  \n",
       "6                                  200.5  \n",
       "6                                  202.7  \n",
       "6                                  203.8  "
      ]
     },
     "execution_count": 70,
     "metadata": {},
     "output_type": "execute_result"
    }
   ],
   "source": [
    "chart8_cp"
   ]
  },
  {
   "cell_type": "code",
   "execution_count": 71,
   "id": "f23a648d-c22d-48ea-bd4c-8ee4f7fcb52d",
   "metadata": {},
   "outputs": [
    {
     "data": {
      "text/plain": [
       "137.23333333333332"
      ]
     },
     "execution_count": 71,
     "metadata": {},
     "output_type": "execute_result"
    }
   ],
   "source": [
    "chart8_cp['Cost of sales (direct expenses)'].astype(float).mean()"
   ]
  },
  {
   "cell_type": "code",
   "execution_count": 72,
   "id": "0906041a-ff97-4a56-a5fb-290ed3c6b403",
   "metadata": {},
   "outputs": [
    {
     "data": {
      "text/plain": [
       "202.33333333333334"
      ]
     },
     "execution_count": 72,
     "metadata": {},
     "output_type": "execute_result"
    }
   ],
   "source": [
    "chart8_cp['Operating expenses (indirect expenses)'].astype(float).mean()"
   ]
  },
  {
   "cell_type": "markdown",
   "id": "7ac69366-3e3f-4e19-ad18-26727befd7f7",
   "metadata": {},
   "source": [
    "**For small rural businesses, in recorded 3 years, the average direct expenses was 144.1K which was lower than the average indirect expenses (268.7K).For urban businesses, between 2017 and 2019, the average direct expenses (137.2K) was also lower than the average indirect expenses (202.3K). whatever expenses types are, average expenses values of businesses in rural area always larger than urban area.**\n",
    " "
   ]
  },
  {
   "cell_type": "code",
   "execution_count": null,
   "id": "64bcc407-703a-43b4-9466-66fd3737b1a1",
   "metadata": {},
   "outputs": [],
   "source": []
  },
  {
   "cell_type": "markdown",
   "id": "57248cba-4c24-4bd5-b155-8ba4a400d43c",
   "metadata": {
    "tags": []
   },
   "source": [
    "### Rural/Urban different type cost expenses - all industry - small businesses - all businesses"
   ]
  },
  {
   "cell_type": "code",
   "execution_count": 73,
   "id": "b8497d98-99bd-4890-9ff5-a8fe26acd3be",
   "metadata": {},
   "outputs": [],
   "source": [
    "chart11_df = sb_revenue_value_3y[(sb_revenue_value_3y['Geography - code'] == 0) & (sb_revenue_value_3y['Incorporation status'] == 'All businesses') & (sb_revenue_value_3y['Location indicator'] == 'Rural') & (sb_revenue_value_3y['North American Industry Classification System, NAICS - code'] == '0') & (sb_revenue_value_3y['Cost of sales (direct expenses), quality indicator'] < 'D') & (sb_revenue_value_3y['Operating expenses (indirect expenses)'] < 'D')]\n",
    "chart11_df = chart11_df[['Reference year','Location indicator',\n",
    "                        'Wages and benefits', 'Purchases, materials and sub-contracts', 'Opening inventory', \n",
    "                           'Closing inventory', 'Labour and commissions', 'Amortization and depletion',\n",
    "                           'Repairs and maintenance', 'Utilities and telephone/telecommunication',\n",
    "                         'Rent', 'Interest and bank charges', 'Professional and business fees',\n",
    "                         'Advertising and promotion', 'Delivery, shipping and warehouse', 'Insurance', \n",
    "                         'Other indirect expenses']]\n",
    "chart11_cp = chart11_df"
   ]
  },
  {
   "cell_type": "code",
   "execution_count": 74,
   "id": "4967ece9-eee4-4b88-bf7d-242a017d8239",
   "metadata": {},
   "outputs": [],
   "source": [
    "chart11_df = chart11_df.melt(id_vars=['Reference year', 'Location indicator'], var_name='type',\n",
    "             value_name='value')"
   ]
  },
  {
   "cell_type": "code",
   "execution_count": 75,
   "id": "3e0012d9-ee7d-41fa-8b49-421e86d5bda0",
   "metadata": {},
   "outputs": [],
   "source": [
    "chart11_df['value'] = chart11_df['value'].astype(float)"
   ]
  },
  {
   "cell_type": "code",
   "execution_count": 76,
   "id": "21cbfdda-0921-441b-9fff-9bc087e0ad56",
   "metadata": {},
   "outputs": [],
   "source": [
    "chart11 = alt.Chart(chart11_df,title=alt.TitleParams(text = \"Distribution of total expenses\", \n",
    "                                           subtitle = \"Canada, all inductries, small businesses, rural areas, 2017 - 2019\")).mark_bar().encode(\n",
    "    x=alt.X('value:Q', title='Expenses Value'),\n",
    "    y=alt.Y('type', title='',sort='x'),\n",
    "    color=alt.Color('type', legend=None),\n",
    "    row=alt.Row('Reference year', title='')\n",
    ").properties(width=350, height=250)"
   ]
  },
  {
   "cell_type": "code",
   "execution_count": 77,
   "id": "9dd030bf-a1d8-4e81-bac5-1864238c7d47",
   "metadata": {},
   "outputs": [],
   "source": [
    "chart12_df = sb_revenue_value_3y[(sb_revenue_value_3y['Geography - code'] == 0) & (sb_revenue_value_3y['Incorporation status'] == 'All businesses') & (sb_revenue_value_3y['Location indicator'] == 'Urban') & (sb_revenue_value_3y['North American Industry Classification System, NAICS - code'] == '0') & (sb_revenue_value_3y['Cost of sales (direct expenses), quality indicator'] < 'D') & (sb_revenue_value_3y['Operating expenses (indirect expenses)'] < 'D')]\n",
    "chart12_df = chart12_df[['Reference year','Location indicator',\n",
    "                        'Wages and benefits', 'Purchases, materials and sub-contracts', 'Opening inventory', \n",
    "                           'Closing inventory', 'Labour and commissions', 'Amortization and depletion',\n",
    "                           'Repairs and maintenance', 'Utilities and telephone/telecommunication',\n",
    "                         'Rent', 'Interest and bank charges', 'Professional and business fees',\n",
    "                         'Advertising and promotion', 'Delivery, shipping and warehouse', 'Insurance', \n",
    "                         'Other indirect expenses']]\n",
    "chart12_cp = chart12_df"
   ]
  },
  {
   "cell_type": "code",
   "execution_count": 78,
   "id": "9421939a-119f-48fa-b7e0-a9f67b45a34a",
   "metadata": {},
   "outputs": [],
   "source": [
    "chart12_df = chart12_df.melt(id_vars=['Reference year', 'Location indicator'], var_name='type',\n",
    "             value_name='value')"
   ]
  },
  {
   "cell_type": "code",
   "execution_count": 79,
   "id": "3e74bb4f-44a2-4ac9-bd97-38ad3993339f",
   "metadata": {},
   "outputs": [],
   "source": [
    "chart12_df['value'] = chart12_df['value'].astype(float)"
   ]
  },
  {
   "cell_type": "code",
   "execution_count": 80,
   "id": "f432199d-89fe-4f29-8be6-17a1280629df",
   "metadata": {
    "tags": []
   },
   "outputs": [],
   "source": [
    "chart12 = alt.Chart(chart12_df,title=alt.TitleParams(text = \"Distribution of total expenses\", \n",
    "                                           subtitle = \"Canada, all inductries, small businesses, urban areas, 2017 - 2019\")).mark_bar().encode(\n",
    "    x=alt.X('value:Q', title='Expenses Value'),\n",
    "    y=alt.Y('type', title='',sort='x'),\n",
    "    color=alt.Color('type', legend=None),\n",
    "    row=alt.Row('Reference year', title='')\n",
    ").properties(width=350, height=250)"
   ]
  },
  {
   "cell_type": "code",
   "execution_count": 81,
   "id": "9aa49ea3-9211-4875-ac3e-a6cd56057bc7",
   "metadata": {},
   "outputs": [
    {
     "data": {
      "text/html": [
       "\n",
       "<div id=\"altair-viz-639e8210b51c45eaa36405127c9caadc\"></div>\n",
       "<script type=\"text/javascript\">\n",
       "  var VEGA_DEBUG = (typeof VEGA_DEBUG == \"undefined\") ? {} : VEGA_DEBUG;\n",
       "  (function(spec, embedOpt){\n",
       "    let outputDiv = document.currentScript.previousElementSibling;\n",
       "    if (outputDiv.id !== \"altair-viz-639e8210b51c45eaa36405127c9caadc\") {\n",
       "      outputDiv = document.getElementById(\"altair-viz-639e8210b51c45eaa36405127c9caadc\");\n",
       "    }\n",
       "    const paths = {\n",
       "      \"vega\": \"https://cdn.jsdelivr.net/npm//vega@5?noext\",\n",
       "      \"vega-lib\": \"https://cdn.jsdelivr.net/npm//vega-lib?noext\",\n",
       "      \"vega-lite\": \"https://cdn.jsdelivr.net/npm//vega-lite@4.17.0?noext\",\n",
       "      \"vega-embed\": \"https://cdn.jsdelivr.net/npm//vega-embed@6?noext\",\n",
       "    };\n",
       "\n",
       "    function maybeLoadScript(lib, version) {\n",
       "      var key = `${lib.replace(\"-\", \"\")}_version`;\n",
       "      return (VEGA_DEBUG[key] == version) ?\n",
       "        Promise.resolve(paths[lib]) :\n",
       "        new Promise(function(resolve, reject) {\n",
       "          var s = document.createElement('script');\n",
       "          document.getElementsByTagName(\"head\")[0].appendChild(s);\n",
       "          s.async = true;\n",
       "          s.onload = () => {\n",
       "            VEGA_DEBUG[key] = version;\n",
       "            return resolve(paths[lib]);\n",
       "          };\n",
       "          s.onerror = () => reject(`Error loading script: ${paths[lib]}`);\n",
       "          s.src = paths[lib];\n",
       "        });\n",
       "    }\n",
       "\n",
       "    function showError(err) {\n",
       "      outputDiv.innerHTML = `<div class=\"error\" style=\"color:red;\">${err}</div>`;\n",
       "      throw err;\n",
       "    }\n",
       "\n",
       "    function displayChart(vegaEmbed) {\n",
       "      vegaEmbed(outputDiv, spec, embedOpt)\n",
       "        .catch(err => showError(`Javascript Error: ${err.message}<br>This usually means there's a typo in your chart specification. See the javascript console for the full traceback.`));\n",
       "    }\n",
       "\n",
       "    if(typeof define === \"function\" && define.amd) {\n",
       "      requirejs.config({paths});\n",
       "      require([\"vega-embed\"], displayChart, err => showError(`Error loading script: ${err.message}`));\n",
       "    } else {\n",
       "      maybeLoadScript(\"vega\", \"5\")\n",
       "        .then(() => maybeLoadScript(\"vega-lite\", \"4.17.0\"))\n",
       "        .then(() => maybeLoadScript(\"vega-embed\", \"6\"))\n",
       "        .catch(showError)\n",
       "        .then(() => displayChart(vegaEmbed));\n",
       "    }\n",
       "  })({\"config\": {\"view\": {\"continuousWidth\": 400, \"continuousHeight\": 300}}, \"hconcat\": [{\"data\": {\"name\": \"data-f09d54ab31b2a0eac55bb1d617fbde96\"}, \"mark\": \"bar\", \"encoding\": {\"color\": {\"field\": \"type\", \"legend\": null, \"type\": \"nominal\"}, \"row\": {\"field\": \"Reference year\", \"title\": \"\", \"type\": \"quantitative\"}, \"x\": {\"field\": \"value\", \"title\": \"Expenses Value\", \"type\": \"quantitative\"}, \"y\": {\"field\": \"type\", \"sort\": \"x\", \"title\": \"\", \"type\": \"nominal\"}}, \"height\": 250, \"title\": {\"text\": \"Distribution of total expenses\", \"subtitle\": \"Canada, all inductries, small businesses, rural areas, 2017 - 2019\"}, \"width\": 350}, {\"data\": {\"name\": \"data-757af493cab8f4f652804dfeffd9847c\"}, \"mark\": \"bar\", \"encoding\": {\"color\": {\"field\": \"type\", \"legend\": null, \"type\": \"nominal\"}, \"row\": {\"field\": \"Reference year\", \"title\": \"\", \"type\": \"quantitative\"}, \"x\": {\"field\": \"value\", \"title\": \"Expenses Value\", \"type\": \"quantitative\"}, \"y\": {\"field\": \"type\", \"sort\": \"x\", \"title\": \"\", \"type\": \"nominal\"}}, \"height\": 250, \"title\": {\"text\": \"Distribution of total expenses\", \"subtitle\": \"Canada, all inductries, small businesses, urban areas, 2017 - 2019\"}, \"width\": 350}], \"$schema\": \"https://vega.github.io/schema/vega-lite/v4.17.0.json\", \"datasets\": {\"data-f09d54ab31b2a0eac55bb1d617fbde96\": [{\"Reference year\": 2017.0, \"Location indicator\": \"Rural\", \"type\": \"Wages and benefits\", \"value\": 21.6}, {\"Reference year\": 2018.0, \"Location indicator\": \"Rural\", \"type\": \"Wages and benefits\", \"value\": 21.8}, {\"Reference year\": 2019.0, \"Location indicator\": \"Rural\", \"type\": \"Wages and benefits\", \"value\": 22.7}, {\"Reference year\": 2017.0, \"Location indicator\": \"Rural\", \"type\": \"Purchases, materials and sub-contracts\", \"value\": 123.1}, {\"Reference year\": 2018.0, \"Location indicator\": \"Rural\", \"type\": \"Purchases, materials and sub-contracts\", \"value\": 123.3}, {\"Reference year\": 2019.0, \"Location indicator\": \"Rural\", \"type\": \"Purchases, materials and sub-contracts\", \"value\": 121.8}, {\"Reference year\": 2017.0, \"Location indicator\": \"Rural\", \"type\": \"Opening inventory\", \"value\": 26.3}, {\"Reference year\": 2018.0, \"Location indicator\": \"Rural\", \"type\": \"Opening inventory\", \"value\": 25.4}, {\"Reference year\": 2019.0, \"Location indicator\": \"Rural\", \"type\": \"Opening inventory\", \"value\": 25.6}, {\"Reference year\": 2017.0, \"Location indicator\": \"Rural\", \"type\": \"Closing inventory\", \"value\": 26.9}, {\"Reference year\": 2018.0, \"Location indicator\": \"Rural\", \"type\": \"Closing inventory\", \"value\": 26.3}, {\"Reference year\": 2019.0, \"Location indicator\": \"Rural\", \"type\": \"Closing inventory\", \"value\": 26.2}, {\"Reference year\": 2017.0, \"Location indicator\": \"Rural\", \"type\": \"Labour and commissions\", \"value\": 67.4}, {\"Reference year\": 2018.0, \"Location indicator\": \"Rural\", \"type\": \"Labour and commissions\", \"value\": 67.9}, {\"Reference year\": 2019.0, \"Location indicator\": \"Rural\", \"type\": \"Labour and commissions\", \"value\": 68.7}, {\"Reference year\": 2017.0, \"Location indicator\": \"Rural\", \"type\": \"Amortization and depletion\", \"value\": 26.3}, {\"Reference year\": 2018.0, \"Location indicator\": \"Rural\", \"type\": \"Amortization and depletion\", \"value\": 26.4}, {\"Reference year\": 2019.0, \"Location indicator\": \"Rural\", \"type\": \"Amortization and depletion\", \"value\": 27.4}, {\"Reference year\": 2017.0, \"Location indicator\": \"Rural\", \"type\": \"Repairs and maintenance\", \"value\": 16.5}, {\"Reference year\": 2018.0, \"Location indicator\": \"Rural\", \"type\": \"Repairs and maintenance\", \"value\": 16.6}, {\"Reference year\": 2019.0, \"Location indicator\": \"Rural\", \"type\": \"Repairs and maintenance\", \"value\": 16.9}, {\"Reference year\": 2017.0, \"Location indicator\": \"Rural\", \"type\": \"Utilities and telephone/telecommunication\", \"value\": 15.0}, {\"Reference year\": 2018.0, \"Location indicator\": \"Rural\", \"type\": \"Utilities and telephone/telecommunication\", \"value\": 16.0}, {\"Reference year\": 2019.0, \"Location indicator\": \"Rural\", \"type\": \"Utilities and telephone/telecommunication\", \"value\": 15.9}, {\"Reference year\": 2017.0, \"Location indicator\": \"Rural\", \"type\": \"Rent\", \"value\": 13.4}, {\"Reference year\": 2018.0, \"Location indicator\": \"Rural\", \"type\": \"Rent\", \"value\": 13.6}, {\"Reference year\": 2019.0, \"Location indicator\": \"Rural\", \"type\": \"Rent\", \"value\": 13.9}, {\"Reference year\": 2017.0, \"Location indicator\": \"Rural\", \"type\": \"Interest and bank charges\", \"value\": 8.4}, {\"Reference year\": 2018.0, \"Location indicator\": \"Rural\", \"type\": \"Interest and bank charges\", \"value\": 9.1}, {\"Reference year\": 2019.0, \"Location indicator\": \"Rural\", \"type\": \"Interest and bank charges\", \"value\": 10.2}, {\"Reference year\": 2017.0, \"Location indicator\": \"Rural\", \"type\": \"Professional and business fees\", \"value\": 7.3}, {\"Reference year\": 2018.0, \"Location indicator\": \"Rural\", \"type\": \"Professional and business fees\", \"value\": 7.3}, {\"Reference year\": 2019.0, \"Location indicator\": \"Rural\", \"type\": \"Professional and business fees\", \"value\": 7.4}, {\"Reference year\": 2017.0, \"Location indicator\": \"Rural\", \"type\": \"Advertising and promotion\", \"value\": 4.2}, {\"Reference year\": 2018.0, \"Location indicator\": \"Rural\", \"type\": \"Advertising and promotion\", \"value\": 4.3}, {\"Reference year\": 2019.0, \"Location indicator\": \"Rural\", \"type\": \"Advertising and promotion\", \"value\": 4.3}, {\"Reference year\": 2017.0, \"Location indicator\": \"Rural\", \"type\": \"Delivery, shipping and warehouse\", \"value\": 1.9}, {\"Reference year\": 2018.0, \"Location indicator\": \"Rural\", \"type\": \"Delivery, shipping and warehouse\", \"value\": 1.9}, {\"Reference year\": 2019.0, \"Location indicator\": \"Rural\", \"type\": \"Delivery, shipping and warehouse\", \"value\": 1.8}, {\"Reference year\": 2017.0, \"Location indicator\": \"Rural\", \"type\": \"Insurance\", \"value\": 7.1}, {\"Reference year\": 2018.0, \"Location indicator\": \"Rural\", \"type\": \"Insurance\", \"value\": 7.2}, {\"Reference year\": 2019.0, \"Location indicator\": \"Rural\", \"type\": \"Insurance\", \"value\": 7.6}, {\"Reference year\": 2017.0, \"Location indicator\": \"Rural\", \"type\": \"Other indirect expenses\", \"value\": 97.0}, {\"Reference year\": 2018.0, \"Location indicator\": \"Rural\", \"type\": \"Other indirect expenses\", \"value\": 97.9}, {\"Reference year\": 2019.0, \"Location indicator\": \"Rural\", \"type\": \"Other indirect expenses\", \"value\": 99.1}], \"data-757af493cab8f4f652804dfeffd9847c\": [{\"Reference year\": 2017.0, \"Location indicator\": \"Urban\", \"type\": \"Wages and benefits\", \"value\": 22.8}, {\"Reference year\": 2018.0, \"Location indicator\": \"Urban\", \"type\": \"Wages and benefits\", \"value\": 22.6}, {\"Reference year\": 2019.0, \"Location indicator\": \"Urban\", \"type\": \"Wages and benefits\", \"value\": 22.5}, {\"Reference year\": 2017.0, \"Location indicator\": \"Urban\", \"type\": \"Purchases, materials and sub-contracts\", \"value\": 118.4}, {\"Reference year\": 2018.0, \"Location indicator\": \"Urban\", \"type\": \"Purchases, materials and sub-contracts\", \"value\": 117.0}, {\"Reference year\": 2019.0, \"Location indicator\": \"Urban\", \"type\": \"Purchases, materials and sub-contracts\", \"value\": 113.3}, {\"Reference year\": 2017.0, \"Location indicator\": \"Urban\", \"type\": \"Opening inventory\", \"value\": 24.8}, {\"Reference year\": 2018.0, \"Location indicator\": \"Urban\", \"type\": \"Opening inventory\", \"value\": 24.6}, {\"Reference year\": 2019.0, \"Location indicator\": \"Urban\", \"type\": \"Opening inventory\", \"value\": 25.4}, {\"Reference year\": 2017.0, \"Location indicator\": \"Urban\", \"type\": \"Closing inventory\", \"value\": 26.4}, {\"Reference year\": 2018.0, \"Location indicator\": \"Urban\", \"type\": \"Closing inventory\", \"value\": 26.8}, {\"Reference year\": 2019.0, \"Location indicator\": \"Urban\", \"type\": \"Closing inventory\", \"value\": 26.5}, {\"Reference year\": 2017.0, \"Location indicator\": \"Urban\", \"type\": \"Labour and commissions\", \"value\": 73.7}, {\"Reference year\": 2018.0, \"Location indicator\": \"Urban\", \"type\": \"Labour and commissions\", \"value\": 74.3}, {\"Reference year\": 2019.0, \"Location indicator\": \"Urban\", \"type\": \"Labour and commissions\", \"value\": 74.7}, {\"Reference year\": 2017.0, \"Location indicator\": \"Urban\", \"type\": \"Amortization and depletion\", \"value\": 12.5}, {\"Reference year\": 2018.0, \"Location indicator\": \"Urban\", \"type\": \"Amortization and depletion\", \"value\": 12.7}, {\"Reference year\": 2019.0, \"Location indicator\": \"Urban\", \"type\": \"Amortization and depletion\", \"value\": 13.1}, {\"Reference year\": 2017.0, \"Location indicator\": \"Urban\", \"type\": \"Repairs and maintenance\", \"value\": 8.9}, {\"Reference year\": 2018.0, \"Location indicator\": \"Urban\", \"type\": \"Repairs and maintenance\", \"value\": 9.1}, {\"Reference year\": 2019.0, \"Location indicator\": \"Urban\", \"type\": \"Repairs and maintenance\", \"value\": 9.1}, {\"Reference year\": 2017.0, \"Location indicator\": \"Urban\", \"type\": \"Utilities and telephone/telecommunication\", \"value\": 9.0}, {\"Reference year\": 2018.0, \"Location indicator\": \"Urban\", \"type\": \"Utilities and telephone/telecommunication\", \"value\": 9.1}, {\"Reference year\": 2019.0, \"Location indicator\": \"Urban\", \"type\": \"Utilities and telephone/telecommunication\", \"value\": 8.9}, {\"Reference year\": 2017.0, \"Location indicator\": \"Urban\", \"type\": \"Rent\", \"value\": 16.1}, {\"Reference year\": 2018.0, \"Location indicator\": \"Urban\", \"type\": \"Rent\", \"value\": 16.2}, {\"Reference year\": 2019.0, \"Location indicator\": \"Urban\", \"type\": \"Rent\", \"value\": 16.3}, {\"Reference year\": 2017.0, \"Location indicator\": \"Urban\", \"type\": \"Interest and bank charges\", \"value\": 7.5}, {\"Reference year\": 2018.0, \"Location indicator\": \"Urban\", \"type\": \"Interest and bank charges\", \"value\": 8.4}, {\"Reference year\": 2019.0, \"Location indicator\": \"Urban\", \"type\": \"Interest and bank charges\", \"value\": 8.7}, {\"Reference year\": 2017.0, \"Location indicator\": \"Urban\", \"type\": \"Professional and business fees\", \"value\": 12.3}, {\"Reference year\": 2018.0, \"Location indicator\": \"Urban\", \"type\": \"Professional and business fees\", \"value\": 12.3}, {\"Reference year\": 2019.0, \"Location indicator\": \"Urban\", \"type\": \"Professional and business fees\", \"value\": 12.3}, {\"Reference year\": 2017.0, \"Location indicator\": \"Urban\", \"type\": \"Advertising and promotion\", \"value\": 6.0}, {\"Reference year\": 2018.0, \"Location indicator\": \"Urban\", \"type\": \"Advertising and promotion\", \"value\": 6.0}, {\"Reference year\": 2019.0, \"Location indicator\": \"Urban\", \"type\": \"Advertising and promotion\", \"value\": 6.0}, {\"Reference year\": 2017.0, \"Location indicator\": \"Urban\", \"type\": \"Delivery, shipping and warehouse\", \"value\": 1.4}, {\"Reference year\": 2018.0, \"Location indicator\": \"Urban\", \"type\": \"Delivery, shipping and warehouse\", \"value\": 1.4}, {\"Reference year\": 2019.0, \"Location indicator\": \"Urban\", \"type\": \"Delivery, shipping and warehouse\", \"value\": 1.4}, {\"Reference year\": 2017.0, \"Location indicator\": \"Urban\", \"type\": \"Insurance\", \"value\": 4.8}, {\"Reference year\": 2018.0, \"Location indicator\": \"Urban\", \"type\": \"Insurance\", \"value\": 4.9}, {\"Reference year\": 2019.0, \"Location indicator\": \"Urban\", \"type\": \"Insurance\", \"value\": 5.0}, {\"Reference year\": 2017.0, \"Location indicator\": \"Urban\", \"type\": \"Other indirect expenses\", \"value\": 48.3}, {\"Reference year\": 2018.0, \"Location indicator\": \"Urban\", \"type\": \"Other indirect expenses\", \"value\": 48.4}, {\"Reference year\": 2019.0, \"Location indicator\": \"Urban\", \"type\": \"Other indirect expenses\", \"value\": 48.4}]}}, {\"mode\": \"vega-lite\"});\n",
       "</script>"
      ],
      "text/plain": [
       "alt.HConcatChart(...)"
      ]
     },
     "execution_count": 81,
     "metadata": {},
     "output_type": "execute_result"
    }
   ],
   "source": [
    "chart11 | chart12"
   ]
  },
  {
   "cell_type": "code",
   "execution_count": 82,
   "id": "acf18da2-e218-418c-b25b-b06e5c14038a",
   "metadata": {},
   "outputs": [
    {
     "data": {
      "text/html": [
       "<div>\n",
       "<style scoped>\n",
       "    .dataframe tbody tr th:only-of-type {\n",
       "        vertical-align: middle;\n",
       "    }\n",
       "\n",
       "    .dataframe tbody tr th {\n",
       "        vertical-align: top;\n",
       "    }\n",
       "\n",
       "    .dataframe thead th {\n",
       "        text-align: right;\n",
       "    }\n",
       "</style>\n",
       "<table border=\"1\" class=\"dataframe\">\n",
       "  <thead>\n",
       "    <tr style=\"text-align: right;\">\n",
       "      <th></th>\n",
       "      <th>Reference year</th>\n",
       "      <th>Location indicator</th>\n",
       "      <th>Wages and benefits</th>\n",
       "      <th>Purchases, materials and sub-contracts</th>\n",
       "      <th>Opening inventory</th>\n",
       "      <th>Closing inventory</th>\n",
       "      <th>Labour and commissions</th>\n",
       "      <th>Amortization and depletion</th>\n",
       "      <th>Repairs and maintenance</th>\n",
       "      <th>Utilities and telephone/telecommunication</th>\n",
       "      <th>Rent</th>\n",
       "      <th>Interest and bank charges</th>\n",
       "      <th>Professional and business fees</th>\n",
       "      <th>Advertising and promotion</th>\n",
       "      <th>Delivery, shipping and warehouse</th>\n",
       "      <th>Insurance</th>\n",
       "      <th>Other indirect expenses</th>\n",
       "    </tr>\n",
       "  </thead>\n",
       "  <tbody>\n",
       "    <tr>\n",
       "      <th>3</th>\n",
       "      <td>2017.0</td>\n",
       "      <td>Rural</td>\n",
       "      <td>21.6</td>\n",
       "      <td>123.1</td>\n",
       "      <td>26.3</td>\n",
       "      <td>26.9</td>\n",
       "      <td>67.4</td>\n",
       "      <td>26.3</td>\n",
       "      <td>16.5</td>\n",
       "      <td>15</td>\n",
       "      <td>13.4</td>\n",
       "      <td>8.4</td>\n",
       "      <td>7.3</td>\n",
       "      <td>4.2</td>\n",
       "      <td>1.9</td>\n",
       "      <td>7.1</td>\n",
       "      <td>97</td>\n",
       "    </tr>\n",
       "    <tr>\n",
       "      <th>3</th>\n",
       "      <td>2018.0</td>\n",
       "      <td>Rural</td>\n",
       "      <td>21.8</td>\n",
       "      <td>123.3</td>\n",
       "      <td>25.4</td>\n",
       "      <td>26.3</td>\n",
       "      <td>67.9</td>\n",
       "      <td>26.4</td>\n",
       "      <td>16.6</td>\n",
       "      <td>16</td>\n",
       "      <td>13.6</td>\n",
       "      <td>9.1</td>\n",
       "      <td>7.3</td>\n",
       "      <td>4.3</td>\n",
       "      <td>1.9</td>\n",
       "      <td>7.2</td>\n",
       "      <td>97.9</td>\n",
       "    </tr>\n",
       "    <tr>\n",
       "      <th>3</th>\n",
       "      <td>2019.0</td>\n",
       "      <td>Rural</td>\n",
       "      <td>22.7</td>\n",
       "      <td>121.8</td>\n",
       "      <td>25.6</td>\n",
       "      <td>26.2</td>\n",
       "      <td>68.7</td>\n",
       "      <td>27.4</td>\n",
       "      <td>16.9</td>\n",
       "      <td>15.9</td>\n",
       "      <td>13.9</td>\n",
       "      <td>10.2</td>\n",
       "      <td>7.4</td>\n",
       "      <td>4.3</td>\n",
       "      <td>1.8</td>\n",
       "      <td>7.6</td>\n",
       "      <td>99.1</td>\n",
       "    </tr>\n",
       "  </tbody>\n",
       "</table>\n",
       "</div>"
      ],
      "text/plain": [
       "   Reference year Location indicator Wages and benefits  \\\n",
       "3          2017.0              Rural               21.6   \n",
       "3          2018.0              Rural               21.8   \n",
       "3          2019.0              Rural               22.7   \n",
       "\n",
       "  Purchases, materials and sub-contracts Opening inventory Closing inventory  \\\n",
       "3                                  123.1              26.3              26.9   \n",
       "3                                  123.3              25.4              26.3   \n",
       "3                                  121.8              25.6              26.2   \n",
       "\n",
       "  Labour and commissions Amortization and depletion Repairs and maintenance  \\\n",
       "3                   67.4                       26.3                    16.5   \n",
       "3                   67.9                       26.4                    16.6   \n",
       "3                   68.7                       27.4                    16.9   \n",
       "\n",
       "  Utilities and telephone/telecommunication  Rent Interest and bank charges  \\\n",
       "3                                        15  13.4                       8.4   \n",
       "3                                        16  13.6                       9.1   \n",
       "3                                      15.9  13.9                      10.2   \n",
       "\n",
       "  Professional and business fees Advertising and promotion  \\\n",
       "3                            7.3                       4.2   \n",
       "3                            7.3                       4.3   \n",
       "3                            7.4                       4.3   \n",
       "\n",
       "  Delivery, shipping and warehouse Insurance Other indirect expenses  \n",
       "3                              1.9       7.1                      97  \n",
       "3                              1.9       7.2                    97.9  \n",
       "3                              1.8       7.6                    99.1  "
      ]
     },
     "execution_count": 82,
     "metadata": {},
     "output_type": "execute_result"
    }
   ],
   "source": [
    "chart11_cp"
   ]
  },
  {
   "cell_type": "code",
   "execution_count": 83,
   "id": "403b637e-1393-4db6-b719-c9507458d701",
   "metadata": {},
   "outputs": [
    {
     "name": "stdout",
     "output_type": "stream",
     "text": [
      "Purchases, materials and sub-contracts: 0.2594249201277955\n",
      "Other indirect expenses: 0.21107561235356762\n",
      "Labour and commissions: 0.1463258785942492\n",
      "Delivery, shipping and warehouse: 0.0038338658146964857\n"
     ]
    }
   ],
   "source": [
    "total = chart11_df[chart11_df['Reference year'] == 2019]['value'].astype(float).sum()\n",
    "print('Purchases, materials and sub-contracts:', float(chart11_cp[chart11_cp['Reference year'] == 2019].iloc[0]['Purchases, materials and sub-contracts'])/total)\n",
    "\n",
    "print('Other indirect expenses:', float(chart11_cp[chart11_cp['Reference year'] == 2019].iloc[0]['Other indirect expenses'])/total)\n",
    "\n",
    "print('Labour and commissions:', float(chart11_cp[chart11_cp['Reference year'] == 2019].iloc[0]['Labour and commissions'])/total)\n",
    "\n",
    "print('Delivery, shipping and warehouse:', float(chart11_cp[chart11_cp['Reference year'] == 2019].iloc[0]['Delivery, shipping and warehouse'])/total)"
   ]
  },
  {
   "cell_type": "code",
   "execution_count": 84,
   "id": "50d41942-c6f3-4ec3-8d3b-e4c0e17a7f8d",
   "metadata": {},
   "outputs": [
    {
     "data": {
      "text/html": [
       "<div>\n",
       "<style scoped>\n",
       "    .dataframe tbody tr th:only-of-type {\n",
       "        vertical-align: middle;\n",
       "    }\n",
       "\n",
       "    .dataframe tbody tr th {\n",
       "        vertical-align: top;\n",
       "    }\n",
       "\n",
       "    .dataframe thead th {\n",
       "        text-align: right;\n",
       "    }\n",
       "</style>\n",
       "<table border=\"1\" class=\"dataframe\">\n",
       "  <thead>\n",
       "    <tr style=\"text-align: right;\">\n",
       "      <th></th>\n",
       "      <th>Reference year</th>\n",
       "      <th>Location indicator</th>\n",
       "      <th>Wages and benefits</th>\n",
       "      <th>Purchases, materials and sub-contracts</th>\n",
       "      <th>Opening inventory</th>\n",
       "      <th>Closing inventory</th>\n",
       "      <th>Labour and commissions</th>\n",
       "      <th>Amortization and depletion</th>\n",
       "      <th>Repairs and maintenance</th>\n",
       "      <th>Utilities and telephone/telecommunication</th>\n",
       "      <th>Rent</th>\n",
       "      <th>Interest and bank charges</th>\n",
       "      <th>Professional and business fees</th>\n",
       "      <th>Advertising and promotion</th>\n",
       "      <th>Delivery, shipping and warehouse</th>\n",
       "      <th>Insurance</th>\n",
       "      <th>Other indirect expenses</th>\n",
       "    </tr>\n",
       "  </thead>\n",
       "  <tbody>\n",
       "    <tr>\n",
       "      <th>6</th>\n",
       "      <td>2017.0</td>\n",
       "      <td>Urban</td>\n",
       "      <td>22.8</td>\n",
       "      <td>118.4</td>\n",
       "      <td>24.8</td>\n",
       "      <td>26.4</td>\n",
       "      <td>73.7</td>\n",
       "      <td>12.5</td>\n",
       "      <td>8.9</td>\n",
       "      <td>9</td>\n",
       "      <td>16.1</td>\n",
       "      <td>7.5</td>\n",
       "      <td>12.3</td>\n",
       "      <td>6</td>\n",
       "      <td>1.4</td>\n",
       "      <td>4.8</td>\n",
       "      <td>48.3</td>\n",
       "    </tr>\n",
       "    <tr>\n",
       "      <th>6</th>\n",
       "      <td>2018.0</td>\n",
       "      <td>Urban</td>\n",
       "      <td>22.6</td>\n",
       "      <td>117</td>\n",
       "      <td>24.6</td>\n",
       "      <td>26.8</td>\n",
       "      <td>74.3</td>\n",
       "      <td>12.7</td>\n",
       "      <td>9.1</td>\n",
       "      <td>9.1</td>\n",
       "      <td>16.2</td>\n",
       "      <td>8.4</td>\n",
       "      <td>12.3</td>\n",
       "      <td>6</td>\n",
       "      <td>1.4</td>\n",
       "      <td>4.9</td>\n",
       "      <td>48.4</td>\n",
       "    </tr>\n",
       "    <tr>\n",
       "      <th>6</th>\n",
       "      <td>2019.0</td>\n",
       "      <td>Urban</td>\n",
       "      <td>22.5</td>\n",
       "      <td>113.3</td>\n",
       "      <td>25.4</td>\n",
       "      <td>26.5</td>\n",
       "      <td>74.7</td>\n",
       "      <td>13.1</td>\n",
       "      <td>9.1</td>\n",
       "      <td>8.9</td>\n",
       "      <td>16.3</td>\n",
       "      <td>8.7</td>\n",
       "      <td>12.3</td>\n",
       "      <td>6</td>\n",
       "      <td>1.4</td>\n",
       "      <td>5</td>\n",
       "      <td>48.4</td>\n",
       "    </tr>\n",
       "  </tbody>\n",
       "</table>\n",
       "</div>"
      ],
      "text/plain": [
       "   Reference year Location indicator Wages and benefits  \\\n",
       "6          2017.0              Urban               22.8   \n",
       "6          2018.0              Urban               22.6   \n",
       "6          2019.0              Urban               22.5   \n",
       "\n",
       "  Purchases, materials and sub-contracts Opening inventory Closing inventory  \\\n",
       "6                                  118.4              24.8              26.4   \n",
       "6                                    117              24.6              26.8   \n",
       "6                                  113.3              25.4              26.5   \n",
       "\n",
       "  Labour and commissions Amortization and depletion Repairs and maintenance  \\\n",
       "6                   73.7                       12.5                     8.9   \n",
       "6                   74.3                       12.7                     9.1   \n",
       "6                   74.7                       13.1                     9.1   \n",
       "\n",
       "  Utilities and telephone/telecommunication  Rent Interest and bank charges  \\\n",
       "6                                         9  16.1                       7.5   \n",
       "6                                       9.1  16.2                       8.4   \n",
       "6                                       8.9  16.3                       8.7   \n",
       "\n",
       "  Professional and business fees Advertising and promotion  \\\n",
       "6                           12.3                         6   \n",
       "6                           12.3                         6   \n",
       "6                           12.3                         6   \n",
       "\n",
       "  Delivery, shipping and warehouse Insurance Other indirect expenses  \n",
       "6                              1.4       4.8                    48.3  \n",
       "6                              1.4       4.9                    48.4  \n",
       "6                              1.4         5                    48.4  "
      ]
     },
     "execution_count": 84,
     "metadata": {},
     "output_type": "execute_result"
    }
   ],
   "source": [
    "chart12_cp"
   ]
  },
  {
   "cell_type": "code",
   "execution_count": 85,
   "id": "179650d1-ffaf-4d4e-9a74-a126f41f6dae",
   "metadata": {},
   "outputs": [
    {
     "name": "stdout",
     "output_type": "stream",
     "text": [
      "Purchases, materials and sub-contracts: 0.28932584269662925\n",
      "Other indirect expenses: 0.12359550561797754\n",
      "Labour and commissions: 0.19075587334014302\n",
      "Delivery, shipping and warehouse: 0.003575076608784474\n"
     ]
    }
   ],
   "source": [
    "total = chart12_df[chart12_df['Reference year'] == 2019]['value'].astype(float).sum()\n",
    "print('Purchases, materials and sub-contracts:', float(chart12_cp[chart12_cp['Reference year'] == 2019].iloc[0]['Purchases, materials and sub-contracts'])/total)\n",
    "print('Other indirect expenses:', float(chart12_cp[chart12_cp['Reference year'] == 2019].iloc[0]['Other indirect expenses'])/total)\n",
    "print('Labour and commissions:', float(chart12_cp[chart12_cp['Reference year'] == 2019].iloc[0]['Labour and commissions'])/total)\n",
    "print('Delivery, shipping and warehouse:', float(chart12_cp[chart12_cp['Reference year'] == 2019].iloc[0]['Delivery, shipping and warehouse'])/total)"
   ]
  },
  {
   "cell_type": "markdown",
   "id": "4029eb56-e061-4b21-80ad-75d5c74fee91",
   "metadata": {},
   "source": [
    "**The distribution of small business expenses among expenses types was similar in the three years from 2017 to 2019, but it was different in rural and urban area.**\n",
    "\n",
    "**In 2019, rural area, 'Purchases, materials and sub-contracts' (25.94%), 'Other indirect expenses' (21.11%), 'Labour and commissions' (14.63%) were top 3 expenses types, which accounted for more than half (61.68%) of rural small business expenses, while 'Delivery, shipping and ware hourse' (0.38%) was the least expenses type. For urban area, 'Purchases, materials and sub-contracts' (28.93%), 'Labour and commissions' (19.08%), 'Other indirect expenses' (12.36%) were still top 3 expenses types that accounted 60.37% expenses in total, while 'Delivery, shipping and ware hourse' (0.38%) was the least expenses type. Compared to the rural businesses, urban businesses speend more expenses on 'Labour and commissions'.**"
   ]
  },
  {
   "cell_type": "code",
   "execution_count": null,
   "id": "d4e4197e-b93a-47e4-b7a4-aca51d179209",
   "metadata": {},
   "outputs": [],
   "source": []
  },
  {
   "cell_type": "markdown",
   "id": "89c501d3-97c4-467d-9cd4-8ac8baeee606",
   "metadata": {
    "tags": []
   },
   "source": [
    "### industry shares of total expenses - rural area"
   ]
  },
  {
   "cell_type": "code",
   "execution_count": 86,
   "id": "e6d00dcc-df42-49cf-a98c-ea84678cbf50",
   "metadata": {},
   "outputs": [],
   "source": [
    "chart16_df = sb_revenue_value_3y[(sb_revenue_value_3y['Geography - code'] == 0) & (sb_revenue_value_3y['Incorporation status'] == 'All businesses') & (sb_revenue_value_3y['Location indicator'] == 'Rural') & (sb_revenue_value_3y['North American Industry Classification System, NAICS - code'] != '0') & (sb_revenue_value_3y['Total expenses, quality indicator'] < 'E')]\n",
    "chart16_df = chart16_df[['North American Industry Classification System, NAICS','Reference year','Location indicator','Total expenses']]\n",
    "chart16_df = chart16_df[(chart16_df['Location indicator'] == 'Rural') & (chart16_df['Reference year'] == 2019)]"
   ]
  },
  {
   "cell_type": "code",
   "execution_count": 87,
   "id": "5b630db2-3325-4a4a-8681-02dc030a5a4c",
   "metadata": {},
   "outputs": [],
   "source": [
    "chart16_df.loc[:,'Total expenses'] = chart16_df.loc[:,'Total expenses'].astype(float)"
   ]
  },
  {
   "cell_type": "code",
   "execution_count": 88,
   "id": "34d7a960-a8f3-4f79-8d68-e9341a1261c2",
   "metadata": {},
   "outputs": [
    {
     "data": {
      "text/html": [
       "\n",
       "<div id=\"altair-viz-3eeb16dcf04d4a178b320743da113a9c\"></div>\n",
       "<script type=\"text/javascript\">\n",
       "  var VEGA_DEBUG = (typeof VEGA_DEBUG == \"undefined\") ? {} : VEGA_DEBUG;\n",
       "  (function(spec, embedOpt){\n",
       "    let outputDiv = document.currentScript.previousElementSibling;\n",
       "    if (outputDiv.id !== \"altair-viz-3eeb16dcf04d4a178b320743da113a9c\") {\n",
       "      outputDiv = document.getElementById(\"altair-viz-3eeb16dcf04d4a178b320743da113a9c\");\n",
       "    }\n",
       "    const paths = {\n",
       "      \"vega\": \"https://cdn.jsdelivr.net/npm//vega@5?noext\",\n",
       "      \"vega-lib\": \"https://cdn.jsdelivr.net/npm//vega-lib?noext\",\n",
       "      \"vega-lite\": \"https://cdn.jsdelivr.net/npm//vega-lite@4.17.0?noext\",\n",
       "      \"vega-embed\": \"https://cdn.jsdelivr.net/npm//vega-embed@6?noext\",\n",
       "    };\n",
       "\n",
       "    function maybeLoadScript(lib, version) {\n",
       "      var key = `${lib.replace(\"-\", \"\")}_version`;\n",
       "      return (VEGA_DEBUG[key] == version) ?\n",
       "        Promise.resolve(paths[lib]) :\n",
       "        new Promise(function(resolve, reject) {\n",
       "          var s = document.createElement('script');\n",
       "          document.getElementsByTagName(\"head\")[0].appendChild(s);\n",
       "          s.async = true;\n",
       "          s.onload = () => {\n",
       "            VEGA_DEBUG[key] = version;\n",
       "            return resolve(paths[lib]);\n",
       "          };\n",
       "          s.onerror = () => reject(`Error loading script: ${paths[lib]}`);\n",
       "          s.src = paths[lib];\n",
       "        });\n",
       "    }\n",
       "\n",
       "    function showError(err) {\n",
       "      outputDiv.innerHTML = `<div class=\"error\" style=\"color:red;\">${err}</div>`;\n",
       "      throw err;\n",
       "    }\n",
       "\n",
       "    function displayChart(vegaEmbed) {\n",
       "      vegaEmbed(outputDiv, spec, embedOpt)\n",
       "        .catch(err => showError(`Javascript Error: ${err.message}<br>This usually means there's a typo in your chart specification. See the javascript console for the full traceback.`));\n",
       "    }\n",
       "\n",
       "    if(typeof define === \"function\" && define.amd) {\n",
       "      requirejs.config({paths});\n",
       "      require([\"vega-embed\"], displayChart, err => showError(`Error loading script: ${err.message}`));\n",
       "    } else {\n",
       "      maybeLoadScript(\"vega\", \"5\")\n",
       "        .then(() => maybeLoadScript(\"vega-lite\", \"4.17.0\"))\n",
       "        .then(() => maybeLoadScript(\"vega-embed\", \"6\"))\n",
       "        .catch(showError)\n",
       "        .then(() => displayChart(vegaEmbed));\n",
       "    }\n",
       "  })({\"config\": {\"view\": {\"continuousWidth\": 400, \"continuousHeight\": 300}}, \"data\": {\"name\": \"data-562ea24ff52c20177f5614dc39e0398b\"}, \"mark\": \"bar\", \"encoding\": {\"color\": {\"field\": \"North American Industry Classification System, NAICS\", \"legend\": null, \"type\": \"nominal\"}, \"row\": {\"field\": \"Reference year\", \"title\": \"\", \"type\": \"quantitative\"}, \"x\": {\"field\": \"Total expenses\", \"title\": \"Total Expenses\", \"type\": \"quantitative\"}, \"y\": {\"field\": \"North American Industry Classification System, NAICS\", \"sort\": \"x\", \"title\": \"\", \"type\": \"nominal\"}}, \"height\": 300, \"title\": {\"text\": \"Industry shares of total expenses\", \"subtitle\": \"Canada, small businesses, urban areas, 2019\"}, \"width\": 400, \"$schema\": \"https://vega.github.io/schema/vega-lite/v4.17.0.json\", \"datasets\": {\"data-562ea24ff52c20177f5614dc39e0398b\": [{\"North American Industry Classification System, NAICS\": \"Agriculture, forestry, fishing and hunting\", \"Reference year\": 2019.0, \"Location indicator\": \"Rural\", \"Total expenses\": 735.1}, {\"North American Industry Classification System, NAICS\": \"Mining, quarrying, and oil and gas extraction\", \"Reference year\": 2019.0, \"Location indicator\": \"Rural\", \"Total expenses\": 365.3}, {\"North American Industry Classification System, NAICS\": \"Utilities\", \"Reference year\": 2019.0, \"Location indicator\": \"Rural\", \"Total expenses\": 520.8}, {\"North American Industry Classification System, NAICS\": \"Construction\", \"Reference year\": 2019.0, \"Location indicator\": \"Rural\", \"Total expenses\": 404.3}, {\"North American Industry Classification System, NAICS\": \"Manufacturing\", \"Reference year\": 2019.0, \"Location indicator\": \"Rural\", \"Total expenses\": 616.0}, {\"North American Industry Classification System, NAICS\": \"Wholesale trade\", \"Reference year\": 2019.0, \"Location indicator\": \"Rural\", \"Total expenses\": 729.5}, {\"North American Industry Classification System, NAICS\": \"Retail trade\", \"Reference year\": 2019.0, \"Location indicator\": \"Rural\", \"Total expenses\": 814.6}, {\"North American Industry Classification System, NAICS\": \"Transportation and warehousing\", \"Reference year\": 2019.0, \"Location indicator\": \"Rural\", \"Total expenses\": 388.5}, {\"North American Industry Classification System, NAICS\": \"Information and cultural industries\", \"Reference year\": 2019.0, \"Location indicator\": \"Rural\", \"Total expenses\": 262.7}, {\"North American Industry Classification System, NAICS\": \"Real estate and rental and leasing\", \"Reference year\": 2019.0, \"Location indicator\": \"Rural\", \"Total expenses\": 129.4}, {\"North American Industry Classification System, NAICS\": \"Professional, scientific and technical services\", \"Reference year\": 2019.0, \"Location indicator\": \"Rural\", \"Total expenses\": 170.4}, {\"North American Industry Classification System, NAICS\": \"Management of companies and enterprises\", \"Reference year\": 2019.0, \"Location indicator\": \"Rural\", \"Total expenses\": 221.1}, {\"North American Industry Classification System, NAICS\": \"Administrative and support, waste management and remediation services\", \"Reference year\": 2019.0, \"Location indicator\": \"Rural\", \"Total expenses\": 250.6}, {\"North American Industry Classification System, NAICS\": \"Educational services\", \"Reference year\": 2019.0, \"Location indicator\": \"Rural\", \"Total expenses\": 183.5}, {\"North American Industry Classification System, NAICS\": \"Health care and social assistance\", \"Reference year\": 2019.0, \"Location indicator\": \"Rural\", \"Total expenses\": 216.3}, {\"North American Industry Classification System, NAICS\": \"Arts, entertainment and recreation\", \"Reference year\": 2019.0, \"Location indicator\": \"Rural\", \"Total expenses\": 249.5}, {\"North American Industry Classification System, NAICS\": \"Accommodation and food services\", \"Reference year\": 2019.0, \"Location indicator\": \"Rural\", \"Total expenses\": 475.9}, {\"North American Industry Classification System, NAICS\": \"Other services (except public administration)\", \"Reference year\": 2019.0, \"Location indicator\": \"Rural\", \"Total expenses\": 264.8}]}}, {\"mode\": \"vega-lite\"});\n",
       "</script>"
      ],
      "text/plain": [
       "alt.Chart(...)"
      ]
     },
     "execution_count": 88,
     "metadata": {},
     "output_type": "execute_result"
    }
   ],
   "source": [
    "alt.Chart(chart16_df,title=alt.TitleParams(text = \"Industry shares of total expenses\", \n",
    "                                           subtitle = \"Canada, small businesses, urban areas, 2019\")).mark_bar().encode(\n",
    "    x=alt.X('Total expenses:Q', title='Total Expenses'),\n",
    "    y=alt.Y('North American Industry Classification System, NAICS', title='',sort='x'),\n",
    "    color=alt.Color('North American Industry Classification System, NAICS', legend=None),\n",
    "    row=alt.Row('Reference year', title='')\n",
    ").properties(width=400, height=300)"
   ]
  },
  {
   "cell_type": "code",
   "execution_count": 89,
   "id": "1b29319d-f24e-4cdc-8ddb-eea80606586e",
   "metadata": {
    "scrolled": true,
    "tags": []
   },
   "outputs": [
    {
     "data": {
      "text/html": [
       "<div>\n",
       "<style scoped>\n",
       "    .dataframe tbody tr th:only-of-type {\n",
       "        vertical-align: middle;\n",
       "    }\n",
       "\n",
       "    .dataframe tbody tr th {\n",
       "        vertical-align: top;\n",
       "    }\n",
       "\n",
       "    .dataframe thead th {\n",
       "        text-align: right;\n",
       "    }\n",
       "</style>\n",
       "<table border=\"1\" class=\"dataframe\">\n",
       "  <thead>\n",
       "    <tr style=\"text-align: right;\">\n",
       "      <th></th>\n",
       "      <th>North American Industry Classification System, NAICS</th>\n",
       "      <th>Reference year</th>\n",
       "      <th>Location indicator</th>\n",
       "      <th>Total expenses</th>\n",
       "    </tr>\n",
       "  </thead>\n",
       "  <tbody>\n",
       "    <tr>\n",
       "      <th>8022</th>\n",
       "      <td>Real estate and rental and leasing</td>\n",
       "      <td>2019.0</td>\n",
       "      <td>Rural</td>\n",
       "      <td>129.4</td>\n",
       "    </tr>\n",
       "    <tr>\n",
       "      <th>8418</th>\n",
       "      <td>Professional, scientific and technical services</td>\n",
       "      <td>2019.0</td>\n",
       "      <td>Rural</td>\n",
       "      <td>170.4</td>\n",
       "    </tr>\n",
       "    <tr>\n",
       "      <th>9111</th>\n",
       "      <td>Educational services</td>\n",
       "      <td>2019.0</td>\n",
       "      <td>Rural</td>\n",
       "      <td>183.5</td>\n",
       "    </tr>\n",
       "    <tr>\n",
       "      <th>9309</th>\n",
       "      <td>Health care and social assistance</td>\n",
       "      <td>2019.0</td>\n",
       "      <td>Rural</td>\n",
       "      <td>216.3</td>\n",
       "    </tr>\n",
       "    <tr>\n",
       "      <th>8616</th>\n",
       "      <td>Management of companies and enterprises</td>\n",
       "      <td>2019.0</td>\n",
       "      <td>Rural</td>\n",
       "      <td>221.1</td>\n",
       "    </tr>\n",
       "    <tr>\n",
       "      <th>9804</th>\n",
       "      <td>Arts, entertainment and recreation</td>\n",
       "      <td>2019.0</td>\n",
       "      <td>Rural</td>\n",
       "      <td>249.5</td>\n",
       "    </tr>\n",
       "    <tr>\n",
       "      <th>8814</th>\n",
       "      <td>Administrative and support, waste management a...</td>\n",
       "      <td>2019.0</td>\n",
       "      <td>Rural</td>\n",
       "      <td>250.6</td>\n",
       "    </tr>\n",
       "    <tr>\n",
       "      <th>7329</th>\n",
       "      <td>Information and cultural industries</td>\n",
       "      <td>2019.0</td>\n",
       "      <td>Rural</td>\n",
       "      <td>262.7</td>\n",
       "    </tr>\n",
       "    <tr>\n",
       "      <th>10497</th>\n",
       "      <td>Other services (except public administration)</td>\n",
       "      <td>2019.0</td>\n",
       "      <td>Rural</td>\n",
       "      <td>264.8</td>\n",
       "    </tr>\n",
       "    <tr>\n",
       "      <th>696</th>\n",
       "      <td>Mining, quarrying, and oil and gas extraction</td>\n",
       "      <td>2019.0</td>\n",
       "      <td>Rural</td>\n",
       "      <td>365.3</td>\n",
       "    </tr>\n",
       "    <tr>\n",
       "      <th>6141</th>\n",
       "      <td>Transportation and warehousing</td>\n",
       "      <td>2019.0</td>\n",
       "      <td>Rural</td>\n",
       "      <td>388.5</td>\n",
       "    </tr>\n",
       "    <tr>\n",
       "      <th>1290</th>\n",
       "      <td>Construction</td>\n",
       "      <td>2019.0</td>\n",
       "      <td>Rural</td>\n",
       "      <td>404.3</td>\n",
       "    </tr>\n",
       "    <tr>\n",
       "      <th>10200</th>\n",
       "      <td>Accommodation and food services</td>\n",
       "      <td>2019.0</td>\n",
       "      <td>Rural</td>\n",
       "      <td>475.9</td>\n",
       "    </tr>\n",
       "    <tr>\n",
       "      <th>1092</th>\n",
       "      <td>Utilities</td>\n",
       "      <td>2019.0</td>\n",
       "      <td>Rural</td>\n",
       "      <td>520.8</td>\n",
       "    </tr>\n",
       "    <tr>\n",
       "      <th>1686</th>\n",
       "      <td>Manufacturing</td>\n",
       "      <td>2019.0</td>\n",
       "      <td>Rural</td>\n",
       "      <td>616.0</td>\n",
       "    </tr>\n",
       "    <tr>\n",
       "      <th>3864</th>\n",
       "      <td>Wholesale trade</td>\n",
       "      <td>2019.0</td>\n",
       "      <td>Rural</td>\n",
       "      <td>729.5</td>\n",
       "    </tr>\n",
       "    <tr>\n",
       "      <th>102</th>\n",
       "      <td>Agriculture, forestry, fishing and hunting</td>\n",
       "      <td>2019.0</td>\n",
       "      <td>Rural</td>\n",
       "      <td>735.1</td>\n",
       "    </tr>\n",
       "    <tr>\n",
       "      <th>4854</th>\n",
       "      <td>Retail trade</td>\n",
       "      <td>2019.0</td>\n",
       "      <td>Rural</td>\n",
       "      <td>814.6</td>\n",
       "    </tr>\n",
       "  </tbody>\n",
       "</table>\n",
       "</div>"
      ],
      "text/plain": [
       "      North American Industry Classification System, NAICS  Reference year  \\\n",
       "8022                  Real estate and rental and leasing            2019.0   \n",
       "8418     Professional, scientific and technical services            2019.0   \n",
       "9111                                Educational services            2019.0   \n",
       "9309                   Health care and social assistance            2019.0   \n",
       "8616             Management of companies and enterprises            2019.0   \n",
       "9804                  Arts, entertainment and recreation            2019.0   \n",
       "8814   Administrative and support, waste management a...            2019.0   \n",
       "7329                 Information and cultural industries            2019.0   \n",
       "10497      Other services (except public administration)            2019.0   \n",
       "696        Mining, quarrying, and oil and gas extraction            2019.0   \n",
       "6141                      Transportation and warehousing            2019.0   \n",
       "1290                                        Construction            2019.0   \n",
       "10200                    Accommodation and food services            2019.0   \n",
       "1092                                           Utilities            2019.0   \n",
       "1686                                       Manufacturing            2019.0   \n",
       "3864                                     Wholesale trade            2019.0   \n",
       "102           Agriculture, forestry, fishing and hunting            2019.0   \n",
       "4854                                        Retail trade            2019.0   \n",
       "\n",
       "      Location indicator  Total expenses  \n",
       "8022               Rural           129.4  \n",
       "8418               Rural           170.4  \n",
       "9111               Rural           183.5  \n",
       "9309               Rural           216.3  \n",
       "8616               Rural           221.1  \n",
       "9804               Rural           249.5  \n",
       "8814               Rural           250.6  \n",
       "7329               Rural           262.7  \n",
       "10497              Rural           264.8  \n",
       "696                Rural           365.3  \n",
       "6141               Rural           388.5  \n",
       "1290               Rural           404.3  \n",
       "10200              Rural           475.9  \n",
       "1092               Rural           520.8  \n",
       "1686               Rural           616.0  \n",
       "3864               Rural           729.5  \n",
       "102                Rural           735.1  \n",
       "4854               Rural           814.6  "
      ]
     },
     "execution_count": 89,
     "metadata": {},
     "output_type": "execute_result"
    }
   ],
   "source": [
    "chart16_df.sort_values(['Total expenses'])"
   ]
  },
  {
   "cell_type": "code",
   "execution_count": 90,
   "id": "34bb0e52-6b8f-436e-93ff-a0c1d901387e",
   "metadata": {},
   "outputs": [
    {
     "name": "stdout",
     "output_type": "stream",
     "text": [
      "Wholesale trade: 0.1042396010459683\n",
      "Agriculture, forestry, fishing and hunting: 0.10503979537887773\n",
      "Retail trade: 0.11639969706928825\n"
     ]
    }
   ],
   "source": [
    "total = chart16_df['Total expenses'].sum()\n",
    "print('Wholesale trade:', float(chart16_df[chart16_df['North American Industry Classification System, NAICS'] == 'Wholesale trade'].iloc[0]['Total expenses'])/total)\n",
    "print('Agriculture, forestry, fishing and hunting:', float(chart16_df[chart16_df['North American Industry Classification System, NAICS'] == 'Agriculture, forestry, fishing and hunting'].iloc[0]['Total expenses'])/total)\n",
    "print('Retail trade:', float(chart16_df[chart16_df['North American Industry Classification System, NAICS'] == 'Retail trade'].iloc[0]['Total expenses'])/total)"
   ]
  },
  {
   "cell_type": "markdown",
   "id": "8022645d-76c2-4070-b75c-5afa6ada447f",
   "metadata": {},
   "source": [
    "**In 2019, rural area, 'Retail trade' (11.64%), 'Agriculture, forestry, fishing and hunting' (10.50%), 'Wholesale trade' (10.42%) are top 3 industries, which accounted for only 32.56% of rural small business expenses. This might mean that the expenses differences between industries were not large.**"
   ]
  },
  {
   "cell_type": "code",
   "execution_count": null,
   "id": "7837562e-7c29-47d5-a8bb-71af84b60ebf",
   "metadata": {},
   "outputs": [],
   "source": []
  },
  {
   "cell_type": "code",
   "execution_count": null,
   "id": "a2f82429-c16f-42ff-a2da-d3455eb71f3f",
   "metadata": {},
   "outputs": [],
   "source": []
  },
  {
   "cell_type": "code",
   "execution_count": null,
   "id": "303b59f3-e4cf-477b-9eb9-8069b4c90a77",
   "metadata": {},
   "outputs": [],
   "source": []
  }
 ],
 "metadata": {
  "kernelspec": {
   "display_name": "Python 3 (ipykernel)",
   "language": "python",
   "name": "python3"
  },
  "language_info": {
   "codemirror_mode": {
    "name": "ipython",
    "version": 3
   },
   "file_extension": ".py",
   "mimetype": "text/x-python",
   "name": "python",
   "nbconvert_exporter": "python",
   "pygments_lexer": "ipython3",
   "version": "3.9.5"
  }
 },
 "nbformat": 4,
 "nbformat_minor": 5
}
