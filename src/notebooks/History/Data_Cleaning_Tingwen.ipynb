{
 "cells": [
  {
   "cell_type": "code",
   "execution_count": 1,
   "id": "37cf2180-356a-4ae6-ae6c-8c06036be510",
   "metadata": {},
   "outputs": [],
   "source": [
    "import pandas as pd\n",
    "import numpy as np"
   ]
  },
  {
   "cell_type": "code",
   "execution_count": 2,
   "id": "3d3e384a-dbbc-49f0-9ecb-fdc326bf8bc1",
   "metadata": {},
   "outputs": [],
   "source": [
    "def tab_reader(filepathpattern,tabnum,skiprow,low_memory=False):\n",
    "    tabs = []\n",
    "    for i in range (tabnum):\n",
    "        cur_index = i+1\n",
    "        cur_filepath = filepathpattern.format(cur_index)\n",
    "        try:\n",
    "            tab = pd.read_csv(cur_filepath, skiprows=skiprow, low_memory=False)\n",
    "        except:\n",
    "            tab = pd.read_csv(cur_filepath, skiprows=skiprow,encoding='latin-1', low_memory=low_memory)\n",
    "        tabs.append(tab)\n",
    "    return tabs\n"
   ]
  },
  {
   "cell_type": "code",
   "execution_count": 3,
   "id": "e4cb8ee1-e5cc-4101-b905-7887e1d7098c",
   "metadata": {},
   "outputs": [],
   "source": [
    "# 2017 data\n",
    "rcbp_2017_mb_profitMargin_Tabs = tab_reader(\"../../data/2017_csv_eng/2017_Medium businesses_Profit margin based_csv/_2017_Medium businesses_Profit margin_Tab{}.csv\",5,5)\n",
    "rcbp_2017_mb_revenue_Tabs = tab_reader(\"../../data/2017_csv_eng/2017_Medium businesses_Total revenue based_csv/_2017_Eng_Medium_Revenue_Tab{}.csv\",5,5)\n",
    "rcbp_2017_sb_profitMargin_Tabs = tab_reader(\"../../data/2017_csv_eng/2017_Small businesses_Profit margin based_csv/_2017_Small businesses_Profit margin based_Tab{}.csv\",7,5)\n",
    "rcbp_2017_sb_profitMargin_Tabs[0] = tab_reader(\"../../data/2017_csv_eng/2017_Small businesses_Profit margin based_csv/_2017_Small businesses_Profit margin based_Tab{}.csv\",1,6)[0]\n",
    "rcbp_2017_sb_revenue_Tabs = tab_reader(\"../../data/2017_csv_eng/2017_Small businesses_Total revenue based_csv/_2017_Small businesses_Total revenue based_Tab{}.csv\",7,5)\n",
    "rcbp_2017_sb_revenue_Tabs[0] = tab_reader(\"../../data/2017_csv_eng/2017_Small businesses_Total revenue based_csv/_2017_Small businesses_Total revenue based_Tab{}.csv\",1,6)[0]"
   ]
  },
  {
   "cell_type": "code",
   "execution_count": 4,
   "id": "dccae8e6-1191-4e0b-ac2f-63c0cef6a3d1",
   "metadata": {},
   "outputs": [],
   "source": [
    "# 2018 data\n",
    "rcbp_2018_mb_profitMargin_Tabs = tab_reader(\"../../data/2018_csv_eng/2018_Medium businesses_Profit margin based_csv/_2018_Medium businesses_Profit margin_Tab{}.csv\",5,5)\n",
    "rcbp_2018_mb_revenue_Tabs = tab_reader(\"../../data/2018_csv_eng/2018_Medium businesses_Total revenue based_csv/_2018_Medium businesses_Total revenue_Tab{}.csv\",5,5)\n",
    "rcbp_2018_sb_profitMargin_Tabs = tab_reader(\"../../data/2018_csv_eng/2018_Small businesses_Profit margin based_csv/_2018_Small businesses_Profit margin_Tab{}.csv\",7,5)\n",
    "rcbp_2018_sb_profitMargin_Tabs[0] = tab_reader(\"../../data/2018_csv_eng/2018_Small businesses_Profit margin based_csv/_2018_Small businesses_Profit margin_Tab{}.csv\",1,6)[0]\n",
    "rcbp_2018_sb_revenue_Tabs = tab_reader(\"../../data/2018_csv_eng/2018_Small businesses_Total revenue based_csv/_2018_Small businesses_Total revenue_Tab{}.csv\",7,5)\n",
    "rcbp_2018_sb_revenue_Tabs[0] = tab_reader(\"../../data/2018_csv_eng/2018_Small businesses_Total revenue based_csv/_2018_Small businesses_Total revenue_Tab{}.csv\",1,6)[0]"
   ]
  },
  {
   "cell_type": "code",
   "execution_count": 5,
   "id": "9aa32747-a3b7-47c0-ab4f-b9154d2c3986",
   "metadata": {},
   "outputs": [],
   "source": [
    "# 2019 data\n",
    "rcbp_2019_mb_profitMargin_Tabs = tab_reader(\"../../data/2019_csv_eng/2019_Medium businesses_Profit margin_csv/_2019_Medium businesses_Profit margin_Tab{}.csv\",5,5)\n",
    "rcbp_2019_mb_revenue_Tabs = tab_reader(\"../../data/2019_csv_eng/2019_Medium businesses_Total revenue_csv/_2019_Medium businesses_Total revenue_Tab{}.csv\",5,5)\n",
    "rcbp_2019_sb_profitMargin_Tabs = tab_reader(\"../../data/2019_csv_eng/2019_Small businesses_Profit margin_csv/_2019_Small businesses_Profit margin_Tab{}.csv\",7,5)\n",
    "rcbp_2019_sb_profitMargin_Tabs[0] = tab_reader(\"../../data/2019_csv_eng/2019_Small businesses_Profit margin_csv/_2019_Small businesses_Profit margin_Tab{}.csv\",1,6)[0]\n",
    "rcbp_2019_sb_revenue_Tabs = tab_reader(\"../../data/2019_csv_eng/2019_Small businesses_Total revenue_csv/_2019_Small businesses_Total revenue_Tab{}.csv\",7,5)\n",
    "rcbp_2019_sb_revenue_Tabs[0] = tab_reader(\"../../data/2019_csv_eng/2019_Small businesses_Total revenue_csv/_2019_Small businesses_Total revenue_Tab{}.csv\",1,6)[0]"
   ]
  },
  {
   "cell_type": "code",
   "execution_count": null,
   "id": "60b0aa09-3595-465c-a9da-bafac3574ffc",
   "metadata": {},
   "outputs": [],
   "source": [
    "rcbp_2017_sb_revenue_Tabs[4]"
   ]
  },
  {
   "cell_type": "markdown",
   "id": "734473ed-66e8-416e-8285-cf570fa1777c",
   "metadata": {},
   "source": [
    "## Cleaning and preparation for analysis"
   ]
  },
  {
   "cell_type": "markdown",
   "id": "823309c3-d001-4e04-8f45-84a645e0fc17",
   "metadata": {},
   "source": [
    "Small business incorporated Gross Margin"
   ]
  },
  {
   "cell_type": "code",
   "execution_count": 19,
   "id": "c71ec383-a709-4377-8ab6-dd1627dc2d12",
   "metadata": {},
   "outputs": [],
   "source": [
    "# Get specfic table\n",
    "Tab4_2019=rcbp_2019_sb_revenue_Tabs[4]\n",
    "Tab4_2018=rcbp_2018_sb_revenue_Tabs[4]\n",
    "Tab4_2017=rcbp_2017_sb_revenue_Tabs[4]"
   ]
  },
  {
   "cell_type": "code",
   "execution_count": 20,
   "id": "2c76a0ef-cb9e-419f-ab16-fe172a97be92",
   "metadata": {},
   "outputs": [],
   "source": [
    "# List all columns I want\n",
    "columns0=['North American Industry Classification System, NAICS - code','North American Industry Classification System, NAICS',\n",
    "         'Geography - code','Geography','Location indicator - code','Location indicator','Incorporation status - code','Incorporation status',\n",
    "         'Reference year','Current debt to equity (%)','Net profit to equity (%)']"
   ]
  },
  {
   "cell_type": "code",
   "execution_count": 21,
   "id": "b89175df-77ad-4ec1-8168-fc1033744a90",
   "metadata": {},
   "outputs": [],
   "source": [
    "df2019 = pd.DataFrame(Tab4_2019, columns=columns0)\n",
    "df2018 = pd.DataFrame(Tab4_2018, columns=columns0)\n",
    "df2017 = pd.DataFrame(Tab4_2017, columns=columns0)"
   ]
  },
  {
   "cell_type": "code",
   "execution_count": 22,
   "id": "62e415f3-d7e0-49f6-ac8b-3b46e37a7c19",
   "metadata": {},
   "outputs": [],
   "source": [
    "df2019 = df2019.loc[df2019['North American Industry Classification System, NAICS - code'].isin(\n",
    "    ['0','11','21','22','23','31-33','41','44-45','49-49','51','53','54','55','56','61','62','71','72','81'])]\n",
    "df2018 = df2018.loc[df2018['North American Industry Classification System, NAICS - code'].isin(\n",
    "    ['0','11','21','22','23','31-33','41','44-45','49-49','51','53','54','55','56','61','62','71','72','81'])]\n",
    "df2017 = df2017.loc[df2017['North American Industry Classification System, NAICS - code'].isin(\n",
    "    ['0','11','21','22','23','31-33','41','44-45','49-49','51','53','54','55','56','61','62','71','72','81'])]"
   ]
  },
  {
   "cell_type": "code",
   "execution_count": 23,
   "id": "6ba2e82c-b534-403a-9f91-0db981c54bce",
   "metadata": {},
   "outputs": [],
   "source": [
    "small_business_fr=pd.concat([df2019, df2018, df2017])"
   ]
  },
  {
   "cell_type": "code",
   "execution_count": 26,
   "id": "c3ca6255-b6c6-4caf-af44-92a606eae0a5",
   "metadata": {},
   "outputs": [
    {
     "data": {
      "text/html": [
       "<div>\n",
       "<style scoped>\n",
       "    .dataframe tbody tr th:only-of-type {\n",
       "        vertical-align: middle;\n",
       "    }\n",
       "\n",
       "    .dataframe tbody tr th {\n",
       "        vertical-align: top;\n",
       "    }\n",
       "\n",
       "    .dataframe thead th {\n",
       "        text-align: right;\n",
       "    }\n",
       "</style>\n",
       "<table border=\"1\" class=\"dataframe\">\n",
       "  <thead>\n",
       "    <tr style=\"text-align: right;\">\n",
       "      <th></th>\n",
       "      <th>North American Industry Classification System, NAICS - code</th>\n",
       "      <th>North American Industry Classification System, NAICS</th>\n",
       "      <th>Geography - code</th>\n",
       "      <th>Geography</th>\n",
       "      <th>Location indicator - code</th>\n",
       "      <th>Location indicator</th>\n",
       "      <th>Incorporation status - code</th>\n",
       "      <th>Incorporation status</th>\n",
       "      <th>Reference year</th>\n",
       "      <th>Current debt to equity (%)</th>\n",
       "      <th>Net profit to equity (%)</th>\n",
       "    </tr>\n",
       "  </thead>\n",
       "  <tbody>\n",
       "    <tr>\n",
       "      <th>1</th>\n",
       "      <td>0</td>\n",
       "      <td>All industries</td>\n",
       "      <td>0.0</td>\n",
       "      <td>Canada</td>\n",
       "      <td>1.0</td>\n",
       "      <td>Rural</td>\n",
       "      <td>2.0</td>\n",
       "      <td>Incorporated</td>\n",
       "      <td>2019.0</td>\n",
       "      <td>43.6</td>\n",
       "      <td>4.3</td>\n",
       "    </tr>\n",
       "    <tr>\n",
       "      <th>2</th>\n",
       "      <td>0</td>\n",
       "      <td>All industries</td>\n",
       "      <td>0.0</td>\n",
       "      <td>Canada</td>\n",
       "      <td>2.0</td>\n",
       "      <td>Urban</td>\n",
       "      <td>2.0</td>\n",
       "      <td>Incorporated</td>\n",
       "      <td>2019.0</td>\n",
       "      <td>50.9</td>\n",
       "      <td>11.6</td>\n",
       "    </tr>\n",
       "    <tr>\n",
       "      <th>3</th>\n",
       "      <td>0</td>\n",
       "      <td>All industries</td>\n",
       "      <td>15.0</td>\n",
       "      <td>Altantic</td>\n",
       "      <td>1.0</td>\n",
       "      <td>Rural</td>\n",
       "      <td>2.0</td>\n",
       "      <td>Incorporated</td>\n",
       "      <td>2019.0</td>\n",
       "      <td>48.2</td>\n",
       "      <td>11.5</td>\n",
       "    </tr>\n",
       "    <tr>\n",
       "      <th>4</th>\n",
       "      <td>0</td>\n",
       "      <td>All industries</td>\n",
       "      <td>15.0</td>\n",
       "      <td>Altantic</td>\n",
       "      <td>2.0</td>\n",
       "      <td>Urban</td>\n",
       "      <td>2.0</td>\n",
       "      <td>Incorporated</td>\n",
       "      <td>2019.0</td>\n",
       "      <td>45.7</td>\n",
       "      <td>11.6</td>\n",
       "    </tr>\n",
       "    <tr>\n",
       "      <th>5</th>\n",
       "      <td>0</td>\n",
       "      <td>All industries</td>\n",
       "      <td>10.0</td>\n",
       "      <td>Newfoundland and Labrador</td>\n",
       "      <td>1.0</td>\n",
       "      <td>Rural</td>\n",
       "      <td>2.0</td>\n",
       "      <td>Incorporated</td>\n",
       "      <td>2019.0</td>\n",
       "      <td>50.7</td>\n",
       "      <td>6.7</td>\n",
       "    </tr>\n",
       "    <tr>\n",
       "      <th>...</th>\n",
       "      <td>...</td>\n",
       "      <td>...</td>\n",
       "      <td>...</td>\n",
       "      <td>...</td>\n",
       "      <td>...</td>\n",
       "      <td>...</td>\n",
       "      <td>...</td>\n",
       "      <td>...</td>\n",
       "      <td>...</td>\n",
       "      <td>...</td>\n",
       "      <td>...</td>\n",
       "    </tr>\n",
       "    <tr>\n",
       "      <th>3527</th>\n",
       "      <td>81</td>\n",
       "      <td>Other services (except public administration)</td>\n",
       "      <td>60.0</td>\n",
       "      <td>Yukon</td>\n",
       "      <td>1.0</td>\n",
       "      <td>Rural</td>\n",
       "      <td>2.0</td>\n",
       "      <td>Incorporated</td>\n",
       "      <td>2019.0</td>\n",
       "      <td>X</td>\n",
       "      <td>X</td>\n",
       "    </tr>\n",
       "    <tr>\n",
       "      <th>3528</th>\n",
       "      <td>81</td>\n",
       "      <td>Other services (except public administration)</td>\n",
       "      <td>60.0</td>\n",
       "      <td>Yukon</td>\n",
       "      <td>2.0</td>\n",
       "      <td>Urban</td>\n",
       "      <td>2.0</td>\n",
       "      <td>Incorporated</td>\n",
       "      <td>2019.0</td>\n",
       "      <td>40.3</td>\n",
       "      <td>29.8</td>\n",
       "    </tr>\n",
       "    <tr>\n",
       "      <th>3529</th>\n",
       "      <td>81</td>\n",
       "      <td>Other services (except public administration)</td>\n",
       "      <td>61.0</td>\n",
       "      <td>Nordwest Territories</td>\n",
       "      <td>1.0</td>\n",
       "      <td>Rural</td>\n",
       "      <td>2.0</td>\n",
       "      <td>Incorporated</td>\n",
       "      <td>2019.0</td>\n",
       "      <td>26.2</td>\n",
       "      <td>3</td>\n",
       "    </tr>\n",
       "    <tr>\n",
       "      <th>3530</th>\n",
       "      <td>81</td>\n",
       "      <td>Other services (except public administration)</td>\n",
       "      <td>61.0</td>\n",
       "      <td>Nordwest Territories</td>\n",
       "      <td>2.0</td>\n",
       "      <td>Urban</td>\n",
       "      <td>2.0</td>\n",
       "      <td>Incorporated</td>\n",
       "      <td>2019.0</td>\n",
       "      <td>23.3</td>\n",
       "      <td>9.1</td>\n",
       "    </tr>\n",
       "    <tr>\n",
       "      <th>3531</th>\n",
       "      <td>81</td>\n",
       "      <td>Other services (except public administration)</td>\n",
       "      <td>62.0</td>\n",
       "      <td>Nunavut</td>\n",
       "      <td>1.0</td>\n",
       "      <td>Rural</td>\n",
       "      <td>2.0</td>\n",
       "      <td>Incorporated</td>\n",
       "      <td>2019.0</td>\n",
       "      <td>X</td>\n",
       "      <td>X</td>\n",
       "    </tr>\n",
       "  </tbody>\n",
       "</table>\n",
       "<p>594 rows × 11 columns</p>\n",
       "</div>"
      ],
      "text/plain": [
       "     North American Industry Classification System, NAICS - code  \\\n",
       "1                                                     0            \n",
       "2                                                     0            \n",
       "3                                                     0            \n",
       "4                                                     0            \n",
       "5                                                     0            \n",
       "...                                                 ...            \n",
       "3527                                                 81            \n",
       "3528                                                 81            \n",
       "3529                                                 81            \n",
       "3530                                                 81            \n",
       "3531                                                 81            \n",
       "\n",
       "     North American Industry Classification System, NAICS  Geography - code  \\\n",
       "1                                        All industries                 0.0   \n",
       "2                                        All industries                 0.0   \n",
       "3                                        All industries                15.0   \n",
       "4                                        All industries                15.0   \n",
       "5                                        All industries                10.0   \n",
       "...                                                 ...                 ...   \n",
       "3527      Other services (except public administration)                60.0   \n",
       "3528      Other services (except public administration)                60.0   \n",
       "3529      Other services (except public administration)                61.0   \n",
       "3530      Other services (except public administration)                61.0   \n",
       "3531      Other services (except public administration)                62.0   \n",
       "\n",
       "                      Geography  Location indicator - code Location indicator  \\\n",
       "1                        Canada                        1.0              Rural   \n",
       "2                        Canada                        2.0              Urban   \n",
       "3                      Altantic                        1.0              Rural   \n",
       "4                      Altantic                        2.0              Urban   \n",
       "5     Newfoundland and Labrador                        1.0              Rural   \n",
       "...                         ...                        ...                ...   \n",
       "3527                      Yukon                        1.0              Rural   \n",
       "3528                      Yukon                        2.0              Urban   \n",
       "3529       Nordwest Territories                        1.0              Rural   \n",
       "3530       Nordwest Territories                        2.0              Urban   \n",
       "3531                    Nunavut                        1.0              Rural   \n",
       "\n",
       "      Incorporation status - code Incorporation status  Reference year  \\\n",
       "1                             2.0         Incorporated          2019.0   \n",
       "2                             2.0         Incorporated          2019.0   \n",
       "3                             2.0         Incorporated          2019.0   \n",
       "4                             2.0         Incorporated          2019.0   \n",
       "5                             2.0         Incorporated          2019.0   \n",
       "...                           ...                  ...             ...   \n",
       "3527                          2.0         Incorporated          2019.0   \n",
       "3528                          2.0         Incorporated          2019.0   \n",
       "3529                          2.0         Incorporated          2019.0   \n",
       "3530                          2.0         Incorporated          2019.0   \n",
       "3531                          2.0         Incorporated          2019.0   \n",
       "\n",
       "     Current debt to equity (%) Net profit to equity (%)  \n",
       "1                          43.6                      4.3  \n",
       "2                          50.9                     11.6  \n",
       "3                          48.2                     11.5  \n",
       "4                          45.7                     11.6  \n",
       "5                          50.7                      6.7  \n",
       "...                         ...                      ...  \n",
       "3527                          X                        X  \n",
       "3528                       40.3                     29.8  \n",
       "3529                       26.2                        3  \n",
       "3530                       23.3                      9.1  \n",
       "3531                          X                        X  \n",
       "\n",
       "[594 rows x 11 columns]"
      ]
     },
     "execution_count": 26,
     "metadata": {},
     "output_type": "execute_result"
    }
   ],
   "source": [
    "df2019"
   ]
  },
  {
   "cell_type": "code",
   "execution_count": 27,
   "id": "431cfe93-a48b-4729-8c78-ccf2f52b8cc1",
   "metadata": {},
   "outputs": [],
   "source": [
    "small_business_fr.to_excel(\"small business financial ratios.xlsx\")"
   ]
  },
  {
   "cell_type": "markdown",
   "id": "88e4e8af-1d69-4f4d-964f-732f17695aae",
   "metadata": {},
   "source": [
    "*small business*"
   ]
  },
  {
   "cell_type": "code",
   "execution_count": 8,
   "id": "a4f9fad2-52b4-4829-8ed3-344ee5044f67",
   "metadata": {},
   "outputs": [],
   "source": [
    "# Get specfic table\n",
    "MB_2019=rcbp_2019_mb_revenue_Tabs[4]\n",
    "MB_2018=rcbp_2018_mb_revenue_Tabs[4]\n",
    "MB_2017=rcbp_2017_mb_revenue_Tabs[4]"
   ]
  },
  {
   "cell_type": "code",
   "execution_count": 9,
   "id": "355860a1-bb65-4e54-b898-af137fb991bd",
   "metadata": {},
   "outputs": [],
   "source": [
    "# Get the clean tabel\n",
    "MB2019 = pd.DataFrame(MB_2019, columns=columns0)\n",
    "MB2018 = pd.DataFrame(MB_2018, columns=columns0)\n",
    "MB2017 = pd.DataFrame(MB_2017, columns=columns0)"
   ]
  },
  {
   "cell_type": "code",
   "execution_count": 10,
   "id": "1dac2505-065d-420a-8712-e3469d913abf",
   "metadata": {},
   "outputs": [],
   "source": [
    "# Eliminate the first NAN row\n",
    "MB2019 = MB2019.iloc[1:,:]\n",
    "MB2018 = MB2018.iloc[1:,:]\n",
    "MB2017 = MB2017.iloc[1:,:]"
   ]
  },
  {
   "cell_type": "code",
   "execution_count": 11,
   "id": "3680ebbc-d4e0-4c99-abdb-554a333fed51",
   "metadata": {},
   "outputs": [],
   "source": [
    "MB2019 = MB2019.loc[MB2019['North American Industry Classification System, NAICS - code'].isin(\n",
    "    ['0','11','21','22','23','31-33','41','44-45','49-49','51','53','54','55','56','61','62','71','72','81'])]\n",
    "MB2018 = MB2018.loc[MB2018['North American Industry Classification System, NAICS - code'].isin(\n",
    "    ['0','11','21','22','23','31-33','41','44-45','49-49','51','53','54','55','56','61','62','71','72','81'])]\n",
    "MB2017 = MB2017.loc[MB2017['North American Industry Classification System, NAICS - code'].isin(\n",
    "    ['0','11','21','22','23','31-33','41','44-45','49-49','51','53','54','55','56','61','62','71','72','81'])]"
   ]
  },
  {
   "cell_type": "code",
   "execution_count": 12,
   "id": "13066897-0a72-4322-8245-d5e1538d495d",
   "metadata": {},
   "outputs": [],
   "source": [
    "# concate together\n",
    "MB = pd.concat([MB2019, MB2018, MB2017])"
   ]
  },
  {
   "cell_type": "code",
   "execution_count": 13,
   "id": "f2923c1b-4423-4bdb-a2e4-70f9de9771af",
   "metadata": {},
   "outputs": [],
   "source": [
    "# Export to excel file\n",
    "MB.to_excel(\"medium business financial ratios.xlsx\")"
   ]
  },
  {
   "cell_type": "code",
   "execution_count": 24,
   "id": "7bf534ed-88a1-4e5d-9977-f0b999d5b843",
   "metadata": {},
   "outputs": [
    {
     "data": {
      "text/plain": [
       "666"
      ]
     },
     "execution_count": 24,
     "metadata": {},
     "output_type": "execute_result"
    }
   ],
   "source": [
    "len(MB)"
   ]
  },
  {
   "cell_type": "code",
   "execution_count": 60,
   "id": "0e89bc29-dfc8-4e91-9612-4bd5301e83b3",
   "metadata": {},
   "outputs": [],
   "source": [
    "columns2=['North American Industry Classification System, NAICS - code','North American Industry Classification System, NAICS',\n",
    "         'Geography - code','Geography','Location indicator - code','Location indicator','Incorporation status - code','Incorporation status',\n",
    "         'Reference year','Net profit to equity (%)','Gross margin (%)']"
   ]
  },
  {
   "cell_type": "code",
   "execution_count": 61,
   "id": "49dd45b1-b155-4b9c-8442-d7ebb2148964",
   "metadata": {},
   "outputs": [],
   "source": [
    "df2019_c = pd.DataFrame(Tab4_2019, columns=columns2)\n",
    "df2018_c = pd.DataFrame(Tab4_2018, columns=columns2)\n",
    "df2017_c = pd.DataFrame(Tab4_2017, columns=columns2)"
   ]
  },
  {
   "cell_type": "code",
   "execution_count": 62,
   "id": "4c238d3a-3384-4080-8384-5a4101631f90",
   "metadata": {},
   "outputs": [],
   "source": [
    "df2019_c = df2019_c.loc[df2019_c['North American Industry Classification System, NAICS - code'].isin(\n",
    "    ['11','21','22','23','31-33','41','44-45','49-49','51','53','54','55','56','61','62','71','72','81'])]\n",
    "df2018_c = df2018_c.loc[df2018_c['North American Industry Classification System, NAICS - code'].isin(\n",
    "    ['11','21','22','23','31-33','41','44-45','49-49','51','53','54','55','56','61','62','71','72','81'])]\n",
    "df2017_c = df2017_c.loc[df2017_c['North American Industry Classification System, NAICS - code'].isin(\n",
    "    ['11','21','22','23','31-33','41','44-45','49-49','51','53','54','55','56','61','62','71','72','81'])]"
   ]
  },
  {
   "cell_type": "code",
   "execution_count": 63,
   "id": "4a889a91-dbe7-458e-8e5a-e8b8e8ee376a",
   "metadata": {},
   "outputs": [],
   "source": [
    "df2019_c = df2019_c.loc[df2019_c['Geography - code']== 0]\n",
    "df2018_c = df2018_c.loc[df2018_c['Geography - code']== 0]\n",
    "df2017_c = df2017_c.loc[df2017_c['Geography - code']== 0]\n"
   ]
  },
  {
   "cell_type": "code",
   "execution_count": 64,
   "id": "a9b2cf6e-8875-43ee-ba68-9f6aee7de801",
   "metadata": {},
   "outputs": [],
   "source": [
    "df2019_c = df2019_c.loc[df2019_c['Location indicator - code']== 1]\n",
    "df2018_c = df2018_c.loc[df2018_c['Location indicator - code']== 1]\n",
    "df2017_c = df2017_c.loc[df2017_c['Location indicator - code']== 1]"
   ]
  },
  {
   "cell_type": "code",
   "execution_count": null,
   "id": "c717c1c0-74f3-4e08-89df-51ee66b7b0b1",
   "metadata": {},
   "outputs": [],
   "source": [
    " "
   ]
  },
  {
   "cell_type": "code",
   "execution_count": 66,
   "id": "e9b9e0e4-71bc-4df6-ad0d-e55d3f0549b9",
   "metadata": {},
   "outputs": [],
   "source": [
    "SB_C = pd.concat([df2019_c,df2018_c,df2017_c])\n",
    "SB_C.to_excel(\"Small Business Comparison.xlsx\")"
   ]
  },
  {
   "cell_type": "markdown",
   "id": "6fdc51c5-0e56-445d-a9d3-79988a5043d1",
   "metadata": {},
   "source": [
    "Small Business-Unincorporated and total business"
   ]
  },
  {
   "cell_type": "code",
   "execution_count": null,
   "id": "e7159749-df6e-4685-89d9-451b34c71579",
   "metadata": {},
   "outputs": [],
   "source": [
    "Tab5_2019=rcbp_2019_sb_revenue_Tabs[5]\n",
    "Tab5_2018=rcbp_2018_sb_revenue_Tabs[5]\n",
    "Tab5_2017=rcbp_2017_sb_revenue_Tabs[5]"
   ]
  },
  {
   "cell_type": "code",
   "execution_count": null,
   "id": "1fc9ecf1-d3e1-4ed6-9281-e3f8b89b970e",
   "metadata": {},
   "outputs": [],
   "source": [
    "columns5=['North American Industry Classification System, NAICS - code','North American Industry Classification System, NAICS',\n",
    "         'Geography - code','Geography','Location indicator - code','Location indicator','Incorporation status - code','Incorporation status',\n",
    "         'Reference year','Gross margin (%)']"
   ]
  },
  {
   "cell_type": "code",
   "execution_count": null,
   "id": "d55dc903-642e-4e05-94a0-0bf5ac6932c0",
   "metadata": {},
   "outputs": [],
   "source": [
    "df2019_1 = pd.DataFrame(Tab5_2019, columns=columns5)\n",
    "df2018_1 = pd.DataFrame(Tab5_2018, columns=columns5)\n",
    "df2017_1 = pd.DataFrame(Tab5_2017, columns=columns5)"
   ]
  },
  {
   "cell_type": "code",
   "execution_count": null,
   "id": "9d743e29-e7ad-499c-ab28-c535453545d7",
   "metadata": {},
   "outputs": [],
   "source": [
    "df2019_1 = df2019_1.iloc[1:,:]\n",
    "df2018_1 = df2018_1.iloc[1:,:]\n",
    "df2018_1 = df2018_1.iloc[1:,:]"
   ]
  },
  {
   "cell_type": "code",
   "execution_count": null,
   "id": "4922fa12-76c6-4c49-8756-3bcfa171736f",
   "metadata": {},
   "outputs": [],
   "source": [
    "df2019_1 = df2019_1.loc[df2019_1['North American Industry Classification System, NAICS - code'].isin(\n",
    "    ['11','21','22','23','31-33','41','44-45','49-49','51','53','54','55','56','61','62','71','72','81'])]\n",
    "df2018_1 = df2018_1.loc[df2018_1['North American Industry Classification System, NAICS - code'].isin(\n",
    "    ['11','21','22','23','31-33','41','44-45','49-49','51','53','54','55','56','61','62','71','72','81'])]\n",
    "df2017_1 = df2017_1.loc[df2017_1['North American Industry Classification System, NAICS - code'].isin(\n",
    "    ['11','21','22','23','31-33','41','44-45','49-49','51','53','54','55','56','61','62','71','72','81'])]"
   ]
  },
  {
   "cell_type": "code",
   "execution_count": null,
   "id": "f9b73889-45b5-4287-98cf-024d75f6985f",
   "metadata": {},
   "outputs": [],
   "source": [
    "SB_UNIN = pd.concat([df2019_1, df2018_1, df2017_1])"
   ]
  },
  {
   "cell_type": "code",
   "execution_count": null,
   "id": "71053aa6-ec3b-4996-8277-b1f2d010b301",
   "metadata": {},
   "outputs": [],
   "source": [
    "SB_UNIN"
   ]
  },
  {
   "cell_type": "code",
   "execution_count": null,
   "id": "b10578f4-4169-4950-ab1d-5cb7c7eb8fe3",
   "metadata": {},
   "outputs": [],
   "source": [
    "SB_UNIN.to_excel(\"small business unincorporated.xlsx\")"
   ]
  },
  {
   "cell_type": "code",
   "execution_count": null,
   "id": "ea1f8353-8ca0-49a3-a8b0-bb53c3784ff9",
   "metadata": {},
   "outputs": [],
   "source": [
    "# Combine Small business gross margin together"
   ]
  },
  {
   "cell_type": "code",
   "execution_count": null,
   "id": "f7e621c3-ee8a-41d4-9151-527b2ed838c0",
   "metadata": {},
   "outputs": [],
   "source": [
    "SB_ALL = pd.concat([SB_UNIN,sb_in_g])"
   ]
  },
  {
   "cell_type": "code",
   "execution_count": null,
   "id": "7a7fbfbf-d369-4427-b6ca-8d3c822cc05e",
   "metadata": {},
   "outputs": [],
   "source": [
    "SB_ALL.to_excel(\"Small Business Gross Margin.xlsx\")"
   ]
  },
  {
   "cell_type": "markdown",
   "id": "23b40ac7-3585-4093-afec-dd8ef4f2fb1d",
   "metadata": {},
   "source": [
    "*Medium Business*"
   ]
  },
  {
   "cell_type": "code",
   "execution_count": null,
   "id": "de1f409a-4f2f-4dec-9e5b-cedf7dc65650",
   "metadata": {},
   "outputs": [],
   "source": [
    "TabM_2019=rcbp_2019_mb_revenue_Tabs[4]\n",
    "TabM_2018=rcbp_2018_mb_revenue_Tabs[4]\n",
    "TabM_2017=rcbp_2017_mb_revenue_Tabs[4]"
   ]
  },
  {
   "cell_type": "code",
   "execution_count": null,
   "id": "245c2b95-1545-44a1-8e97-8d554dd7d37f",
   "metadata": {},
   "outputs": [],
   "source": [
    "columns_m=['North American Industry Classification System, NAICS - code',\n",
    "           'North American Industry Classification System, NAICS',\n",
    "         'Geography - code','Geography','Location indicator - code','Location indicator',\n",
    "         'Reference year','Return on total assets (%)',\n",
    "           'Revenue to equity ratio (times)','Net profit to equity (%)','Gross margin (%)']"
   ]
  },
  {
   "cell_type": "code",
   "execution_count": null,
   "id": "1a88c083-856b-40ef-a8d3-84b801a88d0b",
   "metadata": {},
   "outputs": [],
   "source": [
    "df2019_m = pd.DataFrame(TabM_2019, columns=columns_m)\n",
    "df2018_m = pd.DataFrame(TabM_2018, columns=columns_m)\n",
    "df2017_m = pd.DataFrame(TabM_2017, columns=columns_m)"
   ]
  },
  {
   "cell_type": "code",
   "execution_count": null,
   "id": "25e9329f-1ace-4c1b-875c-501d3f9ae27d",
   "metadata": {},
   "outputs": [],
   "source": [
    "df2019_m = df2019_m.iloc[1:,:]\n",
    "df2018_m = df2018_m.iloc[1:,:]\n",
    "df2018_m = df2018_m.iloc[1:,:]"
   ]
  },
  {
   "cell_type": "code",
   "execution_count": null,
   "id": "f229ee6e-d74a-4fba-9715-167d4d41ccd1",
   "metadata": {},
   "outputs": [],
   "source": [
    "df2019_m = df2019_m.loc[df2019_m['North American Industry Classification System, NAICS - code'].isin(\n",
    "    ['11','21','22','23','31-33','41','44-45','49-49','51','53','54','55','56','61','62','71','72','81'])]\n",
    "df2018_m = df2018_m.loc[df2018_m['North American Industry Classification System, NAICS - code'].isin(\n",
    "    ['11','21','22','23','31-33','41','44-45','49-49','51','53','54','55','56','61','62','71','72','81'])]\n",
    "df2017_m = df2017_m.loc[df2017_m['North American Industry Classification System, NAICS - code'].isin(\n",
    "    ['11','21','22','23','31-33','41','44-45','49-49','51','53','54','55','56','61','62','71','72','81'])]"
   ]
  },
  {
   "cell_type": "code",
   "execution_count": null,
   "id": "4f858caf-45ce-4007-94ec-7aa1b22b3874",
   "metadata": {},
   "outputs": [],
   "source": [
    "MB = pd.concat([df2019_m, df2018_m, df2017_m])"
   ]
  },
  {
   "cell_type": "code",
   "execution_count": null,
   "id": "ad0a4e7d-31fe-40c5-bdae-e757e3773e85",
   "metadata": {},
   "outputs": [],
   "source": [
    "MB.to_excel(\"Medium Business.xlsx\")"
   ]
  },
  {
   "cell_type": "code",
   "execution_count": null,
   "id": "f5101526-8a42-496f-9061-de30da375fca",
   "metadata": {},
   "outputs": [],
   "source": [
    "MB"
   ]
  },
  {
   "cell_type": "code",
   "execution_count": null,
   "id": "9b39ebd8-9f4d-4693-bf18-efab157b51b7",
   "metadata": {},
   "outputs": [],
   "source": []
  }
 ],
 "metadata": {
  "kernelspec": {
   "display_name": "Python 3",
   "language": "python",
   "name": "python3"
  },
  "language_info": {
   "codemirror_mode": {
    "name": "ipython",
    "version": 3
   },
   "file_extension": ".py",
   "mimetype": "text/x-python",
   "name": "python",
   "nbconvert_exporter": "python",
   "pygments_lexer": "ipython3",
   "version": "3.9.5"
  }
 },
 "nbformat": 4,
 "nbformat_minor": 5
}
