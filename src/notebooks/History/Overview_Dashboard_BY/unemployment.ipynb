{
 "cells": [
  {
   "cell_type": "code",
   "execution_count": 1,
   "id": "0490d1c7-821d-4414-aa2e-c90faa62d8ae",
   "metadata": {},
   "outputs": [],
   "source": [
    "import pandas as pd\n",
    "import numpy as np\n",
    "import altair as alt"
   ]
  },
  {
   "cell_type": "code",
   "execution_count": 2,
   "id": "355a927c-b4da-48e9-9f93-1fed2ed982f9",
   "metadata": {},
   "outputs": [],
   "source": [
    "cur_filepath = \"unemployment.csv\"\n",
    "unemploy_data = pd.read_csv(cur_filepath)"
   ]
  },
  {
   "cell_type": "code",
   "execution_count": 15,
   "id": "9c19f47d-8bd2-4f6d-bbc8-85937b1c59a3",
   "metadata": {},
   "outputs": [],
   "source": [
    "unemploy_df = unemploy_data.melt(var_name='Year',value_name='Unemployment rate')"
   ]
  },
  {
   "cell_type": "code",
   "execution_count": 16,
   "id": "7688c294-4ed7-4cdb-9571-f326ac3804dc",
   "metadata": {},
   "outputs": [
    {
     "data": {
      "text/html": [
       "\n",
       "<div id=\"altair-viz-0dd1e59542b14ed68ba8ae3b192d29dc\"></div>\n",
       "<script type=\"text/javascript\">\n",
       "  var VEGA_DEBUG = (typeof VEGA_DEBUG == \"undefined\") ? {} : VEGA_DEBUG;\n",
       "  (function(spec, embedOpt){\n",
       "    let outputDiv = document.currentScript.previousElementSibling;\n",
       "    if (outputDiv.id !== \"altair-viz-0dd1e59542b14ed68ba8ae3b192d29dc\") {\n",
       "      outputDiv = document.getElementById(\"altair-viz-0dd1e59542b14ed68ba8ae3b192d29dc\");\n",
       "    }\n",
       "    const paths = {\n",
       "      \"vega\": \"https://cdn.jsdelivr.net/npm//vega@5?noext\",\n",
       "      \"vega-lib\": \"https://cdn.jsdelivr.net/npm//vega-lib?noext\",\n",
       "      \"vega-lite\": \"https://cdn.jsdelivr.net/npm//vega-lite@4.17.0?noext\",\n",
       "      \"vega-embed\": \"https://cdn.jsdelivr.net/npm//vega-embed@6?noext\",\n",
       "    };\n",
       "\n",
       "    function maybeLoadScript(lib, version) {\n",
       "      var key = `${lib.replace(\"-\", \"\")}_version`;\n",
       "      return (VEGA_DEBUG[key] == version) ?\n",
       "        Promise.resolve(paths[lib]) :\n",
       "        new Promise(function(resolve, reject) {\n",
       "          var s = document.createElement('script');\n",
       "          document.getElementsByTagName(\"head\")[0].appendChild(s);\n",
       "          s.async = true;\n",
       "          s.onload = () => {\n",
       "            VEGA_DEBUG[key] = version;\n",
       "            return resolve(paths[lib]);\n",
       "          };\n",
       "          s.onerror = () => reject(`Error loading script: ${paths[lib]}`);\n",
       "          s.src = paths[lib];\n",
       "        });\n",
       "    }\n",
       "\n",
       "    function showError(err) {\n",
       "      outputDiv.innerHTML = `<div class=\"error\" style=\"color:red;\">${err}</div>`;\n",
       "      throw err;\n",
       "    }\n",
       "\n",
       "    function displayChart(vegaEmbed) {\n",
       "      vegaEmbed(outputDiv, spec, embedOpt)\n",
       "        .catch(err => showError(`Javascript Error: ${err.message}<br>This usually means there's a typo in your chart specification. See the javascript console for the full traceback.`));\n",
       "    }\n",
       "\n",
       "    if(typeof define === \"function\" && define.amd) {\n",
       "      requirejs.config({paths});\n",
       "      require([\"vega-embed\"], displayChart, err => showError(`Error loading script: ${err.message}`));\n",
       "    } else {\n",
       "      maybeLoadScript(\"vega\", \"5\")\n",
       "        .then(() => maybeLoadScript(\"vega-lite\", \"4.17.0\"))\n",
       "        .then(() => maybeLoadScript(\"vega-embed\", \"6\"))\n",
       "        .catch(showError)\n",
       "        .then(() => displayChart(vegaEmbed));\n",
       "    }\n",
       "  })({\"config\": {\"view\": {\"continuousWidth\": 400, \"continuousHeight\": 300}}, \"data\": {\"name\": \"data-e3ce22a694a4a81f611258d4286df4d9\"}, \"mark\": {\"type\": \"line\", \"point\": {\"color\": \"blue\"}}, \"encoding\": {\"tooltip\": [{\"field\": \"Unemployment rate\", \"type\": \"quantitative\"}], \"x\": {\"field\": \"Year\", \"type\": \"nominal\"}, \"y\": {\"field\": \"Unemployment rate\", \"type\": \"quantitative\"}}, \"height\": 300, \"width\": 400, \"$schema\": \"https://vega.github.io/schema/vega-lite/v4.17.0.json\", \"datasets\": {\"data-e3ce22a694a4a81f611258d4286df4d9\": [{\"Year\": \"2011\", \"Unemployment rate\": 7.6}, {\"Year\": \"2012\", \"Unemployment rate\": 7.3}, {\"Year\": \"2013\", \"Unemployment rate\": 7.1}, {\"Year\": \"2014\", \"Unemployment rate\": 6.9}, {\"Year\": \"2015\", \"Unemployment rate\": 6.9}, {\"Year\": \"2016\", \"Unemployment rate\": 7.1}, {\"Year\": \"2017\", \"Unemployment rate\": 6.4}, {\"Year\": \"2018\", \"Unemployment rate\": 5.9}, {\"Year\": \"2019\", \"Unemployment rate\": 5.7}, {\"Year\": \"2020\", \"Unemployment rate\": 9.5}, {\"Year\": \"2021\", \"Unemployment rate\": 7.5}]}}, {\"mode\": \"vega-lite\"});\n",
       "</script>"
      ],
      "text/plain": [
       "alt.Chart(...)"
      ]
     },
     "execution_count": 16,
     "metadata": {},
     "output_type": "execute_result"
    }
   ],
   "source": [
    "alt.Chart(unemploy_df).mark_line(\n",
    "    point=alt.OverlayMarkDef(color=\"blue\")\n",
    ").encode(\n",
    "    x='Year',\n",
    "    y='Unemployment rate',\n",
    "    tooltip=['Unemployment rate']\n",
    ").properties(width=400, height=300)"
   ]
  },
  {
   "cell_type": "code",
   "execution_count": null,
   "id": "d14fd3f8-fa98-488e-b5cb-4a84ecd2f0e6",
   "metadata": {},
   "outputs": [],
   "source": []
  }
 ],
 "metadata": {
  "kernelspec": {
   "display_name": "Python 3 (ipykernel)",
   "language": "python",
   "name": "python3"
  },
  "language_info": {
   "codemirror_mode": {
    "name": "ipython",
    "version": 3
   },
   "file_extension": ".py",
   "mimetype": "text/x-python",
   "name": "python",
   "nbconvert_exporter": "python",
   "pygments_lexer": "ipython3",
   "version": "3.9.5"
  }
 },
 "nbformat": 4,
 "nbformat_minor": 5
}
