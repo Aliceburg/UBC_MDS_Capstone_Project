{
 "cells": [
  {
   "cell_type": "code",
   "execution_count": 37,
   "id": "37cf2180-356a-4ae6-ae6c-8c06036be510",
   "metadata": {},
   "outputs": [],
   "source": [
    "import pandas as pd\n",
    "import numpy as np\n",
    "import altair as alt"
   ]
  },
  {
   "cell_type": "code",
   "execution_count": 38,
   "id": "3d3e384a-dbbc-49f0-9ecb-fdc326bf8bc1",
   "metadata": {},
   "outputs": [],
   "source": [
    "def tab_reader(filepathpattern,tabnum,skiprow,low_memory=False):\n",
    "    tabs = []\n",
    "    for i in range (tabnum):\n",
    "        cur_index = i+1\n",
    "        cur_filepath = filepathpattern.format(cur_index)\n",
    "        try:\n",
    "            tab = pd.read_csv(cur_filepath, skiprows=skiprow, low_memory=False)\n",
    "        except:\n",
    "            tab = pd.read_csv(cur_filepath, skiprows=skiprow, encoding='latin-1', low_memory=low_memory)\n",
    "        tabs.append(tab)\n",
    "    return tabs\n"
   ]
  },
  {
   "cell_type": "code",
   "execution_count": 39,
   "id": "e4cb8ee1-e5cc-4101-b905-7887e1d7098c",
   "metadata": {},
   "outputs": [],
   "source": [
    "# 2017 data\n",
    "rcbp_2017_mb_revenue_Tabs = tab_reader(\"../../../data/2017_csv_eng/2017_Medium businesses_Total revenue based_csv/_2017_Eng_Medium_Revenue_Tab{}.csv\",5,5)\n",
    "rcbp_2017_sb_revenue_Tabs = tab_reader(\"../../../data/2017_csv_eng/2017_Small businesses_Total revenue based_csv/_2017_Small businesses_Total revenue based_Tab{}.csv\",7,5)\n",
    "rcbp_2017_sb_revenue_Tabs[0] = tab_reader(\"../../../data/2017_csv_eng/2017_Small businesses_Total revenue based_csv/_2017_Small businesses_Total revenue based_Tab{}.csv\",1,6)[0]"
   ]
  },
  {
   "cell_type": "code",
   "execution_count": 40,
   "id": "dccae8e6-1191-4e0b-ac2f-63c0cef6a3d1",
   "metadata": {},
   "outputs": [],
   "source": [
    "# 2018 data\n",
    "rcbp_2018_mb_revenue_Tabs = tab_reader(\"../../../data/2018_csv_eng/2018_Medium businesses_Total revenue based_csv/_2018_Medium businesses_Total revenue_Tab{}.csv\",5,5)\n",
    "rcbp_2018_sb_revenue_Tabs = tab_reader(\"../../../data/2018_csv_eng/2018_Small businesses_Total revenue based_csv/_2018_Small businesses_Total revenue_Tab{}.csv\",7,5)\n",
    "rcbp_2018_sb_revenue_Tabs[0] = tab_reader(\"../../../data/2018_csv_eng/2018_Small businesses_Total revenue based_csv/_2018_Small businesses_Total revenue_Tab{}.csv\",1,6)[0]"
   ]
  },
  {
   "cell_type": "code",
   "execution_count": 41,
   "id": "9aa32747-a3b7-47c0-ab4f-b9154d2c3986",
   "metadata": {},
   "outputs": [],
   "source": [
    "# 2019 data\n",
    "rcbp_2019_mb_revenue_Tabs = tab_reader(\"../../../data/2019_csv_eng/2019_Medium businesses_Total revenue_csv/_2019_Medium businesses_Total revenue_Tab{}.csv\",5,5)\n",
    "rcbp_2019_sb_revenue_Tabs = tab_reader(\"../../../data/2019_csv_eng/2019_Small businesses_Total revenue_csv/_2019_Small businesses_Total revenue_Tab{}.csv\",7,5)\n",
    "rcbp_2019_sb_revenue_Tabs[0] = tab_reader(\"../../../data/2019_csv_eng/2019_Small businesses_Total revenue_csv/_2019_Small businesses_Total revenue_Tab{}.csv\",1,6)[0]"
   ]
  },
  {
   "cell_type": "markdown",
   "id": "665e56cc-94d7-4020-bc2d-8b2f061b7b4d",
   "metadata": {
    "tags": []
   },
   "source": [
    "## Data Wrangling"
   ]
  },
  {
   "cell_type": "markdown",
   "id": "b63b40d2-5af7-4181-aaf5-c5f29bc27c6a",
   "metadata": {
    "tags": []
   },
   "source": [
    "### 1. Drop the first NAN row, drop quartile columns, select all industry code level and concat different years"
   ]
  },
  {
   "cell_type": "code",
   "execution_count": 42,
   "id": "fe4c9180-1218-4aa9-9cdb-f65df744faa0",
   "metadata": {},
   "outputs": [],
   "source": [
    "# Drop the first NaN row, select all industry code level, drop quartile columns and concat different years\n",
    "def selectData(tabs):\n",
    "    concatTabs = []\n",
    "    for tab in tabs:\n",
    "        tab = tab.drop(0)\n",
    "        cols_without_quartile = [x for x in tab.columns if 'quartile' not in x.lower() and 'reporting' not in x.lower()]\n",
    "        tab = tab[cols_without_quartile]\n",
    "        concatTabs.append(tab)\n",
    "    return pd.concat(concatTabs)"
   ]
  },
  {
   "cell_type": "code",
   "execution_count": 43,
   "id": "9ba30b21-6f0e-4032-a67f-e297b7701582",
   "metadata": {
    "tags": []
   },
   "outputs": [],
   "source": [
    "## medium tab1-tab5 3year contain All industry(code=0)\n",
    "mb_revenue_tab1_3y = selectData([rcbp_2017_mb_revenue_Tabs[0], rcbp_2018_mb_revenue_Tabs[0], rcbp_2019_mb_revenue_Tabs[0]]).reset_index(drop=True)\n",
    "mb_revenue_tab2_3y = selectData([rcbp_2017_mb_revenue_Tabs[1], rcbp_2018_mb_revenue_Tabs[1], rcbp_2019_mb_revenue_Tabs[1]]).reset_index(drop=True)\n",
    "mb_revenue_tab3_3y = selectData([rcbp_2017_mb_revenue_Tabs[2], rcbp_2018_mb_revenue_Tabs[2], rcbp_2019_mb_revenue_Tabs[2]]).reset_index(drop=True)\n",
    "mb_revenue_tab4_3y = selectData([rcbp_2017_mb_revenue_Tabs[3], rcbp_2018_mb_revenue_Tabs[3], rcbp_2019_mb_revenue_Tabs[3]]).reset_index(drop=True)\n",
    "mb_revenue_tab5_3y = selectData([rcbp_2017_mb_revenue_Tabs[4], rcbp_2018_mb_revenue_Tabs[4], rcbp_2019_mb_revenue_Tabs[4]]).reset_index(drop=True)\n",
    "\n",
    "## small tab1-tab7 3year contain All industry\n",
    "sb_revenue_tab1_3y = selectData([rcbp_2017_sb_revenue_Tabs[0], rcbp_2018_sb_revenue_Tabs[0], rcbp_2019_sb_revenue_Tabs[0]]).reset_index(drop=True)\n",
    "sb_revenue_tab2_3y = selectData([rcbp_2017_sb_revenue_Tabs[1], rcbp_2018_sb_revenue_Tabs[1], rcbp_2019_sb_revenue_Tabs[1]]).reset_index(drop=True)\n",
    "sb_revenue_tab3_3y = selectData([rcbp_2017_sb_revenue_Tabs[2], rcbp_2018_sb_revenue_Tabs[2], rcbp_2019_sb_revenue_Tabs[2]]).reset_index(drop=True)\n",
    "sb_revenue_tab4_3y = selectData([rcbp_2017_sb_revenue_Tabs[3], rcbp_2018_sb_revenue_Tabs[3], rcbp_2019_sb_revenue_Tabs[3]]).reset_index(drop=True)\n",
    "sb_revenue_tab5_3y = selectData([rcbp_2017_sb_revenue_Tabs[4], rcbp_2018_sb_revenue_Tabs[4], rcbp_2019_sb_revenue_Tabs[4]]).reset_index(drop=True)\n",
    "sb_revenue_tab6_3y = selectData([rcbp_2017_sb_revenue_Tabs[5], rcbp_2018_sb_revenue_Tabs[5], rcbp_2019_sb_revenue_Tabs[5]]).reset_index(drop=True)\n",
    "sb_revenue_tab7_3y = selectData([rcbp_2017_sb_revenue_Tabs[6], rcbp_2018_sb_revenue_Tabs[6], rcbp_2019_sb_revenue_Tabs[6]]).reset_index(drop=True)"
   ]
  },
  {
   "cell_type": "markdown",
   "id": "32439526-8a56-402f-8bba-8f3f09f43d1d",
   "metadata": {},
   "source": [
    "### 2. Select Columns, Drop irrelevant columns"
   ]
  },
  {
   "cell_type": "markdown",
   "id": "143b0980-be3a-4832-8297-7660ab496422",
   "metadata": {},
   "source": [
    "#### 2.1 Medium Businesses"
   ]
  },
  {
   "cell_type": "code",
   "execution_count": 44,
   "id": "4b0a4d57-9a12-4798-bb12-e9293738a711",
   "metadata": {},
   "outputs": [],
   "source": [
    "mb_tab1_left_col = ['North American Industry Classification System, NAICS - code', 'North American Industry Classification System, NAICS',\n",
    "                        'Location indicator - code', 'Location indicator', 'Reference year', \n",
    "                        'Total number of businesses', \n",
    "                        'Total revenue',\n",
    "                        'Sales of goods and services ( percent of total revenue)']\n",
    "mb_revenue_tab1_3y = mb_revenue_tab1_3y[mb_tab1_left_col]"
   ]
  },
  {
   "cell_type": "code",
   "execution_count": 45,
   "id": "2f22fb4d-d898-419d-a947-880685610070",
   "metadata": {},
   "outputs": [],
   "source": [
    "mb_tab2_left_col = ['North American Industry Classification System, NAICS - code', 'North American Industry Classification System, NAICS',\n",
    "                        'Location indicator - code', 'Location indicator', 'Reference year', \n",
    "                        'Cost of sales (direct expenses) (%)', \n",
    "                        'Operating expenses (indirect expenses) (%)']\n",
    "mb_revenue_tab2_3y = mb_revenue_tab2_3y[mb_tab2_left_col]"
   ]
  },
  {
   "cell_type": "code",
   "execution_count": 46,
   "id": "e180ecf6-bef6-4de0-9c08-2ca9ba674f99",
   "metadata": {},
   "outputs": [],
   "source": [
    "mb_tab3_left_col = ['North American Industry Classification System, NAICS - code', 'North American Industry Classification System, NAICS',\n",
    "                        'Location indicator - code', 'Location indicator', 'Reference year', \n",
    "                        'Total expenses',\n",
    "                        'Cost of sales (direct expenses)',\n",
    "                        'Operating expenses (indirect expenses)',\n",
    "                        'Net Profit/Loss']\n",
    "mb_revenue_tab3_3y = mb_revenue_tab3_3y[mb_tab3_left_col]"
   ]
  },
  {
   "cell_type": "code",
   "execution_count": 47,
   "id": "4b065229-b020-4710-8773-12c7c6c7777c",
   "metadata": {},
   "outputs": [],
   "source": [
    "mb_tab4_left_col = ['North American Industry Classification System, NAICS - code', 'North American Industry Classification System, NAICS',\n",
    "                        'Location indicator - code', 'Location indicator', 'Reference year', \n",
    "                        'Total assets', \n",
    "                        'Total current assets', \n",
    "                        'Total liabilities', \n",
    "                        'Total current liabilities', \n",
    "                        'Total equity']\n",
    "mb_revenue_tab4_3y = mb_revenue_tab4_3y[mb_tab4_left_col]"
   ]
  },
  {
   "cell_type": "code",
   "execution_count": 48,
   "id": "1b0446d9-6823-42f9-ae5e-dde790d1e063",
   "metadata": {},
   "outputs": [],
   "source": [
    "mb_tab5_left_col = ['North American Industry Classification System, NAICS - code', 'North American Industry Classification System, NAICS',\n",
    "                        'Location indicator - code', 'Location indicator', 'Reference year', \n",
    "                        'Debt to equity ratio (times)', \n",
    "                        'Current debt to equity (%)', \n",
    "                        'Revenue to equity ratio (times)', \n",
    "                        'Net profit to equity (%)', \n",
    "                        'Gross margin (%)']\n",
    "mb_revenue_tab5_3y = mb_revenue_tab5_3y[mb_tab5_left_col]"
   ]
  },
  {
   "cell_type": "markdown",
   "id": "fe9d3da5-20a7-4160-b020-fe694fa9b519",
   "metadata": {},
   "source": [
    "**Join the medium business tab1-tab5.**"
   ]
  },
  {
   "cell_type": "code",
   "execution_count": 49,
   "id": "fea589ed-0186-49a2-8475-fd00d9a16866",
   "metadata": {},
   "outputs": [],
   "source": [
    "a = pd.merge(mb_revenue_tab1_3y,mb_revenue_tab2_3y,how='inner',left_on=['North American Industry Classification System, NAICS - code', 'North American Industry Classification System, NAICS',\n",
    "                        'Location indicator - code', 'Location indicator', 'Reference year'],right_on=['North American Industry Classification System, NAICS - code', 'North American Industry Classification System, NAICS',\n",
    "                        'Location indicator - code', 'Location indicator', 'Reference year'])"
   ]
  },
  {
   "cell_type": "code",
   "execution_count": 50,
   "id": "f9d82f9a-226c-42aa-ad0f-7a51631455f0",
   "metadata": {},
   "outputs": [],
   "source": [
    "b = pd.merge(a,mb_revenue_tab3_3y,how='inner',left_on=['North American Industry Classification System, NAICS - code', 'North American Industry Classification System, NAICS',\n",
    "                        'Location indicator - code', 'Location indicator', 'Reference year'],right_on=['North American Industry Classification System, NAICS - code', 'North American Industry Classification System, NAICS',\n",
    "                        'Location indicator - code', 'Location indicator', 'Reference year'])"
   ]
  },
  {
   "cell_type": "code",
   "execution_count": 51,
   "id": "d5716d18-4779-4ebe-8911-0f958bb4515d",
   "metadata": {},
   "outputs": [],
   "source": [
    "c = pd.merge(b,mb_revenue_tab4_3y,how='inner',left_on=['North American Industry Classification System, NAICS - code', 'North American Industry Classification System, NAICS',\n",
    "                        'Location indicator - code', 'Location indicator', 'Reference year'],right_on=['North American Industry Classification System, NAICS - code', 'North American Industry Classification System, NAICS',\n",
    "                        'Location indicator - code', 'Location indicator', 'Reference year'])"
   ]
  },
  {
   "cell_type": "code",
   "execution_count": 52,
   "id": "7f30e0ac-0f13-457c-b939-dc456e81ce90",
   "metadata": {},
   "outputs": [],
   "source": [
    "final_table_mb = pd.merge(c,mb_revenue_tab5_3y,how='inner',left_on=['North American Industry Classification System, NAICS - code', 'North American Industry Classification System, NAICS',\n",
    "                        'Location indicator - code', 'Location indicator', 'Reference year'],right_on=['North American Industry Classification System, NAICS - code', 'North American Industry Classification System, NAICS',\n",
    "                        'Location indicator - code', 'Location indicator', 'Reference year'])"
   ]
  },
  {
   "cell_type": "code",
   "execution_count": 53,
   "id": "1b13f543-378f-4007-b0f9-6cdca18f2e6d",
   "metadata": {},
   "outputs": [
    {
     "data": {
      "text/html": [
       "<div>\n",
       "<style scoped>\n",
       "    .dataframe tbody tr th:only-of-type {\n",
       "        vertical-align: middle;\n",
       "    }\n",
       "\n",
       "    .dataframe tbody tr th {\n",
       "        vertical-align: top;\n",
       "    }\n",
       "\n",
       "    .dataframe thead th {\n",
       "        text-align: right;\n",
       "    }\n",
       "</style>\n",
       "<table border=\"1\" class=\"dataframe\">\n",
       "  <thead>\n",
       "    <tr style=\"text-align: right;\">\n",
       "      <th></th>\n",
       "      <th>North American Industry Classification System, NAICS - code</th>\n",
       "      <th>North American Industry Classification System, NAICS</th>\n",
       "      <th>Location indicator - code</th>\n",
       "      <th>Location indicator</th>\n",
       "      <th>Reference year</th>\n",
       "      <th>Total number of businesses</th>\n",
       "      <th>Total revenue</th>\n",
       "      <th>Sales of goods and services ( percent of total revenue)</th>\n",
       "      <th>Cost of sales (direct expenses) (%)</th>\n",
       "      <th>Operating expenses (indirect expenses) (%)</th>\n",
       "      <th>...</th>\n",
       "      <th>Total assets</th>\n",
       "      <th>Total current assets</th>\n",
       "      <th>Total liabilities</th>\n",
       "      <th>Total current liabilities</th>\n",
       "      <th>Total equity</th>\n",
       "      <th>Debt to equity ratio (times)</th>\n",
       "      <th>Current debt to equity (%)</th>\n",
       "      <th>Revenue to equity ratio (times)</th>\n",
       "      <th>Net profit to equity (%)</th>\n",
       "      <th>Gross margin (%)</th>\n",
       "    </tr>\n",
       "  </thead>\n",
       "  <tbody>\n",
       "    <tr>\n",
       "      <th>0</th>\n",
       "      <td>0</td>\n",
       "      <td>All industries</td>\n",
       "      <td>1.0</td>\n",
       "      <td>Rural</td>\n",
       "      <td>2017.0</td>\n",
       "      <td>6901</td>\n",
       "      <td>9259.4</td>\n",
       "      <td>95.5</td>\n",
       "      <td>58.5</td>\n",
       "      <td>37.6</td>\n",
       "      <td>...</td>\n",
       "      <td>7255.4</td>\n",
       "      <td>3181.8</td>\n",
       "      <td>4064.8</td>\n",
       "      <td>2293.4</td>\n",
       "      <td>3190.6</td>\n",
       "      <td>1.3</td>\n",
       "      <td>71.9</td>\n",
       "      <td>2.9</td>\n",
       "      <td>11.4</td>\n",
       "      <td>38.7</td>\n",
       "    </tr>\n",
       "    <tr>\n",
       "      <th>1</th>\n",
       "      <td>0</td>\n",
       "      <td>All industries</td>\n",
       "      <td>2.0</td>\n",
       "      <td>Urban</td>\n",
       "      <td>2017.0</td>\n",
       "      <td>40390</td>\n",
       "      <td>9499.6</td>\n",
       "      <td>92.1</td>\n",
       "      <td>59.3</td>\n",
       "      <td>34.3</td>\n",
       "      <td>...</td>\n",
       "      <td>11645.7</td>\n",
       "      <td>4610.8</td>\n",
       "      <td>6135.9</td>\n",
       "      <td>3111</td>\n",
       "      <td>5509.8</td>\n",
       "      <td>1.1</td>\n",
       "      <td>56.5</td>\n",
       "      <td>1.7</td>\n",
       "      <td>11</td>\n",
       "      <td>35.6</td>\n",
       "    </tr>\n",
       "    <tr>\n",
       "      <th>2</th>\n",
       "      <td>11</td>\n",
       "      <td>Agriculture, forestry, fishing and hunting</td>\n",
       "      <td>1.0</td>\n",
       "      <td>Rural</td>\n",
       "      <td>2017.0</td>\n",
       "      <td>1108</td>\n",
       "      <td>8615.9</td>\n",
       "      <td>93</td>\n",
       "      <td>18.2</td>\n",
       "      <td>92.6</td>\n",
       "      <td>...</td>\n",
       "      <td>10822.2</td>\n",
       "      <td>3764.2</td>\n",
       "      <td>6337.5</td>\n",
       "      <td>3141.1</td>\n",
       "      <td>4484.7</td>\n",
       "      <td>1.4</td>\n",
       "      <td>70</td>\n",
       "      <td>1.9</td>\n",
       "      <td>-20.7</td>\n",
       "      <td>80.5</td>\n",
       "    </tr>\n",
       "    <tr>\n",
       "      <th>3</th>\n",
       "      <td>11</td>\n",
       "      <td>Agriculture, forestry, fishing and hunting</td>\n",
       "      <td>2.0</td>\n",
       "      <td>Urban</td>\n",
       "      <td>2017.0</td>\n",
       "      <td>835</td>\n",
       "      <td>8840.2</td>\n",
       "      <td>94.2</td>\n",
       "      <td>21.5</td>\n",
       "      <td>89.7</td>\n",
       "      <td>...</td>\n",
       "      <td>11223.4</td>\n",
       "      <td>3685.3</td>\n",
       "      <td>7437.1</td>\n",
       "      <td>3570.2</td>\n",
       "      <td>3786.3</td>\n",
       "      <td>2</td>\n",
       "      <td>94.3</td>\n",
       "      <td>2.3</td>\n",
       "      <td>-26.3</td>\n",
       "      <td>77.1</td>\n",
       "    </tr>\n",
       "    <tr>\n",
       "      <th>4</th>\n",
       "      <td>111</td>\n",
       "      <td>Crop production</td>\n",
       "      <td>1.0</td>\n",
       "      <td>Rural</td>\n",
       "      <td>2017.0</td>\n",
       "      <td>428</td>\n",
       "      <td>8132.5</td>\n",
       "      <td>89.9</td>\n",
       "      <td>8.7</td>\n",
       "      <td>100.5</td>\n",
       "      <td>...</td>\n",
       "      <td>12045.7</td>\n",
       "      <td>4228.1</td>\n",
       "      <td>6595.3</td>\n",
       "      <td>3110.9</td>\n",
       "      <td>5450.4</td>\n",
       "      <td>1.2</td>\n",
       "      <td>57.1</td>\n",
       "      <td>1.5</td>\n",
       "      <td>-13.7</td>\n",
       "      <td>90.3</td>\n",
       "    </tr>\n",
       "  </tbody>\n",
       "</table>\n",
       "<p>5 rows × 24 columns</p>\n",
       "</div>"
      ],
      "text/plain": [
       "  North American Industry Classification System, NAICS - code  \\\n",
       "0                                                  0            \n",
       "1                                                  0            \n",
       "2                                                 11            \n",
       "3                                                 11            \n",
       "4                                                111            \n",
       "\n",
       "  North American Industry Classification System, NAICS  \\\n",
       "0                                     All industries     \n",
       "1                                     All industries     \n",
       "2         Agriculture, forestry, fishing and hunting     \n",
       "3         Agriculture, forestry, fishing and hunting     \n",
       "4                                    Crop production     \n",
       "\n",
       "   Location indicator - code Location indicator  Reference year  \\\n",
       "0                        1.0              Rural          2017.0   \n",
       "1                        2.0              Urban          2017.0   \n",
       "2                        1.0              Rural          2017.0   \n",
       "3                        2.0              Urban          2017.0   \n",
       "4                        1.0              Rural          2017.0   \n",
       "\n",
       "  Total number of businesses Total revenue  \\\n",
       "0                       6901        9259.4   \n",
       "1                      40390        9499.6   \n",
       "2                       1108        8615.9   \n",
       "3                        835        8840.2   \n",
       "4                        428        8132.5   \n",
       "\n",
       "  Sales of goods and services ( percent of total revenue)  \\\n",
       "0                                               95.5        \n",
       "1                                               92.1        \n",
       "2                                                 93        \n",
       "3                                               94.2        \n",
       "4                                               89.9        \n",
       "\n",
       "  Cost of sales (direct expenses) (%)  \\\n",
       "0                                58.5   \n",
       "1                                59.3   \n",
       "2                                18.2   \n",
       "3                                21.5   \n",
       "4                                 8.7   \n",
       "\n",
       "  Operating expenses (indirect expenses) (%)  ... Total assets  \\\n",
       "0                                       37.6  ...       7255.4   \n",
       "1                                       34.3  ...      11645.7   \n",
       "2                                       92.6  ...      10822.2   \n",
       "3                                       89.7  ...      11223.4   \n",
       "4                                      100.5  ...      12045.7   \n",
       "\n",
       "  Total current assets Total liabilities Total current liabilities  \\\n",
       "0               3181.8            4064.8                    2293.4   \n",
       "1               4610.8            6135.9                      3111   \n",
       "2               3764.2            6337.5                    3141.1   \n",
       "3               3685.3            7437.1                    3570.2   \n",
       "4               4228.1            6595.3                    3110.9   \n",
       "\n",
       "  Total equity Debt to equity ratio (times) Current debt to equity (%)  \\\n",
       "0       3190.6                          1.3                       71.9   \n",
       "1       5509.8                          1.1                       56.5   \n",
       "2       4484.7                          1.4                         70   \n",
       "3       3786.3                            2                       94.3   \n",
       "4       5450.4                          1.2                       57.1   \n",
       "\n",
       "  Revenue to equity ratio (times) Net profit to equity (%) Gross margin (%)  \n",
       "0                             2.9                     11.4             38.7  \n",
       "1                             1.7                       11             35.6  \n",
       "2                             1.9                    -20.7             80.5  \n",
       "3                             2.3                    -26.3             77.1  \n",
       "4                             1.5                    -13.7             90.3  \n",
       "\n",
       "[5 rows x 24 columns]"
      ]
     },
     "execution_count": 53,
     "metadata": {},
     "output_type": "execute_result"
    }
   ],
   "source": [
    "final_table_mb.head(5)"
   ]
  },
  {
   "cell_type": "markdown",
   "id": "fde128a2-4325-46d7-b355-48e2944d16c9",
   "metadata": {},
   "source": [
    "#### 2.2 Small Businesses"
   ]
  },
  {
   "cell_type": "code",
   "execution_count": 54,
   "id": "0fb9364f-39f3-4e8c-82de-6e0c40202ff0",
   "metadata": {},
   "outputs": [],
   "source": [
    "sb_tab1_left_col = ['North American Industry Classification System, NAICS - code', 'North American Industry Classification System, NAICS',\n",
    "                        'Geography - code', 'Geography','Location indicator - code', 'Location indicator', 'Incorporation status - code',\n",
    "       'Incorporation status','Reference year', \n",
    "                        'Total number of businesses', \n",
    "                        'Total revenue',\n",
    "                        'Sales of goods and services* ( percent of total revenue)']\n",
    "sb_revenue_tab1_3y = sb_revenue_tab1_3y[sb_tab1_left_col]"
   ]
  },
  {
   "cell_type": "code",
   "execution_count": 55,
   "id": "c2f01b32-cc36-4c59-b49c-b94d7d5444cd",
   "metadata": {},
   "outputs": [],
   "source": [
    "sb_tab2_left_col = ['North American Industry Classification System, NAICS - code', 'North American Industry Classification System, NAICS',\n",
    "                        'Geography - code', 'Geography','Location indicator - code', 'Location indicator', 'Incorporation status - code',\n",
    "       'Incorporation status','Reference year', \n",
    "                        'Cost of sales (direct expenses) (%)', \n",
    "                        'Operating expenses (indirect expenses) (%)']\n",
    "sb_revenue_tab2_3y = sb_revenue_tab2_3y[sb_tab2_left_col]"
   ]
  },
  {
   "cell_type": "code",
   "execution_count": 56,
   "id": "92f134f2-475c-409e-8d2a-c2f4bb9c7871",
   "metadata": {},
   "outputs": [],
   "source": [
    "sb_tab3_left_col = ['North American Industry Classification System, NAICS - code', 'North American Industry Classification System, NAICS',\n",
    "                        'Geography - code', 'Geography','Location indicator - code', 'Location indicator', 'Incorporation status - code',\n",
    "       'Incorporation status','Reference year', \n",
    "                        'Total expenses',\n",
    "                        'Cost of sales (direct expenses)', \n",
    "                        'Operating expenses (indirect expenses)',\n",
    "                        'Net Profit/Loss']\n",
    "sb_revenue_tab3_3y = sb_revenue_tab3_3y[sb_tab3_left_col]"
   ]
  },
  {
   "cell_type": "code",
   "execution_count": 57,
   "id": "737b3ef6-8488-46b6-bba9-011e35dac7d9",
   "metadata": {},
   "outputs": [],
   "source": [
    "sb_tab4_left_col = ['North American Industry Classification System, NAICS - code', 'North American Industry Classification System, NAICS',\n",
    "                        'Geography - code', 'Geography','Location indicator - code', 'Location indicator', 'Incorporation status - code',\n",
    "       'Incorporation status','Reference year', \n",
    "                        'Total assets', \n",
    "                        'Total current assets', \n",
    "                        'Total liabilities', \n",
    "                        'Total current liabilities', \n",
    "                        'Total equity']\n",
    "sb_revenue_tab4_3y = sb_revenue_tab4_3y[sb_tab4_left_col]"
   ]
  },
  {
   "cell_type": "code",
   "execution_count": 58,
   "id": "c467411e-d7d1-4beb-977d-5fee001dfe2e",
   "metadata": {},
   "outputs": [],
   "source": [
    "sb_tab5a_left_col = ['North American Industry Classification System, NAICS - code', 'North American Industry Classification System, NAICS',\n",
    "                        'Geography - code', 'Geography','Location indicator - code', 'Location indicator','Incorporation status - code',\n",
    "       'Incorporation status', 'Reference year', \n",
    "                        'Debt to equity ratio (times)', \n",
    "                        'Current debt to equity (%)', \n",
    "                        'Revenue to equity ratio (times)', \n",
    "                        'Net profit to equity (%)']\n",
    "sb_revenue_tab5a_3y = sb_revenue_tab5_3y[sb_tab5a_left_col]"
   ]
  },
  {
   "cell_type": "code",
   "execution_count": 59,
   "id": "97130c47-9f18-4558-96da-f149ef66a78d",
   "metadata": {},
   "outputs": [],
   "source": [
    "sb_tab5b_left_col = ['North American Industry Classification System, NAICS - code', 'North American Industry Classification System, NAICS',\n",
    "                        'Geography - code', 'Geography','Location indicator - code', 'Location indicator','Incorporation status - code',\n",
    "       'Incorporation status', 'Reference year', \n",
    "                        'Gross margin (%)']\n",
    "sb_revenue_tab5b_3y = sb_revenue_tab5_3y[sb_tab5b_left_col]"
   ]
  },
  {
   "cell_type": "code",
   "execution_count": 60,
   "id": "7f57a491-f58a-41d2-b7a7-c3360d849da2",
   "metadata": {},
   "outputs": [],
   "source": [
    "sb_tab6_left_col = ['North American Industry Classification System, NAICS - code', 'North American Industry Classification System, NAICS',\n",
    "                        'Geography - code', 'Geography','Location indicator - code', 'Location indicator','Incorporation status - code',\n",
    "       'Incorporation status', 'Reference year', \n",
    "                        'Gross margin (%)']\n",
    "sb_revenue_tab6_3y = sb_revenue_tab6_3y[sb_tab6_left_col]"
   ]
  },
  {
   "cell_type": "code",
   "execution_count": 61,
   "id": "1d832309-de36-4ffa-bf64-0aa09d54ad70",
   "metadata": {},
   "outputs": [],
   "source": [
    "frames = [sb_revenue_tab5b_3y,sb_revenue_tab6_3y]\n",
    "sb_revenue_tab6n_3y=pd.concat(frames)"
   ]
  },
  {
   "cell_type": "code",
   "execution_count": 62,
   "id": "8d017e94-7929-4fc5-9b99-53db1688f960",
   "metadata": {},
   "outputs": [],
   "source": [
    "sb_tab7_left_col = ['North American Industry Classification System, NAICS - code', 'North American Industry Classification System, NAICS',\n",
    "                        'Geography - code', 'Geography','Location indicator - code', 'Location indicator','Incorporation status - code',\n",
    "       'Incorporation status', 'Reference year', \n",
    "                        'Percent of profitable businesses']\n",
    "sb_revenue_tab7_3y = sb_revenue_tab7_3y[sb_tab7_left_col]"
   ]
  },
  {
   "cell_type": "markdown",
   "id": "0f3d0eeb-c07a-479c-a25a-b157f09e8283",
   "metadata": {},
   "source": [
    "**Join the small business tab1-tab7.**"
   ]
  },
  {
   "cell_type": "code",
   "execution_count": 63,
   "id": "44c55a47-526c-4065-8fb4-7757368c1a60",
   "metadata": {},
   "outputs": [],
   "source": [
    "a = pd.merge(sb_revenue_tab1_3y,sb_revenue_tab2_3y,how='inner',left_on=['North American Industry Classification System, NAICS - code', 'North American Industry Classification System, NAICS',\n",
    "                        'Geography - code', 'Geography','Location indicator - code', 'Location indicator','Incorporation status - code',\n",
    "       'Incorporation status', 'Reference year'],right_on=['North American Industry Classification System, NAICS - code', 'North American Industry Classification System, NAICS',\n",
    "                        'Geography - code', 'Geography','Location indicator - code', 'Location indicator','Incorporation status - code',\n",
    "       'Incorporation status', 'Reference year'])"
   ]
  },
  {
   "cell_type": "code",
   "execution_count": 64,
   "id": "05787e83-64aa-4e1e-a64d-02cce436ed9a",
   "metadata": {},
   "outputs": [],
   "source": [
    "b = pd.merge(a,sb_revenue_tab3_3y,how='inner',left_on=['North American Industry Classification System, NAICS - code', 'North American Industry Classification System, NAICS',\n",
    "                        'Geography - code', 'Geography','Location indicator - code', 'Location indicator','Incorporation status - code',\n",
    "       'Incorporation status', 'Reference year'],right_on=['North American Industry Classification System, NAICS - code', 'North American Industry Classification System, NAICS',\n",
    "                        'Geography - code', 'Geography','Location indicator - code', 'Location indicator','Incorporation status - code',\n",
    "       'Incorporation status', 'Reference year'])\n"
   ]
  },
  {
   "cell_type": "code",
   "execution_count": 65,
   "id": "69921ef9-d815-4e8b-b9c9-12190e6be9d8",
   "metadata": {},
   "outputs": [],
   "source": [
    "\n",
    "c = pd.merge(b,sb_revenue_tab4_3y,how='left',left_on=['North American Industry Classification System, NAICS - code', 'North American Industry Classification System, NAICS',\n",
    "                        'Geography - code', 'Geography','Location indicator - code', 'Location indicator','Incorporation status - code',\n",
    "       'Incorporation status', 'Reference year'],right_on=['North American Industry Classification System, NAICS - code', 'North American Industry Classification System, NAICS',\n",
    "                        'Geography - code', 'Geography','Location indicator - code', 'Location indicator','Incorporation status - code',\n",
    "       'Incorporation status', 'Reference year'])\n"
   ]
  },
  {
   "cell_type": "code",
   "execution_count": 66,
   "id": "1ba5a5a7-8bd9-4b65-b873-369707c9d4c1",
   "metadata": {},
   "outputs": [],
   "source": [
    "d = pd.merge(c,sb_revenue_tab5a_3y,how='left',left_on=['North American Industry Classification System, NAICS - code', 'North American Industry Classification System, NAICS',\n",
    "                        'Geography - code', 'Geography','Location indicator - code', 'Location indicator','Incorporation status - code',\n",
    "       'Incorporation status', 'Reference year'],right_on=['North American Industry Classification System, NAICS - code', 'North American Industry Classification System, NAICS',\n",
    "                        'Geography - code', 'Geography','Location indicator - code', 'Location indicator','Incorporation status - code',\n",
    "       'Incorporation status', 'Reference year'])"
   ]
  },
  {
   "cell_type": "code",
   "execution_count": 67,
   "id": "4e08815e-50aa-4f51-91ce-9016f43c77eb",
   "metadata": {},
   "outputs": [],
   "source": [
    "e = pd.merge(d,sb_revenue_tab6n_3y,how='left',left_on=['North American Industry Classification System, NAICS - code', 'North American Industry Classification System, NAICS',\n",
    "                        'Geography - code', 'Geography','Location indicator - code', 'Location indicator','Incorporation status - code',\n",
    "       'Incorporation status', 'Reference year'],right_on=['North American Industry Classification System, NAICS - code', 'North American Industry Classification System, NAICS',\n",
    "                        'Geography - code', 'Geography','Location indicator - code', 'Location indicator','Incorporation status - code',\n",
    "       'Incorporation status', 'Reference year'])"
   ]
  },
  {
   "cell_type": "code",
   "execution_count": 68,
   "id": "01ff02d1-d619-4025-9652-41efd8105bab",
   "metadata": {},
   "outputs": [],
   "source": [
    "final_sb = pd.merge(e,sb_revenue_tab7_3y,how='left',left_on=['North American Industry Classification System, NAICS - code', 'North American Industry Classification System, NAICS',\n",
    "                        'Geography - code', 'Geography','Location indicator - code', 'Location indicator','Incorporation status - code',\n",
    "       'Incorporation status', 'Reference year'],right_on=['North American Industry Classification System, NAICS - code', 'North American Industry Classification System, NAICS',\n",
    "                        'Geography - code', 'Geography','Location indicator - code', 'Location indicator','Incorporation status - code',\n",
    "       'Incorporation status', 'Reference year'])"
   ]
  },
  {
   "cell_type": "markdown",
   "id": "765881af-0a51-4bae-a1a5-369d298876e9",
   "metadata": {},
   "source": [
    "## Data Cleaning"
   ]
  },
  {
   "cell_type": "markdown",
   "id": "7af4afd4-55cb-47fc-8920-bdf2da0ca412",
   "metadata": {},
   "source": [
    "### Let missing data = Nan"
   ]
  },
  {
   "cell_type": "code",
   "execution_count": 69,
   "id": "40f16c36-c512-4c0e-9734-a32691005388",
   "metadata": {},
   "outputs": [],
   "source": [
    "new_mb = final_table_mb.replace(regex=['X', '\\.\\.', '\\.\\.\\.'], value=np.nan)"
   ]
  },
  {
   "cell_type": "code",
   "execution_count": 70,
   "id": "4fd2eab5-4ab2-4fe6-bf06-0548f3d539a9",
   "metadata": {},
   "outputs": [],
   "source": [
    "new_sb = final_sb.replace(regex=['X', '\\.\\.', '\\.\\.\\.'], value=np.nan)"
   ]
  },
  {
   "cell_type": "markdown",
   "id": "c03ccdc1-498a-4106-87ff-b91b0e1b7b4a",
   "metadata": {},
   "source": [
    "### Change data types"
   ]
  },
  {
   "cell_type": "code",
   "execution_count": 71,
   "id": "dab54c25-8afe-4ee7-aec2-f8316e0379dc",
   "metadata": {
    "tags": []
   },
   "outputs": [],
   "source": [
    "new_mb[[\"Total number of businesses\",\"Total revenue\", \"Sales of goods and services ( percent of total revenue)\",\"Cost of sales (direct expenses) (%)\",\n",
    "        \"Operating expenses (indirect expenses) (%)\",\"Total expenses\", 'Cost of sales (direct expenses)','Operating expenses (indirect expenses)',\n",
    "        \"Net Profit/Loss\",\"Total assets\",\"Total current assets\",\"Total liabilities\",\n",
    "        \"Total current liabilities\",\"Total equity\",\"Debt to equity ratio (times)\",\"Current debt to equity (%)\",\"Revenue to equity ratio (times)\",\n",
    "        \"Net profit to equity (%)\",\"Gross margin (%)\"]] = new_mb[[\"Total number of businesses\",\"Total revenue\", \n",
    "                                                                  \"Sales of goods and services ( percent of total revenue)\",\"Cost of sales (direct expenses) (%)\",\n",
    "                                                                  \"Operating expenses (indirect expenses) (%)\",\"Total expenses\",'Cost of sales (direct expenses)',\n",
    "                                                                  'Operating expenses (indirect expenses)',\"Net Profit/Loss\",\"Total assets\",\n",
    "                                                                  \"Total current assets\",\"Total liabilities\",\"Total current liabilities\",\"Total equity\",\n",
    "                                                                  \"Debt to equity ratio (times)\",\"Current debt to equity (%)\",\"Revenue to equity ratio (times)\",\n",
    "                                                                  \"Net profit to equity (%)\",\"Gross margin (%)\"]].apply(pd.to_numeric)"
   ]
  },
  {
   "cell_type": "code",
   "execution_count": 72,
   "id": "c19b309a-47ed-48a9-a37c-7fd91a0f260f",
   "metadata": {
    "tags": []
   },
   "outputs": [],
   "source": [
    "new_sb[['Total number of businesses',\n",
    "       'Total revenue',\n",
    "       'Sales of goods and services* ( percent of total revenue)',\n",
    "       'Cost of sales (direct expenses) (%)',\n",
    "       'Operating expenses (indirect expenses) (%)', 'Total expenses',\n",
    "       'Cost of sales (direct expenses)',\n",
    "       'Operating expenses (indirect expenses)','Net Profit/Loss', 'Total assets', 'Total current assets',\n",
    "       'Total liabilities', 'Total current liabilities', 'Total equity',\n",
    "       'Debt to equity ratio (times)', 'Current debt to equity (%)',\n",
    "       'Revenue to equity ratio (times)', 'Net profit to equity (%)',\n",
    "       'Gross margin (%)',\n",
    "       'Percent of profitable businesses']] = new_sb[['Total number of businesses',\n",
    "       'Total revenue',\n",
    "       'Sales of goods and services* ( percent of total revenue)',\n",
    "       'Cost of sales (direct expenses) (%)',\n",
    "       'Operating expenses (indirect expenses) (%)', 'Total expenses',\n",
    "       'Cost of sales (direct expenses)',\n",
    "       'Operating expenses (indirect expenses)','Net Profit/Loss', 'Total assets', 'Total current assets',\n",
    "       'Total liabilities', 'Total current liabilities', 'Total equity',\n",
    "       'Debt to equity ratio (times)', 'Current debt to equity (%)',\n",
    "       'Revenue to equity ratio (times)', 'Net profit to equity (%)',\n",
    "       'Gross margin (%)',\n",
    "       'Percent of profitable businesses']].apply(pd.to_numeric)\n"
   ]
  },
  {
   "cell_type": "markdown",
   "id": "fb4019f0-2df8-4295-b900-f3df1fdb7939",
   "metadata": {},
   "source": [
    "## Output data"
   ]
  },
  {
   "cell_type": "code",
   "execution_count": 75,
   "id": "5e20f2cf-dd4c-4e37-8a29-6deb153f9500",
   "metadata": {
    "tags": []
   },
   "outputs": [],
   "source": [
    "new_mb.to_csv(\"mb.csv\")"
   ]
  },
  {
   "cell_type": "code",
   "execution_count": 76,
   "id": "2ae29c39-f737-4928-8da2-d4084563ea55",
   "metadata": {
    "tags": []
   },
   "outputs": [],
   "source": [
    "new_sb.to_csv(\"sb.csv\")"
   ]
  },
  {
   "cell_type": "code",
   "execution_count": 78,
   "id": "6c4a32c5-c513-4297-9c63-a79fecc99c7a",
   "metadata": {},
   "outputs": [
    {
     "data": {
      "text/plain": [
       "(666, 24)"
      ]
     },
     "execution_count": 78,
     "metadata": {},
     "output_type": "execute_result"
    }
   ],
   "source": [
    "new_mb.shape"
   ]
  },
  {
   "cell_type": "code",
   "execution_count": 79,
   "id": "afabc506-8574-4ee1-a55f-aadcbb433648",
   "metadata": {},
   "outputs": [
    {
     "data": {
      "text/plain": [
       "(32967, 29)"
      ]
     },
     "execution_count": 79,
     "metadata": {},
     "output_type": "execute_result"
    }
   ],
   "source": [
    "new_sb.shape"
   ]
  },
  {
   "cell_type": "code",
   "execution_count": null,
   "id": "3b871dec-2f45-419c-ac86-d97b5c6586bf",
   "metadata": {},
   "outputs": [],
   "source": []
  }
 ],
 "metadata": {
  "kernelspec": {
   "display_name": "Python 3 (ipykernel)",
   "language": "python",
   "name": "python3"
  },
  "language_info": {
   "codemirror_mode": {
    "name": "ipython",
    "version": 3
   },
   "file_extension": ".py",
   "mimetype": "text/x-python",
   "name": "python",
   "nbconvert_exporter": "python",
   "pygments_lexer": "ipython3",
   "version": "3.9.12"
  }
 },
 "nbformat": 4,
 "nbformat_minor": 5
}
