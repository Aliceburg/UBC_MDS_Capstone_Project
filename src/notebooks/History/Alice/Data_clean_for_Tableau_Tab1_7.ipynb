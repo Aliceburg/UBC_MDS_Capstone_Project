{
 "cells": [
  {
   "cell_type": "code",
   "execution_count": 1,
   "id": "37cf2180-356a-4ae6-ae6c-8c06036be510",
   "metadata": {},
   "outputs": [],
   "source": [
    "import pandas as pd\n",
    "import numpy as np\n",
    "import altair as alt"
   ]
  },
  {
   "cell_type": "code",
   "execution_count": 2,
   "id": "3d3e384a-dbbc-49f0-9ecb-fdc326bf8bc1",
   "metadata": {},
   "outputs": [],
   "source": [
    "def tab_reader(filepathpattern,tabnum,skiprow,low_memory=False):\n",
    "    tabs = []\n",
    "    for i in range (tabnum):\n",
    "        cur_index = i+1\n",
    "        cur_filepath = filepathpattern.format(cur_index)\n",
    "        try:\n",
    "            tab = pd.read_csv(cur_filepath, skiprows=skiprow, low_memory=False)\n",
    "        except:\n",
    "            tab = pd.read_csv(cur_filepath, skiprows=skiprow, encoding='latin-1', low_memory=low_memory)\n",
    "        tabs.append(tab)\n",
    "    return tabs\n"
   ]
  },
  {
   "cell_type": "code",
   "execution_count": 3,
   "id": "e4cb8ee1-e5cc-4101-b905-7887e1d7098c",
   "metadata": {},
   "outputs": [],
   "source": [
    "# 2017 data\n",
    "rcbp_2017_mb_profitMargin_Tabs = tab_reader(\"../../../data/2017_csv_eng/2017_Medium businesses_Profit margin based_csv/_2017_Medium businesses_Profit margin_Tab{}.csv\",5,5)\n",
    "rcbp_2017_mb_revenue_Tabs = tab_reader(\"../../../data/2017_csv_eng/2017_Medium businesses_Total revenue based_csv/_2017_Eng_Medium_Revenue_Tab{}.csv\",5,5)\n",
    "rcbp_2017_sb_profitMargin_Tabs = tab_reader(\"../../../data/2017_csv_eng/2017_Small businesses_Profit margin based_csv/_2017_Small businesses_Profit margin based_Tab{}.csv\",7,5)\n",
    "rcbp_2017_sb_profitMargin_Tabs[0] = tab_reader(\"../../../data/2017_csv_eng/2017_Small businesses_Profit margin based_csv/_2017_Small businesses_Profit margin based_Tab{}.csv\",1,6)[0]\n",
    "rcbp_2017_sb_revenue_Tabs = tab_reader(\"../../../data/2017_csv_eng/2017_Small businesses_Total revenue based_csv/_2017_Small businesses_Total revenue based_Tab{}.csv\",7,5)\n",
    "rcbp_2017_sb_revenue_Tabs[0] = tab_reader(\"../../../data/2017_csv_eng/2017_Small businesses_Total revenue based_csv/_2017_Small businesses_Total revenue based_Tab{}.csv\",1,6)[0]"
   ]
  },
  {
   "cell_type": "code",
   "execution_count": 4,
   "id": "dccae8e6-1191-4e0b-ac2f-63c0cef6a3d1",
   "metadata": {},
   "outputs": [],
   "source": [
    "# 2018 data\n",
    "rcbp_2018_mb_profitMargin_Tabs = tab_reader(\"../../../data/2018_csv_eng/2018_Medium businesses_Profit margin based_csv/_2018_Medium businesses_Profit margin_Tab{}.csv\",5,5)\n",
    "rcbp_2018_mb_revenue_Tabs = tab_reader(\"../../../data/2018_csv_eng/2018_Medium businesses_Total revenue based_csv/_2018_Medium businesses_Total revenue_Tab{}.csv\",5,5)\n",
    "rcbp_2018_sb_profitMargin_Tabs = tab_reader(\"../../../data/2018_csv_eng/2018_Small businesses_Profit margin based_csv/_2018_Small businesses_Profit margin_Tab{}.csv\",7,5)\n",
    "rcbp_2018_sb_profitMargin_Tabs[0] = tab_reader(\"../../../data/2018_csv_eng/2018_Small businesses_Profit margin based_csv/_2018_Small businesses_Profit margin_Tab{}.csv\",1,6)[0]\n",
    "rcbp_2018_sb_revenue_Tabs = tab_reader(\"../../../data/2018_csv_eng/2018_Small businesses_Total revenue based_csv/_2018_Small businesses_Total revenue_Tab{}.csv\",7,5)\n",
    "rcbp_2018_sb_revenue_Tabs[0] = tab_reader(\"../../../data/2018_csv_eng/2018_Small businesses_Total revenue based_csv/_2018_Small businesses_Total revenue_Tab{}.csv\",1,6)[0]"
   ]
  },
  {
   "cell_type": "code",
   "execution_count": 5,
   "id": "9aa32747-a3b7-47c0-ab4f-b9154d2c3986",
   "metadata": {},
   "outputs": [],
   "source": [
    "# 2019 data\n",
    "rcbp_2019_mb_profitMargin_Tabs = tab_reader(\"../../../data/2019_csv_eng/2019_Medium businesses_Profit margin_csv/_2019_Medium businesses_Profit margin_Tab{}.csv\",5,5)\n",
    "rcbp_2019_mb_revenue_Tabs = tab_reader(\"../../../data/2019_csv_eng/2019_Medium businesses_Total revenue_csv/_2019_Medium businesses_Total revenue_Tab{}.csv\",5,5)\n",
    "rcbp_2019_sb_profitMargin_Tabs = tab_reader(\"../../../data/2019_csv_eng/2019_Small businesses_Profit margin_csv/_2019_Small businesses_Profit margin_Tab{}.csv\",7,5)\n",
    "rcbp_2019_sb_profitMargin_Tabs[0] = tab_reader(\"../../../data/2019_csv_eng/2019_Small businesses_Profit margin_csv/_2019_Small businesses_Profit margin_Tab{}.csv\",1,6)[0]\n",
    "rcbp_2019_sb_revenue_Tabs = tab_reader(\"../../../data/2019_csv_eng/2019_Small businesses_Total revenue_csv/_2019_Small businesses_Total revenue_Tab{}.csv\",7,5)\n",
    "rcbp_2019_sb_revenue_Tabs[0] = tab_reader(\"../../../data/2019_csv_eng/2019_Small businesses_Total revenue_csv/_2019_Small businesses_Total revenue_Tab{}.csv\",1,6)[0]"
   ]
  },
  {
   "cell_type": "markdown",
   "id": "2e319ab3-6025-4fbc-96cc-19e2491483f7",
   "metadata": {
    "tags": []
   },
   "source": [
    "### 1. Medium business Tab1 important variables"
   ]
  },
  {
   "cell_type": "markdown",
   "id": "0dc4350d-5053-426d-8063-3768032756b7",
   "metadata": {
    "jp-MarkdownHeadingCollapsed": true,
    "tags": []
   },
   "source": [
    "**'North American Industry Classification System, NAICS - code',**</br> \n",
    "**'North American Industry Classification System, NAICS',**\n",
    "\n",
    "**'Location indicator - code',**--- 1 Rural, 2 Urban</br> \n",
    "**'Location indicator',**\n",
    "\n",
    "'Incorporation status', --- Medium's are all incorporated\n",
    "\n",
    "**'Reference year',**\n",
    "\n",
    "**'Total number of businesses',**\n",
    "\n",
    "**'Total revenue',** = Sales of goods and services + All other revenues</br> \n",
    "\n",
    "**'Sales of goods and services',**</br> \n",
    "**'Sales of goods and services, quality indicator',**\n",
    "**'All other revenues',**</br> \n",
    "**'All other revenues,  quality indicator',**\n",
    "\n",
    "**'Sales of goods and services ( percent of total revenue)',** = Sales of goods and services/Total revenue</br> \n",
    "**'Sales of goods and services ( percent of total revenue), quality indicator',**\n",
    "\n",
    "**'All other revenues ( percent of total revenue)',** = All other revenues/Total revenue</br> \n",
    "**'All other revenues ( percent of total revenue), quality indicator',**\n"
   ]
  },
  {
   "cell_type": "markdown",
   "id": "30f735af-b4f6-489a-99e0-c3db11f09101",
   "metadata": {},
   "source": [
    "### 2. Small business Tab1 important variables"
   ]
  },
  {
   "cell_type": "markdown",
   "id": "a888085c-0cdb-4950-9ae7-adf36ff89ddb",
   "metadata": {},
   "source": [
    "**'North American Industry Classification System, NAICS - code',**</br> \n",
    "**'North American Industry Classification System, NAICS',**\n",
    "\n",
    "**'Geography - code',** </br>\n",
    "**'Geography',** --- Canada and provinces and territories\n",
    "\n",
    "**'Location indicator - code',**--- 1 Rural, 2 Urban</br> \n",
    "**'Location indicator',**\n",
    "\n",
    "**'Incorporation status - code',**---1: Unincorporated, ---2: incorporated </br> \n",
    "**'Incorporation status',** --- 3: All businesses\n",
    "\n",
    "**'Reference year',**\n",
    "\n",
    "**'Total number of businesses',**\n",
    "\n",
    "**'Total revenue',** = Sales of goods and services + All other revenues</br> \n",
    "\n",
    "**'Sales of goods and services\\*',**</br> \n",
    "**'Sales of goods and services\\*, quality indicator',**\n",
    "\n",
    "**'All other revenues\\*',**</br> \n",
    "**'All other revenues\\*,  quality indicator',**\n",
    "\n",
    "**'Sales of goods and services\\* ( percent of total revenue)',** = Sales of goods and services/Total revenue</br> \n",
    "**'Sales of goods and services\\* ( percent of total revenue), quality indicator',**\n",
    "\n",
    "**'All other revenues\\* ( percent of total revenue)',** = All other revenues/Total revenue</br> \n",
    "**'All other revenues\\* ( percent of total revenue), quality indicator',**\n"
   ]
  },
  {
   "cell_type": "markdown",
   "id": "fdf12dfc-5e6c-41e9-9ed5-21c2165679b1",
   "metadata": {
    "tags": []
   },
   "source": [
    "### 3. Small business Tab7 important variables"
   ]
  },
  {
   "cell_type": "markdown",
   "id": "a38eab47-57b8-4134-81a7-1e12845adcee",
   "metadata": {
    "tags": []
   },
   "source": [
    "**'North American Industry Classification System, NAICS - code',** </br>\n",
    "**'North American Industry Classification System, NAICS',**\n",
    "       \n",
    "**'Geography - code',** </br>\n",
    "**'Geography',** --- Canada and provinces and territories\n",
    "       \n",
    "**'Location indicator - code',**</br>\n",
    "**'Location indicator',** --- 1 Rural or 2 Urban\n",
    "\n",
    "'Incorporation status - code',</br>\n",
    "'Incorporation status', --- 3: All businesses\n",
    "\n",
    "**'Reference year',**\n",
    "\n",
    "**'Percent of profitable businesses',**  \n",
    "\n",
    "**'Profitable : Total Revenue',**- 'Profitable : Total Expenses' = 'Profitable : Net Profit'</br> \n",
    "**'Profitable : Total Revenue, quality indicator',**</br>\n",
    "\n",
    "**'Profitable : Total Expenses',**</br>\n",
    "**'Profitable : Total Expenses, quality indicator',**</br>\n",
    "\n",
    "**'Profitable : Net Profit',**--- For profitable business</br> \n",
    "**'Profitable : Net Profit, quality indicator',**</br>\n",
    "\n",
    "**'Non-profitable : Total Revenue',**- 'Non-profitable : Total expenses' = 'Non-profitable : Net loss'</br> \n",
    "**'Non-profitable : Total Revenue, quality indicator',**</br>\n",
    "\n",
    "**'Non-profitable : Total expenses',**</br>\n",
    "**'Non-profitable : Total expenses, quality indicator',**</br>\n",
    "\n",
    "**'Non-profitable : Net loss',** --- For non-profitable business</br>\n",
    "**'Non-profitable : Net loss, quality indicator',**</br>\n",
    "\n"
   ]
  },
  {
   "cell_type": "markdown",
   "id": "665e56cc-94d7-4020-bc2d-8b2f061b7b4d",
   "metadata": {
    "tags": []
   },
   "source": [
    "## Data Cleaning"
   ]
  },
  {
   "cell_type": "markdown",
   "id": "2e4f6cd4-6fba-4543-9006-6361a91f2de9",
   "metadata": {
    "tags": []
   },
   "source": [
    "**Both for Medium and Small business Data**"
   ]
  },
  {
   "cell_type": "markdown",
   "id": "b63b40d2-5af7-4181-aaf5-c5f29bc27c6a",
   "metadata": {
    "tags": []
   },
   "source": [
    "### 1. Drop the first NAN row, drop quartile columns, select one and two digits industry code level and concat different years"
   ]
  },
  {
   "cell_type": "code",
   "execution_count": 6,
   "id": "fe4c9180-1218-4aa9-9cdb-f65df744faa0",
   "metadata": {},
   "outputs": [],
   "source": [
    "# Drop the first NaN row, select industry code level, drop quartile columns and concat different years\n",
    "def selectData(tabs):\n",
    "    concatTabs = []\n",
    "    for tab in tabs:\n",
    "        tab = tab.drop(0)\n",
    "        cols_without_quartile = [x for x in tab.columns if 'quartile' not in x.lower()]\n",
    "        tab = tab[cols_without_quartile]\n",
    "        tab = tab.loc[(tab[\"North American Industry Classification System, NAICS - code\"].str.len() < 3) | (tab[\"North American Industry Classification System, NAICS - code\"].str.contains('-'))]\n",
    "        concatTabs.append(tab)\n",
    "    return pd.concat(concatTabs)"
   ]
  },
  {
   "cell_type": "code",
   "execution_count": 7,
   "id": "9ba30b21-6f0e-4032-a67f-e297b7701582",
   "metadata": {
    "tags": []
   },
   "outputs": [],
   "source": [
    "## medium tab1 3year contain All industry(code=0)\n",
    "mb_revenue_tab1_3y = selectData([rcbp_2017_mb_revenue_Tabs[0], rcbp_2018_mb_revenue_Tabs[0], rcbp_2019_mb_revenue_Tabs[0]]).reset_index(drop=True)\n",
    "## small tab1 3year contain All industry\n",
    "sb_revenue_tab1_3y = selectData([rcbp_2017_sb_revenue_Tabs[0], rcbp_2018_sb_revenue_Tabs[0], rcbp_2019_sb_revenue_Tabs[0]]).reset_index(drop=True)\n",
    "## small tab7 3year contain All industry\n",
    "sb_revenue_tab7_3y = selectData([rcbp_2017_sb_revenue_Tabs[6], rcbp_2018_sb_revenue_Tabs[6], rcbp_2019_sb_revenue_Tabs[6]]).reset_index(drop=True)"
   ]
  },
  {
   "cell_type": "markdown",
   "id": "0e56e703-f9d3-4084-ad04-cfb68b4cbe94",
   "metadata": {
    "tags": []
   },
   "source": [
    "### 2. Change the suppressed data (X) and the small data (..) and (...) to be NA"
   ]
  },
  {
   "cell_type": "code",
   "execution_count": 9,
   "id": "612dea00-cc38-4b3c-8086-d0ccf2e94423",
   "metadata": {
    "tags": []
   },
   "outputs": [],
   "source": [
    "mb_revenue_tab1_3y = mb_revenue_tab1_3y.replace(regex=['X', '\\.\\.', '\\.\\.\\.'], value=np.nan)\n",
    "sb_revenue_tab1_3y = sb_revenue_tab1_3y.replace(regex=['X', '\\.\\.', '\\.\\.\\.'], value=np.nan)\n",
    "sb_revenue_tab7_3y = sb_revenue_tab7_3y.replace(regex=['X', '\\.\\.', '\\.\\.\\.'], value=np.nan)"
   ]
  },
  {
   "cell_type": "code",
   "execution_count": 10,
   "id": "e2bc030d-c101-431a-815c-2f0fd4de2b0c",
   "metadata": {},
   "outputs": [
    {
     "data": {
      "text/html": [
       "<div>\n",
       "<style scoped>\n",
       "    .dataframe tbody tr th:only-of-type {\n",
       "        vertical-align: middle;\n",
       "    }\n",
       "\n",
       "    .dataframe tbody tr th {\n",
       "        vertical-align: top;\n",
       "    }\n",
       "\n",
       "    .dataframe thead th {\n",
       "        text-align: right;\n",
       "    }\n",
       "</style>\n",
       "<table border=\"1\" class=\"dataframe\">\n",
       "  <thead>\n",
       "    <tr style=\"text-align: right;\">\n",
       "      <th></th>\n",
       "      <th>ID</th>\n",
       "      <th>North American Industry Classification System, NAICS - code</th>\n",
       "      <th>North American Industry Classification System, NAICS</th>\n",
       "      <th>Geography - code</th>\n",
       "      <th>Geography</th>\n",
       "      <th>Location indicator - code</th>\n",
       "      <th>Location indicator</th>\n",
       "      <th>Incorporation status - code</th>\n",
       "      <th>Incorporation status</th>\n",
       "      <th>Reference year</th>\n",
       "      <th>...</th>\n",
       "      <th>Sales of goods and services*</th>\n",
       "      <th>Sales of goods and services* , quality indicator</th>\n",
       "      <th>Sales of goods and services*  , percent of businesses reporting</th>\n",
       "      <th>All other revenues*</th>\n",
       "      <th>All other revenues* , quality indicator</th>\n",
       "      <th>All other revenues* , percent of businesses reporting</th>\n",
       "      <th>Sales of goods and services* ( percent of total revenue)</th>\n",
       "      <th>Sales of goods and services* ( percent of total revenue), quality indicator</th>\n",
       "      <th>All other revenues* ( percent of total revenue)</th>\n",
       "      <th>All other revenues* ( percent of total revenue), quality indicator</th>\n",
       "    </tr>\n",
       "  </thead>\n",
       "  <tbody>\n",
       "    <tr>\n",
       "      <th>0</th>\n",
       "      <td>1.0</td>\n",
       "      <td>0</td>\n",
       "      <td>All industries</td>\n",
       "      <td>0.0</td>\n",
       "      <td>Canada</td>\n",
       "      <td>1.0</td>\n",
       "      <td>Rural</td>\n",
       "      <td>1.0</td>\n",
       "      <td>Unincorporated</td>\n",
       "      <td>2017.0</td>\n",
       "      <td>...</td>\n",
       "      <td>NaN</td>\n",
       "      <td>NaN</td>\n",
       "      <td>NaN</td>\n",
       "      <td>NaN</td>\n",
       "      <td>NaN</td>\n",
       "      <td>NaN</td>\n",
       "      <td>NaN</td>\n",
       "      <td>NaN</td>\n",
       "      <td>NaN</td>\n",
       "      <td>NaN</td>\n",
       "    </tr>\n",
       "    <tr>\n",
       "      <th>1</th>\n",
       "      <td>2.0</td>\n",
       "      <td>0</td>\n",
       "      <td>All industries</td>\n",
       "      <td>0.0</td>\n",
       "      <td>Canada</td>\n",
       "      <td>1.0</td>\n",
       "      <td>Rural</td>\n",
       "      <td>2.0</td>\n",
       "      <td>Incorporated</td>\n",
       "      <td>2017.0</td>\n",
       "      <td>...</td>\n",
       "      <td>575.8</td>\n",
       "      <td>A</td>\n",
       "      <td>91.6</td>\n",
       "      <td>46.2</td>\n",
       "      <td>B</td>\n",
       "      <td>53.6</td>\n",
       "      <td>92.6</td>\n",
       "      <td>A</td>\n",
       "      <td>7.4</td>\n",
       "      <td>B</td>\n",
       "    </tr>\n",
       "    <tr>\n",
       "      <th>2</th>\n",
       "      <td>3.0</td>\n",
       "      <td>0</td>\n",
       "      <td>All industries</td>\n",
       "      <td>0.0</td>\n",
       "      <td>Canada</td>\n",
       "      <td>1.0</td>\n",
       "      <td>Rural</td>\n",
       "      <td>3.0</td>\n",
       "      <td>All businesses</td>\n",
       "      <td>2017.0</td>\n",
       "      <td>...</td>\n",
       "      <td>NaN</td>\n",
       "      <td>NaN</td>\n",
       "      <td>NaN</td>\n",
       "      <td>NaN</td>\n",
       "      <td>NaN</td>\n",
       "      <td>NaN</td>\n",
       "      <td>NaN</td>\n",
       "      <td>NaN</td>\n",
       "      <td>NaN</td>\n",
       "      <td>NaN</td>\n",
       "    </tr>\n",
       "    <tr>\n",
       "      <th>3</th>\n",
       "      <td>4.0</td>\n",
       "      <td>0</td>\n",
       "      <td>All industries</td>\n",
       "      <td>0.0</td>\n",
       "      <td>Canada</td>\n",
       "      <td>2.0</td>\n",
       "      <td>Urban</td>\n",
       "      <td>1.0</td>\n",
       "      <td>Unincorporated</td>\n",
       "      <td>2017.0</td>\n",
       "      <td>...</td>\n",
       "      <td>NaN</td>\n",
       "      <td>NaN</td>\n",
       "      <td>NaN</td>\n",
       "      <td>NaN</td>\n",
       "      <td>NaN</td>\n",
       "      <td>NaN</td>\n",
       "      <td>NaN</td>\n",
       "      <td>NaN</td>\n",
       "      <td>NaN</td>\n",
       "      <td>NaN</td>\n",
       "    </tr>\n",
       "    <tr>\n",
       "      <th>4</th>\n",
       "      <td>5.0</td>\n",
       "      <td>0</td>\n",
       "      <td>All industries</td>\n",
       "      <td>0.0</td>\n",
       "      <td>Canada</td>\n",
       "      <td>2.0</td>\n",
       "      <td>Urban</td>\n",
       "      <td>2.0</td>\n",
       "      <td>Incorporated</td>\n",
       "      <td>2017.0</td>\n",
       "      <td>...</td>\n",
       "      <td>502</td>\n",
       "      <td>A</td>\n",
       "      <td>87.7</td>\n",
       "      <td>64.9</td>\n",
       "      <td>B</td>\n",
       "      <td>41.1</td>\n",
       "      <td>88.6</td>\n",
       "      <td>A</td>\n",
       "      <td>11.4</td>\n",
       "      <td>B</td>\n",
       "    </tr>\n",
       "  </tbody>\n",
       "</table>\n",
       "<p>5 rows × 25 columns</p>\n",
       "</div>"
      ],
      "text/plain": [
       "    ID North American Industry Classification System, NAICS - code  \\\n",
       "0  1.0                                                  0            \n",
       "1  2.0                                                  0            \n",
       "2  3.0                                                  0            \n",
       "3  4.0                                                  0            \n",
       "4  5.0                                                  0            \n",
       "\n",
       "  North American Industry Classification System, NAICS  Geography - code  \\\n",
       "0                                     All industries                 0.0   \n",
       "1                                     All industries                 0.0   \n",
       "2                                     All industries                 0.0   \n",
       "3                                     All industries                 0.0   \n",
       "4                                     All industries                 0.0   \n",
       "\n",
       "  Geography  Location indicator - code Location indicator  \\\n",
       "0    Canada                        1.0              Rural   \n",
       "1    Canada                        1.0              Rural   \n",
       "2    Canada                        1.0              Rural   \n",
       "3    Canada                        2.0              Urban   \n",
       "4    Canada                        2.0              Urban   \n",
       "\n",
       "   Incorporation status - code Incorporation status  Reference year  ...  \\\n",
       "0                          1.0       Unincorporated          2017.0  ...   \n",
       "1                          2.0         Incorporated          2017.0  ...   \n",
       "2                          3.0       All businesses          2017.0  ...   \n",
       "3                          1.0       Unincorporated          2017.0  ...   \n",
       "4                          2.0         Incorporated          2017.0  ...   \n",
       "\n",
       "  Sales of goods and services*  \\\n",
       "0                          NaN   \n",
       "1                        575.8   \n",
       "2                          NaN   \n",
       "3                          NaN   \n",
       "4                          502   \n",
       "\n",
       "  Sales of goods and services* , quality indicator  \\\n",
       "0                                              NaN   \n",
       "1                                                A   \n",
       "2                                              NaN   \n",
       "3                                              NaN   \n",
       "4                                                A   \n",
       "\n",
       "  Sales of goods and services*  , percent of businesses reporting  \\\n",
       "0                                                NaN                \n",
       "1                                               91.6                \n",
       "2                                                NaN                \n",
       "3                                                NaN                \n",
       "4                                               87.7                \n",
       "\n",
       "  All other revenues* All other revenues* , quality indicator  \\\n",
       "0                 NaN                                     NaN   \n",
       "1                46.2                                       B   \n",
       "2                 NaN                                     NaN   \n",
       "3                 NaN                                     NaN   \n",
       "4                64.9                                       B   \n",
       "\n",
       "  All other revenues* , percent of businesses reporting  \\\n",
       "0                                                NaN      \n",
       "1                                               53.6      \n",
       "2                                                NaN      \n",
       "3                                                NaN      \n",
       "4                                               41.1      \n",
       "\n",
       "  Sales of goods and services* ( percent of total revenue)  \\\n",
       "0                                                NaN         \n",
       "1                                               92.6         \n",
       "2                                                NaN         \n",
       "3                                                NaN         \n",
       "4                                               88.6         \n",
       "\n",
       "  Sales of goods and services* ( percent of total revenue), quality indicator  \\\n",
       "0                                                NaN                            \n",
       "1                                                  A                            \n",
       "2                                                NaN                            \n",
       "3                                                NaN                            \n",
       "4                                                  A                            \n",
       "\n",
       "  All other revenues* ( percent of total revenue)  \\\n",
       "0                                             NaN   \n",
       "1                                             7.4   \n",
       "2                                             NaN   \n",
       "3                                             NaN   \n",
       "4                                            11.4   \n",
       "\n",
       "  All other revenues* ( percent of total revenue), quality indicator  \n",
       "0                                                NaN                  \n",
       "1                                                  B                  \n",
       "2                                                NaN                  \n",
       "3                                                NaN                  \n",
       "4                                                  B                  \n",
       "\n",
       "[5 rows x 25 columns]"
      ]
     },
     "execution_count": 10,
     "metadata": {},
     "output_type": "execute_result"
    }
   ],
   "source": [
    "sb_revenue_tab1_3y.head()"
   ]
  },
  {
   "cell_type": "markdown",
   "id": "8a4b0270-ddf6-4647-b2b3-421158ae1b98",
   "metadata": {},
   "source": [
    "### 3. Drop irrelevant columns, Change data type, Rename 'Average revenue', Add 'Total revenue' column, Remove 3 regions, Remove small businesses variable name *, Change 'Nordwest' to 'Northwest'"
   ]
  },
  {
   "cell_type": "markdown",
   "id": "314133c2-7d2b-4fda-acb8-328f6fd2a579",
   "metadata": {},
   "source": [
    "#### 1. Medium businesses Tab1"
   ]
  },
  {
   "cell_type": "code",
   "execution_count": 11,
   "id": "dad32e71-abaf-4d9c-ade3-9b3edf122ca9",
   "metadata": {},
   "outputs": [
    {
     "data": {
      "text/plain": [
       "Index(['ID', 'North American Industry Classification System, NAICS - code',\n",
       "       'North American Industry Classification System, NAICS',\n",
       "       'Geography - code', 'Geography', 'Location indicator - code',\n",
       "       'Location indicator', 'Incorporation status - code',\n",
       "       'Incorporation status', 'Reference year', 'Total number of businesses',\n",
       "       'All businesses, minimum revenue value',\n",
       "       'All businesses, maximum revenue value', 'Total revenue',\n",
       "       'Total revenue, quality indicator', 'Sales of goods and services',\n",
       "       'Sales of goods and services, quality indicator',\n",
       "       'Sales of goods and services, percent of businesses reporting',\n",
       "       'All other revenues', 'All other revenues,  quality indicator',\n",
       "       'All other revenues,  percent of businesses reporting',\n",
       "       'Sales of goods and services ( percent of total revenue)',\n",
       "       'Sales of goods and services ( percent of total revenue), quality indicator',\n",
       "       'All other revenues ( percent of total revenue)',\n",
       "       'All other revenues ( percent of total revenue), quality indicator'],\n",
       "      dtype='object')"
      ]
     },
     "execution_count": 11,
     "metadata": {},
     "output_type": "execute_result"
    }
   ],
   "source": [
    "mb_revenue_tab1_3y.columns"
   ]
  },
  {
   "cell_type": "code",
   "execution_count": 12,
   "id": "270c07f9-64cf-41f9-9357-51340dbd7e4c",
   "metadata": {},
   "outputs": [],
   "source": [
    "mb_tab1_drop_col = ['ID', 'North American Industry Classification System, NAICS - code', 'Geography - code', 'Geography', \n",
    "                    'Location indicator - code', 'Incorporation status - code', 'Incorporation status', \n",
    "                    'All businesses, minimum revenue value', 'All businesses, maximum revenue value', \n",
    "                    'Total revenue, quality indicator',\n",
    "                    'Sales of goods and services, quality indicator', 'Sales of goods and services, percent of businesses reporting',\n",
    "                    'All other revenues,  quality indicator', 'All other revenues,  percent of businesses reporting',\n",
    "                    'Sales of goods and services ( percent of total revenue), quality indicator', \n",
    "                    'All other revenues ( percent of total revenue), quality indicator']"
   ]
  },
  {
   "cell_type": "code",
   "execution_count": 13,
   "id": "027af6b3-a44e-40b4-a19d-4519da4e4af5",
   "metadata": {},
   "outputs": [],
   "source": [
    "mb_revenue_tab1_3y = mb_revenue_tab1_3y.drop(columns = mb_tab1_drop_col, axis=1)"
   ]
  },
  {
   "cell_type": "code",
   "execution_count": 14,
   "id": "d8944586-4960-4e95-b987-c16a8bc635e3",
   "metadata": {},
   "outputs": [
    {
     "data": {
      "text/plain": [
       "Index(['North American Industry Classification System, NAICS',\n",
       "       'Location indicator', 'Reference year', 'Total number of businesses',\n",
       "       'Total revenue', 'Sales of goods and services', 'All other revenues',\n",
       "       'Sales of goods and services ( percent of total revenue)',\n",
       "       'All other revenues ( percent of total revenue)'],\n",
       "      dtype='object')"
      ]
     },
     "execution_count": 14,
     "metadata": {},
     "output_type": "execute_result"
    }
   ],
   "source": [
    "mb_revenue_tab1_3y.columns"
   ]
  },
  {
   "cell_type": "code",
   "execution_count": 15,
   "id": "4d34f2b2-a104-4eb1-b03f-98af8c9f1a32",
   "metadata": {},
   "outputs": [
    {
     "data": {
      "text/plain": [
       "North American Industry Classification System, NAICS        object\n",
       "Location indicator                                          object\n",
       "Reference year                                              string\n",
       "Total number of businesses                                   int64\n",
       "Total revenue                                              float64\n",
       "Sales of goods and services                                float64\n",
       "All other revenues                                         float64\n",
       "Sales of goods and services ( percent of total revenue)    float64\n",
       "All other revenues ( percent of total revenue)             float64\n",
       "dtype: object"
      ]
     },
     "execution_count": 15,
     "metadata": {},
     "output_type": "execute_result"
    }
   ],
   "source": [
    "mb_revenue_tab1_3y['Reference year'] = mb_revenue_tab1_3y['Reference year'].astype('string') \n",
    "mb_revenue_tab1_3y['Total number of businesses'] = mb_revenue_tab1_3y['Total number of businesses'].astype('int') \n",
    "mb_revenue_tab1_3y['Total revenue'] = mb_revenue_tab1_3y['Total revenue'].astype('float64') \n",
    "mb_revenue_tab1_3y['Sales of goods and services'] = mb_revenue_tab1_3y['Sales of goods and services'].astype('float64') \n",
    "mb_revenue_tab1_3y['All other revenues'] = mb_revenue_tab1_3y['All other revenues'].astype('float64') \n",
    "mb_revenue_tab1_3y['Sales of goods and services ( percent of total revenue)'] = mb_revenue_tab1_3y['Sales of goods and services ( percent of total revenue)'].astype('float64') \n",
    "mb_revenue_tab1_3y['All other revenues ( percent of total revenue)'] = mb_revenue_tab1_3y['All other revenues ( percent of total revenue)'].astype('float64')\n",
    "\n",
    "mb_revenue_tab1_3y.dtypes"
   ]
  },
  {
   "cell_type": "code",
   "execution_count": 16,
   "id": "988dc8bf-f41b-473f-ac0a-384dce9e49e5",
   "metadata": {},
   "outputs": [],
   "source": [
    "mb_revenue_tab1_3y = mb_revenue_tab1_3y.rename(columns={'Total revenue':'Average revenue'})"
   ]
  },
  {
   "cell_type": "code",
   "execution_count": 17,
   "id": "359190c6-a024-4ac8-9be8-50605ab38353",
   "metadata": {},
   "outputs": [],
   "source": [
    "mb_revenue_tab1_3y['Total revenue'] = mb_revenue_tab1_3y['Total number of businesses'] * mb_revenue_tab1_3y['Average revenue']"
   ]
  },
  {
   "cell_type": "markdown",
   "id": "dc7c6861-acba-4312-b778-2a93bff77a8b",
   "metadata": {},
   "source": [
    "#### 2. Small businesses Tab1"
   ]
  },
  {
   "cell_type": "code",
   "execution_count": 18,
   "id": "fa55551a-c427-498e-8860-4dc0c38cfe0d",
   "metadata": {},
   "outputs": [
    {
     "data": {
      "text/plain": [
       "Index(['ID', 'North American Industry Classification System, NAICS - code',\n",
       "       'North American Industry Classification System, NAICS',\n",
       "       'Geography - code', 'Geography', 'Location indicator - code',\n",
       "       'Location indicator', 'Incorporation status - code',\n",
       "       'Incorporation status', 'Reference year', 'Total number of businesses',\n",
       "       'All businesses, minimum revenue value',\n",
       "       'All businesses, maximum revenue value', 'Total revenue',\n",
       "       'Total revenue, quality indicator', 'Sales of goods and services*',\n",
       "       'Sales of goods and services* , quality indicator',\n",
       "       'Sales of goods and services*  , percent of businesses reporting',\n",
       "       'All other revenues*', 'All other revenues* , quality indicator',\n",
       "       'All other revenues* , percent of businesses reporting',\n",
       "       'Sales of goods and services* ( percent of total revenue)',\n",
       "       'Sales of goods and services* ( percent of total revenue), quality indicator',\n",
       "       'All other revenues* ( percent of total revenue)',\n",
       "       'All other revenues* ( percent of total revenue), quality indicator'],\n",
       "      dtype='object')"
      ]
     },
     "execution_count": 18,
     "metadata": {},
     "output_type": "execute_result"
    }
   ],
   "source": [
    "sb_revenue_tab1_3y.columns"
   ]
  },
  {
   "cell_type": "code",
   "execution_count": 19,
   "id": "d92d77fb-33d2-4196-b871-b0b33900c7ad",
   "metadata": {},
   "outputs": [],
   "source": [
    "sb_tab1_drop_col = ['ID', 'North American Industry Classification System, NAICS - code', 'Geography - code', \n",
    "                    'Location indicator - code', 'Incorporation status - code',\n",
    "                    'All businesses, minimum revenue value', 'All businesses, maximum revenue value', 'Total revenue, quality indicator',\n",
    "                    'Sales of goods and services* , quality indicator', 'Sales of goods and services*  , percent of businesses reporting',\n",
    "                    'All other revenues* , quality indicator', 'All other revenues* , percent of businesses reporting',\n",
    "                    'Sales of goods and services* ( percent of total revenue), quality indicator', \n",
    "                    'All other revenues* ( percent of total revenue), quality indicator']"
   ]
  },
  {
   "cell_type": "code",
   "execution_count": 20,
   "id": "7c15ccc1-74b4-497e-9be4-986b60e549ea",
   "metadata": {},
   "outputs": [],
   "source": [
    "sb_revenue_tab1_3y = sb_revenue_tab1_3y.drop(columns = sb_tab1_drop_col, axis=1)"
   ]
  },
  {
   "cell_type": "code",
   "execution_count": 21,
   "id": "c2ff5eca-bddc-495e-bd3e-1bb4641a98be",
   "metadata": {},
   "outputs": [
    {
     "data": {
      "text/plain": [
       "North American Industry Classification System, NAICS         object\n",
       "Geography                                                    object\n",
       "Location indicator                                           object\n",
       "Incorporation status                                         object\n",
       "Reference year                                              float64\n",
       "Total number of businesses                                   object\n",
       "Total revenue                                                object\n",
       "Sales of goods and services*                                 object\n",
       "All other revenues*                                          object\n",
       "Sales of goods and services* ( percent of total revenue)     object\n",
       "All other revenues* ( percent of total revenue)              object\n",
       "dtype: object"
      ]
     },
     "execution_count": 21,
     "metadata": {},
     "output_type": "execute_result"
    }
   ],
   "source": [
    "sb_revenue_tab1_3y.dtypes"
   ]
  },
  {
   "cell_type": "code",
   "execution_count": 22,
   "id": "a7637472-f617-4b51-91dc-ef5a89b5ff09",
   "metadata": {},
   "outputs": [
    {
     "data": {
      "text/plain": [
       "North American Industry Classification System, NAICS         object\n",
       "Geography                                                    object\n",
       "Location indicator                                           object\n",
       "Incorporation status                                         object\n",
       "Reference year                                               string\n",
       "Total number of businesses                                  float64\n",
       "Total revenue                                               float64\n",
       "Sales of goods and services*                                float64\n",
       "All other revenues*                                         float64\n",
       "Sales of goods and services* ( percent of total revenue)    float64\n",
       "All other revenues* ( percent of total revenue)             float64\n",
       "dtype: object"
      ]
     },
     "execution_count": 22,
     "metadata": {},
     "output_type": "execute_result"
    }
   ],
   "source": [
    "sb_revenue_tab1_3y['Reference year'] = sb_revenue_tab1_3y['Reference year'].astype('string') \n",
    "sb_revenue_tab1_3y['Total number of businesses'] = sb_revenue_tab1_3y['Total number of businesses'].astype('float64') \n",
    "sb_revenue_tab1_3y['Total revenue'] = sb_revenue_tab1_3y['Total revenue'].astype('float64') \n",
    "sb_revenue_tab1_3y['Sales of goods and services*'] = sb_revenue_tab1_3y['Sales of goods and services*'].astype('float64') \n",
    "sb_revenue_tab1_3y['All other revenues*'] = sb_revenue_tab1_3y['All other revenues*'].astype('float64') \n",
    "sb_revenue_tab1_3y['Sales of goods and services* ( percent of total revenue)'] = sb_revenue_tab1_3y['Sales of goods and services* ( percent of total revenue)'].astype('float64')\n",
    "sb_revenue_tab1_3y['All other revenues* ( percent of total revenue)'] = sb_revenue_tab1_3y['All other revenues* ( percent of total revenue)'].astype('float64') \n",
    "\n",
    "sb_revenue_tab1_3y.dtypes"
   ]
  },
  {
   "cell_type": "code",
   "execution_count": 23,
   "id": "c8928a3e-67a6-4b64-8b87-f5fceef05b99",
   "metadata": {},
   "outputs": [],
   "source": [
    "sb_revenue_tab1_3y = sb_revenue_tab1_3y.rename(columns={'Total revenue':'Average revenue',\n",
    "                                                        'Sales of goods and services*':'Sales of goods and services',\n",
    "                                                        'All other revenues*':'All other revenues',\n",
    "                                                        'Sales of goods and services* ( percent of total revenue)':'Sales of goods and services ( percent of total revenue)',\n",
    "                                                        'All other revenues* ( percent of total revenue)':'All other revenues ( percent of total revenue)'  \n",
    "                                                       })"
   ]
  },
  {
   "cell_type": "code",
   "execution_count": 24,
   "id": "75a3aed9-280f-4fdd-a8e0-e14e085a7946",
   "metadata": {},
   "outputs": [],
   "source": [
    "sb_revenue_tab1_3y['Total revenue'] = sb_revenue_tab1_3y['Total number of businesses'] * sb_revenue_tab1_3y['Average revenue']"
   ]
  },
  {
   "cell_type": "code",
   "execution_count": 25,
   "id": "b54b6f7c-cbd4-41ef-b8fd-1a8770dda5b5",
   "metadata": {},
   "outputs": [],
   "source": [
    "rm_geo = list(['Altantic', 'Prairies', 'Territories'])\n",
    "sb_revenue_tab1_3y = sb_revenue_tab1_3y.loc[~sb_revenue_tab1_3y.Geography.isin(rm_geo)]\n"
   ]
  },
  {
   "cell_type": "code",
   "execution_count": 26,
   "id": "b1f22220-8b77-43af-aba5-4ce6727d176e",
   "metadata": {},
   "outputs": [],
   "source": [
    "sb_revenue_tab1_3y.loc[sb_revenue_tab1_3y.Geography=='Nordwest Territories','Geography'] = 'Northwest Territories'\n"
   ]
  },
  {
   "cell_type": "markdown",
   "id": "b5969594-d1a7-48c0-9b24-57777c09595c",
   "metadata": {},
   "source": [
    "#### 3. Small businesses Tab7"
   ]
  },
  {
   "cell_type": "code",
   "execution_count": 27,
   "id": "adcf2311-5a6f-4f7f-be55-185259ddb58e",
   "metadata": {},
   "outputs": [
    {
     "data": {
      "text/plain": [
       "Index(['ID', 'North American Industry Classification System, NAICS - code',\n",
       "       'North American Industry Classification System, NAICS',\n",
       "       'Geography - code', 'Geography', 'Location indicator - code',\n",
       "       'Location indicator', 'Incorporation status - code',\n",
       "       'Incorporation status', 'Reference year',\n",
       "       'Percent of profitable businesses', 'Profitable : Total Revenue',\n",
       "       'Profitable : Total Revenue, quality indicator',\n",
       "       'Profitable : Total Expenses',\n",
       "       'Profitable : Total Expenses, quality indicator',\n",
       "       'Profitable : Net Profit', 'Profitable : Net Profit, quality indicator',\n",
       "       'Non-profitable : Total Revenue',\n",
       "       'Non-profitable : Total Revenue, quality indicator',\n",
       "       'Non-profitable : Total expenses',\n",
       "       'Non-profitable : Total expenses, quality indicator',\n",
       "       'Non-profitable : Net loss',\n",
       "       'Non-profitable : Net loss, quality indicator'],\n",
       "      dtype='object')"
      ]
     },
     "execution_count": 27,
     "metadata": {},
     "output_type": "execute_result"
    }
   ],
   "source": [
    "sb_revenue_tab7_3y.columns"
   ]
  },
  {
   "cell_type": "code",
   "execution_count": 28,
   "id": "c07030b1-0a54-4865-96dd-a1c623937e64",
   "metadata": {},
   "outputs": [],
   "source": [
    "sb_tab7_drop_col = ['ID', 'North American Industry Classification System, NAICS - code', 'Geography - code', \n",
    "                    'Location indicator - code', 'Incorporation status - code', 'Incorporation status', \n",
    "                    'Profitable : Total Revenue, quality indicator', 'Profitable : Total Expenses, quality indicator',\n",
    "                    'Profitable : Net Profit, quality indicator', 'Non-profitable : Total Revenue, quality indicator',\n",
    "                    'Non-profitable : Total expenses, quality indicator', 'Non-profitable : Net loss, quality indicator']"
   ]
  },
  {
   "cell_type": "code",
   "execution_count": 29,
   "id": "146b1efb-015d-43bb-98f9-8f596b785a25",
   "metadata": {},
   "outputs": [],
   "source": [
    "sb_revenue_tab7_3y = sb_revenue_tab7_3y.drop(columns = sb_tab7_drop_col, axis=1)"
   ]
  },
  {
   "cell_type": "code",
   "execution_count": 30,
   "id": "ffc239a8-65de-4b7c-b89a-df7a4360b731",
   "metadata": {},
   "outputs": [
    {
     "data": {
      "text/plain": [
       "Index(['North American Industry Classification System, NAICS', 'Geography',\n",
       "       'Location indicator', 'Reference year',\n",
       "       'Percent of profitable businesses', 'Profitable : Total Revenue',\n",
       "       'Profitable : Total Expenses', 'Profitable : Net Profit',\n",
       "       'Non-profitable : Total Revenue', 'Non-profitable : Total expenses',\n",
       "       'Non-profitable : Net loss'],\n",
       "      dtype='object')"
      ]
     },
     "execution_count": 30,
     "metadata": {},
     "output_type": "execute_result"
    }
   ],
   "source": [
    "sb_revenue_tab7_3y.columns"
   ]
  },
  {
   "cell_type": "code",
   "execution_count": 31,
   "id": "4421b69e-ba7d-4706-982d-a3594283eda1",
   "metadata": {},
   "outputs": [
    {
     "data": {
      "text/plain": [
       "North American Industry Classification System, NAICS     object\n",
       "Geography                                                object\n",
       "Location indicator                                       object\n",
       "Reference year                                           string\n",
       "Percent of profitable businesses                        float64\n",
       "Profitable : Total Revenue                              float64\n",
       "Profitable : Total Expenses                             float64\n",
       "Profitable : Net Profit                                 float64\n",
       "Non-profitable : Total Revenue                          float64\n",
       "Non-profitable : Total expenses                         float64\n",
       "Non-profitable : Net loss                               float64\n",
       "dtype: object"
      ]
     },
     "execution_count": 31,
     "metadata": {},
     "output_type": "execute_result"
    }
   ],
   "source": [
    "sb_revenue_tab7_3y['Reference year'] = sb_revenue_tab7_3y['Reference year'].astype('string') \n",
    "sb_revenue_tab7_3y['Percent of profitable businesses'] = sb_revenue_tab7_3y['Percent of profitable businesses'].astype('float64') \n",
    "sb_revenue_tab7_3y['Profitable : Total Revenue'] = sb_revenue_tab7_3y['Profitable : Total Revenue'].astype('float64') \n",
    "sb_revenue_tab7_3y['Profitable : Total Expenses'] = sb_revenue_tab7_3y['Profitable : Total Expenses'].astype('float64') \n",
    "sb_revenue_tab7_3y['Profitable : Net Profit'] = sb_revenue_tab7_3y['Profitable : Net Profit'].astype('float64') \n",
    "sb_revenue_tab7_3y['Non-profitable : Total Revenue'] = sb_revenue_tab7_3y['Non-profitable : Total Revenue'].astype('float64') \n",
    "sb_revenue_tab7_3y['Non-profitable : Total expenses'] = sb_revenue_tab7_3y['Non-profitable : Total expenses'].astype('float64') \n",
    "sb_revenue_tab7_3y['Non-profitable : Net loss'] = sb_revenue_tab7_3y['Non-profitable : Net loss'].astype('float64') \n",
    "\n",
    "sb_revenue_tab7_3y.dtypes"
   ]
  },
  {
   "cell_type": "code",
   "execution_count": 32,
   "id": "56f7e2cf-5c7d-4b6a-bbcd-4a804f4b35a5",
   "metadata": {},
   "outputs": [],
   "source": [
    "sb_revenue_tab7_3y = sb_revenue_tab7_3y.loc[~sb_revenue_tab7_3y.Geography.isin(rm_geo)]\n"
   ]
  },
  {
   "cell_type": "code",
   "execution_count": 33,
   "id": "64ffd390-357f-49e5-b68e-2d3cec3d7ae1",
   "metadata": {},
   "outputs": [],
   "source": [
    "sb_revenue_tab7_3y.loc[sb_revenue_tab7_3y.Geography=='Nordwest Territories','Geography'] = 'Northwest Territories'\n"
   ]
  },
  {
   "cell_type": "markdown",
   "id": "99c128e6-ec24-4cc4-9657-cffcfc5c2ce7",
   "metadata": {},
   "source": [
    "### 8. Output excels"
   ]
  },
  {
   "cell_type": "code",
   "execution_count": 34,
   "id": "7cc8e4a9-eeac-4e39-a41a-856c882ce4bb",
   "metadata": {
    "tags": []
   },
   "outputs": [],
   "source": [
    "mb_revenue_tab1_3y.to_excel(\"mb_revenue_tab1_3y.xlsx\") # with NaN"
   ]
  },
  {
   "cell_type": "code",
   "execution_count": 35,
   "id": "d15e70b5-651d-4fda-b8b5-2c1d4ea46e1c",
   "metadata": {},
   "outputs": [],
   "source": [
    "sb_revenue_tab1_3y.to_excel(\"sb_revenue_tab1_3y.xlsx\")"
   ]
  },
  {
   "cell_type": "code",
   "execution_count": 36,
   "id": "56c7f95f-c64d-4426-92f8-8ac14c7ed4c0",
   "metadata": {},
   "outputs": [],
   "source": [
    "sb_revenue_tab7_3y.to_excel(\"sb_revenue_tab7_3y.xlsx\")"
   ]
  },
  {
   "cell_type": "code",
   "execution_count": 37,
   "id": "990e300e-5924-49bd-b078-722d5a14c637",
   "metadata": {},
   "outputs": [
    {
     "data": {
      "text/plain": [
       "(114, 10)"
      ]
     },
     "execution_count": 37,
     "metadata": {},
     "output_type": "execute_result"
    }
   ],
   "source": [
    "mb_revenue_tab1_3y.shape"
   ]
  },
  {
   "cell_type": "code",
   "execution_count": 38,
   "id": "8a2a5ab1-70bd-49e0-9299-ae83c3ba20f8",
   "metadata": {},
   "outputs": [
    {
     "data": {
      "text/plain": [
       "(4617, 12)"
      ]
     },
     "execution_count": 38,
     "metadata": {},
     "output_type": "execute_result"
    }
   ],
   "source": [
    "sb_revenue_tab1_3y.shape"
   ]
  },
  {
   "cell_type": "code",
   "execution_count": 39,
   "id": "62a174f8-ff4a-4fbe-95da-b1d6151e3e3a",
   "metadata": {},
   "outputs": [
    {
     "data": {
      "text/plain": [
       "(0, 12)"
      ]
     },
     "execution_count": 39,
     "metadata": {},
     "output_type": "execute_result"
    }
   ],
   "source": [
    "sb_revenue_tab1_3y[sb_revenue_tab1_3y['Reference year']==2017].shape"
   ]
  },
  {
   "cell_type": "code",
   "execution_count": 40,
   "id": "5bdda8f9-f0b6-460e-8ac7-756b30d45eb2",
   "metadata": {},
   "outputs": [
    {
     "data": {
      "text/plain": [
       "(0, 12)"
      ]
     },
     "execution_count": 40,
     "metadata": {},
     "output_type": "execute_result"
    }
   ],
   "source": [
    "sb_revenue_tab1_3y[sb_revenue_tab1_3y['Reference year']==2018].shape"
   ]
  },
  {
   "cell_type": "code",
   "execution_count": 41,
   "id": "75d7bcef-1eaf-43c2-83aa-d174951220ed",
   "metadata": {},
   "outputs": [
    {
     "data": {
      "text/plain": [
       "(0, 12)"
      ]
     },
     "execution_count": 41,
     "metadata": {},
     "output_type": "execute_result"
    }
   ],
   "source": [
    "sb_revenue_tab1_3y[sb_revenue_tab1_3y['Reference year']==2019].shape"
   ]
  },
  {
   "cell_type": "code",
   "execution_count": 42,
   "id": "64fd8525-eea3-4a3a-b596-9b2c1d120584",
   "metadata": {},
   "outputs": [
    {
     "data": {
      "text/plain": [
       "(1539, 11)"
      ]
     },
     "execution_count": 42,
     "metadata": {},
     "output_type": "execute_result"
    }
   ],
   "source": [
    "sb_revenue_tab7_3y.shape"
   ]
  },
  {
   "cell_type": "code",
   "execution_count": null,
   "id": "5af52780-3b02-4f3e-a6bf-aa1c863311cf",
   "metadata": {},
   "outputs": [],
   "source": []
  },
  {
   "cell_type": "code",
   "execution_count": null,
   "id": "4691ccaa-b404-4406-99e5-a7f3acd5cbd6",
   "metadata": {},
   "outputs": [],
   "source": []
  }
 ],
 "metadata": {
  "kernelspec": {
   "display_name": "Python 3 (ipykernel)",
   "language": "python",
   "name": "python3"
  },
  "language_info": {
   "codemirror_mode": {
    "name": "ipython",
    "version": 3
   },
   "file_extension": ".py",
   "mimetype": "text/x-python",
   "name": "python",
   "nbconvert_exporter": "python",
   "pygments_lexer": "ipython3",
   "version": "3.9.12"
  }
 },
 "nbformat": 4,
 "nbformat_minor": 5
}
